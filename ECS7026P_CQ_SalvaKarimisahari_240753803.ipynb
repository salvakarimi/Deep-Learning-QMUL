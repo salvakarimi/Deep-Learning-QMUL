{
  "cells": [
    {
      "cell_type": "code",
      "execution_count": null,
      "metadata": {
        "colab": {
          "base_uri": "https://localhost:8080/"
        },
        "id": "pJjB9JvpBcYl",
        "outputId": "9a84f01a-1e37-4556-d809-db40347b0be8"
      },
      "outputs": [
        {
          "output_type": "stream",
          "name": "stdout",
          "text": [
            "Requirement already satisfied: tqdm in /usr/local/lib/python3.11/dist-packages (4.67.1)\n"
          ]
        }
      ],
      "source": [
        "! pip install tqdm"
      ]
    },
    {
      "cell_type": "code",
      "execution_count": null,
      "metadata": {
        "id": "5wTv0FvsBcYm"
      },
      "outputs": [],
      "source": [
        "#%matplotlib inline\n",
        "import matplotlib.pyplot as plt\n",
        "import torch\n",
        "import torchvision\n",
        "from torchvision import transforms\n",
        "import torch.nn as nn\n",
        "import torch.nn.functional as F"
      ]
    },
    {
      "cell_type": "markdown",
      "metadata": {
        "id": "SbDUO54d3Tn0"
      },
      "source": [
        "Setting seeds to gget the same results with all runs"
      ]
    },
    {
      "cell_type": "code",
      "execution_count": null,
      "metadata": {
        "id": "pfGlrCQz3XF8"
      },
      "outputs": [],
      "source": [
        "import torch\n",
        "import random\n",
        "import numpy as np\n",
        "\n",
        "def set_seed(seed):\n",
        "    random.seed(seed)\n",
        "    np.random.seed(seed)\n",
        "    torch.manual_seed(seed)\n",
        "    torch.cuda.manual_seed(seed)\n",
        "    torch.backends.cudnn.deterministic = True\n",
        "    torch.backends.cudnn.benchmark = False\n",
        "\n",
        "set_seed(39)"
      ]
    },
    {
      "cell_type": "markdown",
      "metadata": {
        "id": "m0xvaiFrJjb5"
      },
      "source": [
        "# Data Loader"
      ]
    },
    {
      "cell_type": "markdown",
      "metadata": {
        "id": "gsVP9TW_JvpK"
      },
      "source": [
        "\n",
        "Creating a data loader function as seen in the lab examples to load the CIFAR10 dataset to crate the train and test data. Normalization values have been taken from https://www.kaggle.com/code/fanbyprinciple/cifar10-explanation-with-pytorch in order to save time and not iterate over the entire entire dataset.\n",
        "\n"
      ]
    },
    {
      "cell_type": "code",
      "execution_count": null,
      "metadata": {
        "id": "bJd94IduejW2"
      },
      "outputs": [],
      "source": [
        "def load_data_cifar10(batch_size, resize=None):\n",
        "    \"\"\"Download the CIFAR10 dataset and then load it into memory.\"\"\"\n",
        "    trans = [\n",
        "        transforms.ToTensor(),\n",
        "        transforms.Normalize((0.4915, 0.4823, 0.4468),\n",
        "                         (0.2470, 0.2435, 0.2616))\n",
        "    ]\n",
        "    if resize:\n",
        "        trans.insert(0, transforms.Resize(resize))\n",
        "    trans = transforms.Compose(trans)\n",
        "\n",
        "    cifar_train = torchvision.datasets.CIFAR10(\n",
        "        root=\"../data\", train=True, transform=trans, download=True)\n",
        "    cifar_test = torchvision.datasets.CIFAR10(\n",
        "        root=\"../data\", train=False, transform=trans, download=True)\n",
        "\n",
        "    return (\n",
        "        torch.utils.data.DataLoader(cifar_train, batch_size, shuffle=True, num_workers=2, pin_memory=True),\n",
        "        torch.utils.data.DataLoader(cifar_test, batch_size, shuffle=False, num_workers=2, pin_memory=True)\n",
        "    )"
      ]
    },
    {
      "cell_type": "code",
      "execution_count": null,
      "metadata": {
        "colab": {
          "base_uri": "https://localhost:8080/"
        },
        "id": "YD-RI22lJdjD",
        "outputId": "098a3332-f474-42fe-9e54-afde1ba4b0f5"
      },
      "outputs": [
        {
          "output_type": "stream",
          "name": "stderr",
          "text": [
            "100%|██████████| 170M/170M [00:03<00:00, 47.6MB/s]\n"
          ]
        }
      ],
      "source": [
        "batch_size = 128 # Defines the batch size\n",
        "train_iter, test_iter = load_data_cifar10(batch_size) # `train_iter` and `test_iter` are `DataLoader` objects."
      ]
    },
    {
      "cell_type": "code",
      "execution_count": null,
      "metadata": {
        "colab": {
          "base_uri": "https://localhost:8080/"
        },
        "id": "FNHdcTO_KOmh",
        "outputId": "ef7eea0c-a5d1-432f-e6ab-dd4d5146c4a6"
      },
      "outputs": [
        {
          "output_type": "stream",
          "name": "stdout",
          "text": [
            "torch.Size([128, 3, 32, 32])\n",
            "torch.Size([128])\n"
          ]
        }
      ],
      "source": [
        "X, y = next(iter(train_iter)) # Requests the first training batch\n",
        "print(X.size()) # 256 images per batch. Each image is represented by a 3 x 32 x 32 tensor (number of channels x height x width)\n",
        "print(y.size()) # 256 targets. Each target is a number between 0 and 9. The classification problem has 10 clases."
      ]
    },
    {
      "cell_type": "code",
      "execution_count": null,
      "metadata": {
        "colab": {
          "base_uri": "https://localhost:8080/"
        },
        "id": "si41rOKyDgSg",
        "outputId": "6cfb3b1a-7d0a-4330-deb3-a3f6a47304ed"
      },
      "outputs": [
        {
          "output_type": "stream",
          "name": "stdout",
          "text": [
            "(50000, 32, 32, 3)\n",
            "(10000, 32, 32, 3)\n"
          ]
        }
      ],
      "source": [
        "print(train_iter.dataset.data.shape)\n",
        "print(test_iter.dataset.data.shape)"
      ]
    },
    {
      "cell_type": "markdown",
      "metadata": {
        "id": "gJGEdmU2D3vo"
      },
      "source": [
        "# Basic Neural network architecture"
      ]
    },
    {
      "cell_type": "markdown",
      "metadata": {
        "id": "WJSxPLZzEF7d"
      },
      "source": [
        "## building the intermediate blocks"
      ]
    },
    {
      "cell_type": "markdown",
      "metadata": {
        "id": "jtbWbbITXq41"
      },
      "source": [
        "For a given input image tensor x:\n",
        "\n",
        "It passes x through L convolutional layers (each with its own hyperparameters).\n",
        "\n",
        "It computes the mean per channel of x as vector m (size = number of channels).\n",
        "\n",
        "It passes m through a fully connected (FC) layer to get L scalar weights [a1, a2, ..., aL].\n",
        "\n",
        "The output is the weighted sum of the outputs of each CNN layer:\n",
        "\n",
        "$$ x' = \\sum_{i=1}^L a_i.C_i(x)$$"
      ]
    },
    {
      "cell_type": "code",
      "execution_count": null,
      "metadata": {
        "id": "7ZHsJGyE-DIB"
      },
      "outputs": [],
      "source": [
        "class IntermediateBlock(nn.Module):\n",
        "    def __init__(self, in_channels, out_channels, conv_params_list):\n",
        "        \"\"\"\n",
        "        in_channels: number of channels in the input image\n",
        "        out_channels: number of output channels for each conv layer\n",
        "        conv_params_list: list of dicts, one per conv layer, each specifying 'kernel_size', 'stride', etc.\n",
        "        \"\"\"\n",
        "        super().__init__()\n",
        "        self.L = len(conv_params_list)\n",
        "\n",
        "        # create L convolutional layers\n",
        "        self.convs = nn.ModuleList([\n",
        "            nn.Sequential(\n",
        "                nn.Conv2d(in_channels, out_channels, **params),\n",
        "                nn.BatchNorm2d(out_channels),\n",
        "                nn.ReLU()\n",
        "            ) for params in conv_params_list\n",
        "        ])\n",
        "\n",
        "\n",
        "        # fully connected layer to compute weights a1, ..., aL\n",
        "        self.fc = nn.Linear(in_channels, self.L)\n",
        "\n",
        "    def forward(self, x):\n",
        "        batch_size = x.shape[0]\n",
        "\n",
        "        # apply each convolution layer to the input, shape will be [B, C_out, H, W]\n",
        "        conv_outputs = [conv(x) for conv in self.convs]\n",
        "\n",
        "        # checking shapes match\n",
        "        out_shapes = [out.shape for out in conv_outputs]\n",
        "        assert all(s == out_shapes[0] for s in out_shapes), \"conv outputs must have same shape\"\n",
        "\n",
        "        # computing channel-wise mean of input image x to use as input for the fuly connected layer, shape will be [B, C_in]\n",
        "        m = x.mean(dim=[2, 3])\n",
        "\n",
        "        # weights a = [a1, ..., aL], shape: [B, L]\n",
        "        a = self.fc(m)\n",
        "         # normalize weights to sum to 1\n",
        "        a = F.softmax(a, dim=1)\n",
        "\n",
        "        # weighted sum of conv outputs\n",
        "        weighted_sum = sum(a[:, i].view(batch_size, 1, 1, 1) * conv_outputs[i]\n",
        "                           for i in range(self.L))\n",
        "\n",
        "        return weighted_sum"
      ]
    },
    {
      "cell_type": "markdown",
      "metadata": {
        "id": "6E7Rgi02nNsh"
      },
      "source": [
        "## Defining the output block"
      ]
    },
    {
      "cell_type": "markdown",
      "metadata": {
        "id": "lLcJa_xPnStv"
      },
      "source": [
        "Takes image x (shape [B, C, H, W])\n",
        "\n",
        "Computes per-channel mean → vector m (shape [B, C])\n",
        "\n",
        "Feeds m into a sequence of fully connecected layers\n",
        "\n",
        "Final output: 10-dimensional logits (one per class)"
      ]
    },
    {
      "cell_type": "code",
      "execution_count": null,
      "metadata": {
        "id": "0jzVZeUUm6tP"
      },
      "outputs": [],
      "source": [
        "class OutputBlock(nn.Module):\n",
        "    def __init__(self, in_channels, hidden_units=64, num_classes=10):\n",
        "        super().__init__()\n",
        "        self.fc_layers = nn.Sequential(\n",
        "            nn.Linear(in_channels, hidden_units),\n",
        "            nn.ReLU(),\n",
        "            nn.Linear(hidden_units, num_classes)\n",
        "        )\n",
        "\n",
        "    def forward(self, x):\n",
        "        # x: [B, C, H, W]\n",
        "        m = x.mean(dim=[2, 3])  # shape: [B, C]\n",
        "        return self.fc_layers(m)  # shape: [B, 10]"
      ]
    },
    {
      "cell_type": "markdown",
      "metadata": {
        "id": "CmUg4JGToyg_"
      },
      "source": [
        "## Defining the model class"
      ]
    },
    {
      "cell_type": "code",
      "execution_count": null,
      "metadata": {
        "id": "NSp8BOYlowPM"
      },
      "outputs": [],
      "source": [
        "class CIFAR10CustomNet(nn.Module):\n",
        "    def __init__(self,\n",
        "                 in_channels=3,\n",
        "                 num_blocks=3,\n",
        "                 conv_params_per_block=None,\n",
        "                 out_channels_per_block=16,\n",
        "                 output_hidden_units=64):\n",
        "        \"\"\"\n",
        "        conv_params_per_block: list of lists of conv param dicts, one list per block\n",
        "        \"\"\"\n",
        "        super().__init__()\n",
        "        self.blocks = nn.ModuleList()\n",
        "\n",
        "        current_channels = in_channels\n",
        "        for block_idx in range(num_blocks):\n",
        "            conv_params = conv_params_per_block[block_idx]\n",
        "            block = IntermediateBlock(current_channels, out_channels_per_block, conv_params)\n",
        "            self.blocks.append(block)\n",
        "            # output shape becomes input to next block\n",
        "            current_channels = out_channels_per_block\n",
        "\n",
        "        self.output_block = OutputBlock(in_channels=current_channels,\n",
        "                                        hidden_units=output_hidden_units)\n",
        "\n",
        "    def forward(self, x):\n",
        "        for block in self.blocks:\n",
        "            x = block(x)\n",
        "        out = self.output_block(x)\n",
        "        return out  # logits shape: [B, 10]\n"
      ]
    },
    {
      "cell_type": "markdown",
      "metadata": {
        "id": "bhdAxAwopjzn"
      },
      "source": [
        "accuracy function"
      ]
    },
    {
      "cell_type": "code",
      "execution_count": null,
      "metadata": {
        "id": "-4x905X-pbHS"
      },
      "outputs": [],
      "source": [
        "def accuracy(y_hat, y):\n",
        "    \"\"\"Compute number of correct predictions\"\"\"\n",
        "    preds = y_hat.argmax(dim=1)\n",
        "    return (preds == y).sum().item()"
      ]
    },
    {
      "cell_type": "markdown",
      "metadata": {
        "id": "CfaS_vAZposq"
      },
      "source": [
        "##Training function"
      ]
    },
    {
      "cell_type": "code",
      "execution_count": null,
      "metadata": {
        "id": "qGpBMMObpoGR"
      },
      "outputs": [],
      "source": [
        "from tqdm import tqdm\n",
        "def train_epoch(model, train_loader, loss_fn, optimizer, device):\n",
        "    model.train()\n",
        "    total_loss = 0\n",
        "    total_correct = 0\n",
        "    total_samples = 0\n",
        "    batch_losses = []\n",
        "\n",
        "    progress_bar = tqdm(train_loader, desc=\"Training Batches\", leave=False)\n",
        "\n",
        "\n",
        "    for X, y in progress_bar :\n",
        "        X, y = X.to(device), y.to(device)\n",
        "\n",
        "        optimizer.zero_grad()\n",
        "        y_hat = model(X)\n",
        "        loss = loss_fn(y_hat, y)\n",
        "        loss.backward()\n",
        "        optimizer.step()\n",
        "\n",
        "        batch_losses.append(loss.item())\n",
        "        total_loss += loss.item() * X.shape[0]\n",
        "        total_correct += accuracy(y_hat, y)\n",
        "        total_samples += X.shape[0]\n",
        "\n",
        "    avg_loss = total_loss / total_samples\n",
        "    train_acc = total_correct / total_samples\n",
        "    return avg_loss, train_acc, batch_losses"
      ]
    },
    {
      "cell_type": "markdown",
      "metadata": {
        "id": "3lJxKO0hrx1M"
      },
      "source": [
        "## Evaluation function"
      ]
    },
    {
      "cell_type": "code",
      "execution_count": null,
      "metadata": {
        "id": "DCadwaWcrtuR"
      },
      "outputs": [],
      "source": [
        "def evaluate(model, test_loader, loss_fn, device):\n",
        "    model.eval()\n",
        "    total_loss = 0\n",
        "    total_correct = 0\n",
        "    total_samples = 0\n",
        "\n",
        "    with torch.no_grad():\n",
        "        for X, y in test_loader:\n",
        "            X, y = X.to(device), y.to(device)\n",
        "            y_hat = model(X)\n",
        "            loss = loss_fn(y_hat, y)\n",
        "\n",
        "            total_loss += loss.item() * X.shape[0]\n",
        "            total_correct += accuracy(y_hat, y)\n",
        "            total_samples += X.shape[0]\n",
        "\n",
        "    avg_loss = total_loss / total_samples\n",
        "    test_acc = total_correct / total_samples\n",
        "    return avg_loss, test_acc\n"
      ]
    },
    {
      "cell_type": "markdown",
      "metadata": {
        "id": "uX0-7_ziuZ7y"
      },
      "source": [
        "Plots"
      ]
    },
    {
      "cell_type": "code",
      "execution_count": null,
      "metadata": {
        "id": "Po1TV0Hzub-u"
      },
      "outputs": [],
      "source": [
        "import matplotlib.pyplot as plt\n",
        "\n",
        "def plot_batch_losses(batch_losses):\n",
        "    plt.figure(figsize=(10, 4))\n",
        "    plt.plot(batch_losses, label='Training Loss (per batch)')\n",
        "    plt.xlabel('Batch')\n",
        "    plt.ylabel('Loss')\n",
        "    plt.title('Training Loss per Batch')\n",
        "    plt.legend()\n",
        "    plt.grid(True)\n",
        "    plt.show()\n",
        "\n",
        "def plot_epoch_accuracies(train_acc, test_acc):\n",
        "    epochs = list(range(1, len(train_acc) + 1))\n",
        "    plt.figure(figsize=(10, 4))\n",
        "    plt.plot(epochs, train_acc, label='Training Accuracy')\n",
        "    plt.plot(epochs, test_acc, label='Testing Accuracy')\n",
        "    plt.xlabel('Epoch')\n",
        "    plt.ylabel('Accuracy')\n",
        "    plt.title('Training and Testing Accuracy per Epoch')\n",
        "    plt.legend()\n",
        "    plt.grid(True)\n",
        "    plt.show()\n"
      ]
    },
    {
      "cell_type": "markdown",
      "metadata": {
        "id": "qt8ZBbbguIQv"
      },
      "source": [
        "## Training loop"
      ]
    },
    {
      "cell_type": "code",
      "execution_count": null,
      "metadata": {
        "id": "sl6N54GbtrL0"
      },
      "outputs": [],
      "source": [
        "\n",
        "def train_model(model, train_loader, test_loader, device,\n",
        "                num_epochs=100, lr=0.001):\n",
        "    model.to(device)\n",
        "    loss_fn = nn.CrossEntropyLoss()\n",
        "    optimizer = torch.optim.Adam(model.parameters(), lr=lr)\n",
        "\n",
        "    history = {\n",
        "        'train_loss': [],\n",
        "        'test_loss': [],\n",
        "        'train_acc': [],\n",
        "        'test_acc': [],\n",
        "        'batch_losses': []\n",
        "    }\n",
        "\n",
        "    for epoch in range(num_epochs):\n",
        "        train_loss, train_acc, batch_losses = train_epoch(model, train_loader, loss_fn, optimizer, device)\n",
        "        test_loss, test_acc = evaluate(model, test_loader, loss_fn, device)\n",
        "\n",
        "        history['train_loss'].append(train_loss)\n",
        "        history['test_loss'].append(test_loss)\n",
        "        history['train_acc'].append(train_acc)\n",
        "        history['test_acc'].append(test_acc)\n",
        "        history['batch_losses'].extend(batch_losses)\n",
        "\n",
        "        print(f\"Epoch {epoch+1}: \"\n",
        "              f\"Train Loss={train_loss:.4f}, Train Acc={train_acc:.4f}, \"\n",
        "              f\"Test Loss={test_loss:.4f}, Test Acc={test_acc:.4f}\")\n",
        "\n",
        "    # Plotting after training completes\n",
        "    plot_batch_losses(history['batch_losses'])\n",
        "    plot_epoch_accuracies(history['train_acc'], history['test_acc'])\n",
        "\n",
        "    # Print best test accuracy\n",
        "    best_test_acc = max(history['test_acc'])\n",
        "    print(f\"\\n Best Testing Accuracy: {best_test_acc:.4f}\")\n",
        "\n",
        "    return history\n"
      ]
    },
    {
      "cell_type": "markdown",
      "metadata": {
        "id": "us_MQlDjvK0N"
      },
      "source": [
        "## Running standard architercture"
      ]
    },
    {
      "cell_type": "code",
      "execution_count": null,
      "metadata": {
        "colab": {
          "base_uri": "https://localhost:8080/",
          "height": 1000
        },
        "id": "p21j3rncuOaQ",
        "outputId": "0feec672-aa7a-4278-8ec2-14d89cf91d05"
      },
      "outputs": [
        {
          "name": "stderr",
          "output_type": "stream",
          "text": []
        },
        {
          "name": "stdout",
          "output_type": "stream",
          "text": [
            "Epoch 1: Train Loss=1.6203, Train Acc=0.3910, Test Loss=1.7224, Test Acc=0.4088\n"
          ]
        },
        {
          "name": "stderr",
          "output_type": "stream",
          "text": []
        },
        {
          "name": "stdout",
          "output_type": "stream",
          "text": [
            "Epoch 2: Train Loss=1.2135, Train Acc=0.5542, Test Loss=1.4598, Test Acc=0.4810\n"
          ]
        },
        {
          "name": "stderr",
          "output_type": "stream",
          "text": []
        },
        {
          "name": "stdout",
          "output_type": "stream",
          "text": [
            "Epoch 3: Train Loss=1.0389, Train Acc=0.6240, Test Loss=1.1364, Test Acc=0.5836\n"
          ]
        },
        {
          "name": "stderr",
          "output_type": "stream",
          "text": []
        },
        {
          "name": "stdout",
          "output_type": "stream",
          "text": [
            "Epoch 4: Train Loss=0.9291, Train Acc=0.6669, Test Loss=1.1037, Test Acc=0.6053\n"
          ]
        },
        {
          "name": "stderr",
          "output_type": "stream",
          "text": []
        },
        {
          "name": "stdout",
          "output_type": "stream",
          "text": [
            "Epoch 5: Train Loss=0.8532, Train Acc=0.6948, Test Loss=1.0350, Test Acc=0.6363\n"
          ]
        },
        {
          "name": "stderr",
          "output_type": "stream",
          "text": []
        },
        {
          "name": "stdout",
          "output_type": "stream",
          "text": [
            "Epoch 6: Train Loss=0.7964, Train Acc=0.7148, Test Loss=1.2773, Test Acc=0.5868\n"
          ]
        },
        {
          "name": "stderr",
          "output_type": "stream",
          "text": []
        },
        {
          "name": "stdout",
          "output_type": "stream",
          "text": [
            "Epoch 7: Train Loss=0.7442, Train Acc=0.7332, Test Loss=1.3521, Test Acc=0.5509\n"
          ]
        },
        {
          "name": "stderr",
          "output_type": "stream",
          "text": []
        },
        {
          "name": "stdout",
          "output_type": "stream",
          "text": [
            "Epoch 8: Train Loss=0.7043, Train Acc=0.7490, Test Loss=0.8992, Test Acc=0.6882\n"
          ]
        },
        {
          "name": "stderr",
          "output_type": "stream",
          "text": []
        },
        {
          "name": "stdout",
          "output_type": "stream",
          "text": [
            "Epoch 9: Train Loss=0.6680, Train Acc=0.7620, Test Loss=0.9353, Test Acc=0.6722\n"
          ]
        },
        {
          "name": "stderr",
          "output_type": "stream",
          "text": []
        },
        {
          "name": "stdout",
          "output_type": "stream",
          "text": [
            "Epoch 10: Train Loss=0.6373, Train Acc=0.7740, Test Loss=1.0110, Test Acc=0.6747\n"
          ]
        },
        {
          "name": "stderr",
          "output_type": "stream",
          "text": []
        },
        {
          "name": "stdout",
          "output_type": "stream",
          "text": [
            "Epoch 11: Train Loss=0.6091, Train Acc=0.7832, Test Loss=0.9043, Test Acc=0.6979\n"
          ]
        },
        {
          "name": "stderr",
          "output_type": "stream",
          "text": []
        },
        {
          "name": "stdout",
          "output_type": "stream",
          "text": [
            "Epoch 12: Train Loss=0.5862, Train Acc=0.7932, Test Loss=0.7276, Test Acc=0.7492\n"
          ]
        },
        {
          "name": "stderr",
          "output_type": "stream",
          "text": []
        },
        {
          "name": "stdout",
          "output_type": "stream",
          "text": [
            "Epoch 13: Train Loss=0.5600, Train Acc=0.8015, Test Loss=1.1413, Test Acc=0.6450\n"
          ]
        },
        {
          "name": "stderr",
          "output_type": "stream",
          "text": []
        },
        {
          "name": "stdout",
          "output_type": "stream",
          "text": [
            "Epoch 14: Train Loss=0.5358, Train Acc=0.8095, Test Loss=1.1510, Test Acc=0.6415\n"
          ]
        },
        {
          "name": "stderr",
          "output_type": "stream",
          "text": []
        },
        {
          "name": "stdout",
          "output_type": "stream",
          "text": [
            "Epoch 15: Train Loss=0.5191, Train Acc=0.8152, Test Loss=0.9219, Test Acc=0.6962\n"
          ]
        },
        {
          "name": "stderr",
          "output_type": "stream",
          "text": []
        },
        {
          "name": "stdout",
          "output_type": "stream",
          "text": [
            "Epoch 16: Train Loss=0.4976, Train Acc=0.8243, Test Loss=0.9756, Test Acc=0.6834\n"
          ]
        },
        {
          "name": "stderr",
          "output_type": "stream",
          "text": []
        },
        {
          "name": "stdout",
          "output_type": "stream",
          "text": [
            "Epoch 17: Train Loss=0.4805, Train Acc=0.8293, Test Loss=0.8363, Test Acc=0.7210\n"
          ]
        },
        {
          "name": "stderr",
          "output_type": "stream",
          "text": []
        },
        {
          "name": "stdout",
          "output_type": "stream",
          "text": [
            "Epoch 18: Train Loss=0.4663, Train Acc=0.8354, Test Loss=1.0254, Test Acc=0.6786\n"
          ]
        },
        {
          "name": "stderr",
          "output_type": "stream",
          "text": []
        },
        {
          "name": "stdout",
          "output_type": "stream",
          "text": [
            "Epoch 19: Train Loss=0.4518, Train Acc=0.8398, Test Loss=0.8607, Test Acc=0.7178\n"
          ]
        },
        {
          "name": "stderr",
          "output_type": "stream",
          "text": []
        },
        {
          "name": "stdout",
          "output_type": "stream",
          "text": [
            "Epoch 20: Train Loss=0.4327, Train Acc=0.8486, Test Loss=0.9570, Test Acc=0.7102\n"
          ]
        },
        {
          "name": "stderr",
          "output_type": "stream",
          "text": []
        },
        {
          "name": "stdout",
          "output_type": "stream",
          "text": [
            "Epoch 21: Train Loss=0.4218, Train Acc=0.8523, Test Loss=1.1376, Test Acc=0.6808\n"
          ]
        },
        {
          "name": "stderr",
          "output_type": "stream",
          "text": []
        },
        {
          "name": "stdout",
          "output_type": "stream",
          "text": [
            "Epoch 22: Train Loss=0.4048, Train Acc=0.8569, Test Loss=1.0274, Test Acc=0.6917\n"
          ]
        },
        {
          "name": "stderr",
          "output_type": "stream",
          "text": []
        },
        {
          "name": "stdout",
          "output_type": "stream",
          "text": [
            "Epoch 23: Train Loss=0.3985, Train Acc=0.8585, Test Loss=0.8496, Test Acc=0.7277\n"
          ]
        },
        {
          "name": "stderr",
          "output_type": "stream",
          "text": []
        },
        {
          "name": "stdout",
          "output_type": "stream",
          "text": [
            "Epoch 24: Train Loss=0.3774, Train Acc=0.8646, Test Loss=1.3976, Test Acc=0.6406\n"
          ]
        },
        {
          "name": "stderr",
          "output_type": "stream",
          "text": []
        },
        {
          "name": "stdout",
          "output_type": "stream",
          "text": [
            "Epoch 25: Train Loss=0.3701, Train Acc=0.8692, Test Loss=0.7622, Test Acc=0.7639\n"
          ]
        },
        {
          "name": "stderr",
          "output_type": "stream",
          "text": []
        },
        {
          "name": "stdout",
          "output_type": "stream",
          "text": [
            "Epoch 26: Train Loss=0.3549, Train Acc=0.8746, Test Loss=1.7836, Test Acc=0.5758\n"
          ]
        },
        {
          "name": "stderr",
          "output_type": "stream",
          "text": []
        },
        {
          "name": "stdout",
          "output_type": "stream",
          "text": [
            "Epoch 27: Train Loss=0.3412, Train Acc=0.8791, Test Loss=1.8257, Test Acc=0.5918\n"
          ]
        },
        {
          "name": "stderr",
          "output_type": "stream",
          "text": []
        },
        {
          "name": "stdout",
          "output_type": "stream",
          "text": [
            "Epoch 28: Train Loss=0.3336, Train Acc=0.8808, Test Loss=1.0256, Test Acc=0.7114\n"
          ]
        },
        {
          "name": "stderr",
          "output_type": "stream",
          "text": []
        },
        {
          "name": "stdout",
          "output_type": "stream",
          "text": [
            "Epoch 29: Train Loss=0.3239, Train Acc=0.8856, Test Loss=0.8443, Test Acc=0.7505\n"
          ]
        },
        {
          "name": "stderr",
          "output_type": "stream",
          "text": []
        },
        {
          "name": "stdout",
          "output_type": "stream",
          "text": [
            "Epoch 30: Train Loss=0.3103, Train Acc=0.8899, Test Loss=1.0003, Test Acc=0.7148\n"
          ]
        },
        {
          "name": "stderr",
          "output_type": "stream",
          "text": []
        },
        {
          "name": "stdout",
          "output_type": "stream",
          "text": [
            "Epoch 31: Train Loss=0.3027, Train Acc=0.8918, Test Loss=1.0321, Test Acc=0.7165\n"
          ]
        },
        {
          "name": "stderr",
          "output_type": "stream",
          "text": []
        },
        {
          "name": "stdout",
          "output_type": "stream",
          "text": [
            "Epoch 32: Train Loss=0.2938, Train Acc=0.8951, Test Loss=1.5345, Test Acc=0.6365\n"
          ]
        },
        {
          "name": "stderr",
          "output_type": "stream",
          "text": []
        },
        {
          "name": "stdout",
          "output_type": "stream",
          "text": [
            "Epoch 33: Train Loss=0.2833, Train Acc=0.8999, Test Loss=0.9872, Test Acc=0.7225\n"
          ]
        },
        {
          "name": "stderr",
          "output_type": "stream",
          "text": []
        },
        {
          "name": "stdout",
          "output_type": "stream",
          "text": [
            "Epoch 34: Train Loss=0.2718, Train Acc=0.9023, Test Loss=1.7175, Test Acc=0.6214\n"
          ]
        },
        {
          "name": "stderr",
          "output_type": "stream",
          "text": []
        },
        {
          "name": "stdout",
          "output_type": "stream",
          "text": [
            "Epoch 35: Train Loss=0.2648, Train Acc=0.9054, Test Loss=1.6397, Test Acc=0.6511\n"
          ]
        },
        {
          "name": "stderr",
          "output_type": "stream",
          "text": []
        },
        {
          "name": "stdout",
          "output_type": "stream",
          "text": [
            "Epoch 36: Train Loss=0.2553, Train Acc=0.9086, Test Loss=1.1814, Test Acc=0.7104\n"
          ]
        },
        {
          "name": "stderr",
          "output_type": "stream",
          "text": []
        },
        {
          "name": "stdout",
          "output_type": "stream",
          "text": [
            "Epoch 37: Train Loss=0.2477, Train Acc=0.9132, Test Loss=1.1971, Test Acc=0.7032\n"
          ]
        },
        {
          "name": "stderr",
          "output_type": "stream",
          "text": []
        },
        {
          "name": "stdout",
          "output_type": "stream",
          "text": [
            "Epoch 38: Train Loss=0.2402, Train Acc=0.9144, Test Loss=1.3234, Test Acc=0.6810\n"
          ]
        },
        {
          "name": "stderr",
          "output_type": "stream",
          "text": []
        },
        {
          "name": "stdout",
          "output_type": "stream",
          "text": [
            "Epoch 39: Train Loss=0.2312, Train Acc=0.9171, Test Loss=0.7349, Test Acc=0.7899\n"
          ]
        },
        {
          "name": "stderr",
          "output_type": "stream",
          "text": []
        },
        {
          "name": "stdout",
          "output_type": "stream",
          "text": [
            "Epoch 40: Train Loss=0.2254, Train Acc=0.9197, Test Loss=0.7602, Test Acc=0.7916\n"
          ]
        },
        {
          "name": "stderr",
          "output_type": "stream",
          "text": []
        },
        {
          "name": "stdout",
          "output_type": "stream",
          "text": [
            "Epoch 41: Train Loss=0.2227, Train Acc=0.9204, Test Loss=0.8844, Test Acc=0.7611\n"
          ]
        },
        {
          "name": "stderr",
          "output_type": "stream",
          "text": []
        },
        {
          "name": "stdout",
          "output_type": "stream",
          "text": [
            "Epoch 42: Train Loss=0.2136, Train Acc=0.9227, Test Loss=1.1627, Test Acc=0.7039\n"
          ]
        },
        {
          "name": "stderr",
          "output_type": "stream",
          "text": []
        },
        {
          "name": "stdout",
          "output_type": "stream",
          "text": [
            "Epoch 43: Train Loss=0.1971, Train Acc=0.9287, Test Loss=1.5718, Test Acc=0.6608\n"
          ]
        },
        {
          "name": "stderr",
          "output_type": "stream",
          "text": []
        },
        {
          "name": "stdout",
          "output_type": "stream",
          "text": [
            "Epoch 44: Train Loss=0.1982, Train Acc=0.9289, Test Loss=1.1875, Test Acc=0.7141\n"
          ]
        },
        {
          "name": "stderr",
          "output_type": "stream",
          "text": []
        },
        {
          "name": "stdout",
          "output_type": "stream",
          "text": [
            "Epoch 45: Train Loss=0.1880, Train Acc=0.9335, Test Loss=0.9812, Test Acc=0.7463\n"
          ]
        },
        {
          "name": "stderr",
          "output_type": "stream",
          "text": []
        },
        {
          "name": "stdout",
          "output_type": "stream",
          "text": [
            "Epoch 46: Train Loss=0.1827, Train Acc=0.9345, Test Loss=1.6271, Test Acc=0.6658\n"
          ]
        },
        {
          "name": "stderr",
          "output_type": "stream",
          "text": []
        },
        {
          "name": "stdout",
          "output_type": "stream",
          "text": [
            "Epoch 47: Train Loss=0.1771, Train Acc=0.9353, Test Loss=1.0481, Test Acc=0.7441\n"
          ]
        },
        {
          "name": "stderr",
          "output_type": "stream",
          "text": []
        },
        {
          "name": "stdout",
          "output_type": "stream",
          "text": [
            "Epoch 48: Train Loss=0.1696, Train Acc=0.9390, Test Loss=1.5786, Test Acc=0.6669\n"
          ]
        },
        {
          "name": "stderr",
          "output_type": "stream",
          "text": []
        },
        {
          "name": "stdout",
          "output_type": "stream",
          "text": [
            "Epoch 49: Train Loss=0.1660, Train Acc=0.9407, Test Loss=1.2050, Test Acc=0.7197\n"
          ]
        },
        {
          "name": "stderr",
          "output_type": "stream",
          "text": []
        },
        {
          "name": "stdout",
          "output_type": "stream",
          "text": [
            "Epoch 50: Train Loss=0.1537, Train Acc=0.9448, Test Loss=1.9944, Test Acc=0.6389\n"
          ]
        },
        {
          "name": "stderr",
          "output_type": "stream",
          "text": []
        },
        {
          "name": "stdout",
          "output_type": "stream",
          "text": [
            "Epoch 51: Train Loss=0.1570, Train Acc=0.9425, Test Loss=1.2414, Test Acc=0.7302\n"
          ]
        },
        {
          "name": "stderr",
          "output_type": "stream",
          "text": []
        },
        {
          "name": "stdout",
          "output_type": "stream",
          "text": [
            "Epoch 52: Train Loss=0.1529, Train Acc=0.9445, Test Loss=0.9015, Test Acc=0.7816\n"
          ]
        },
        {
          "name": "stderr",
          "output_type": "stream",
          "text": []
        },
        {
          "name": "stdout",
          "output_type": "stream",
          "text": [
            "Epoch 53: Train Loss=0.1466, Train Acc=0.9472, Test Loss=1.3881, Test Acc=0.7126\n"
          ]
        },
        {
          "name": "stderr",
          "output_type": "stream",
          "text": []
        },
        {
          "name": "stdout",
          "output_type": "stream",
          "text": [
            "Epoch 54: Train Loss=0.1447, Train Acc=0.9470, Test Loss=1.3433, Test Acc=0.7326\n"
          ]
        },
        {
          "name": "stderr",
          "output_type": "stream",
          "text": []
        },
        {
          "name": "stdout",
          "output_type": "stream",
          "text": [
            "Epoch 55: Train Loss=0.1307, Train Acc=0.9522, Test Loss=1.4231, Test Acc=0.7169\n"
          ]
        },
        {
          "name": "stderr",
          "output_type": "stream",
          "text": []
        },
        {
          "name": "stdout",
          "output_type": "stream",
          "text": [
            "Epoch 56: Train Loss=0.1350, Train Acc=0.9509, Test Loss=1.9798, Test Acc=0.6609\n"
          ]
        },
        {
          "name": "stderr",
          "output_type": "stream",
          "text": []
        },
        {
          "name": "stdout",
          "output_type": "stream",
          "text": [
            "Epoch 57: Train Loss=0.1279, Train Acc=0.9542, Test Loss=1.2944, Test Acc=0.7236\n"
          ]
        },
        {
          "name": "stderr",
          "output_type": "stream",
          "text": []
        },
        {
          "name": "stdout",
          "output_type": "stream",
          "text": [
            "Epoch 58: Train Loss=0.1272, Train Acc=0.9537, Test Loss=1.7291, Test Acc=0.6942\n"
          ]
        },
        {
          "name": "stderr",
          "output_type": "stream",
          "text": []
        },
        {
          "name": "stdout",
          "output_type": "stream",
          "text": [
            "Epoch 59: Train Loss=0.1181, Train Acc=0.9576, Test Loss=1.0528, Test Acc=0.7672\n"
          ]
        },
        {
          "name": "stderr",
          "output_type": "stream",
          "text": []
        },
        {
          "name": "stdout",
          "output_type": "stream",
          "text": [
            "Epoch 60: Train Loss=0.1183, Train Acc=0.9572, Test Loss=1.6501, Test Acc=0.7051\n"
          ]
        },
        {
          "name": "stderr",
          "output_type": "stream",
          "text": []
        },
        {
          "name": "stdout",
          "output_type": "stream",
          "text": [
            "Epoch 61: Train Loss=0.1182, Train Acc=0.9570, Test Loss=2.1322, Test Acc=0.6512\n"
          ]
        },
        {
          "name": "stderr",
          "output_type": "stream",
          "text": []
        },
        {
          "name": "stdout",
          "output_type": "stream",
          "text": [
            "Epoch 62: Train Loss=0.1127, Train Acc=0.9588, Test Loss=1.3559, Test Acc=0.7365\n"
          ]
        },
        {
          "name": "stderr",
          "output_type": "stream",
          "text": []
        },
        {
          "name": "stdout",
          "output_type": "stream",
          "text": [
            "Epoch 63: Train Loss=0.1055, Train Acc=0.9620, Test Loss=1.6301, Test Acc=0.7197\n"
          ]
        },
        {
          "name": "stderr",
          "output_type": "stream",
          "text": []
        },
        {
          "name": "stdout",
          "output_type": "stream",
          "text": [
            "Epoch 64: Train Loss=0.0959, Train Acc=0.9658, Test Loss=1.4276, Test Acc=0.7284\n"
          ]
        },
        {
          "name": "stderr",
          "output_type": "stream",
          "text": []
        },
        {
          "name": "stdout",
          "output_type": "stream",
          "text": [
            "Epoch 65: Train Loss=0.1098, Train Acc=0.9594, Test Loss=1.5952, Test Acc=0.7121\n"
          ]
        },
        {
          "name": "stderr",
          "output_type": "stream",
          "text": []
        },
        {
          "name": "stdout",
          "output_type": "stream",
          "text": [
            "Epoch 66: Train Loss=0.0996, Train Acc=0.9639, Test Loss=1.4532, Test Acc=0.7340\n"
          ]
        },
        {
          "name": "stderr",
          "output_type": "stream",
          "text": []
        },
        {
          "name": "stdout",
          "output_type": "stream",
          "text": [
            "Epoch 67: Train Loss=0.1017, Train Acc=0.9635, Test Loss=1.3414, Test Acc=0.7434\n"
          ]
        },
        {
          "name": "stderr",
          "output_type": "stream",
          "text": []
        },
        {
          "name": "stdout",
          "output_type": "stream",
          "text": [
            "Epoch 68: Train Loss=0.0901, Train Acc=0.9677, Test Loss=1.1440, Test Acc=0.7675\n"
          ]
        },
        {
          "name": "stderr",
          "output_type": "stream",
          "text": []
        },
        {
          "name": "stdout",
          "output_type": "stream",
          "text": [
            "Epoch 69: Train Loss=0.0962, Train Acc=0.9651, Test Loss=1.6332, Test Acc=0.7178\n"
          ]
        },
        {
          "name": "stderr",
          "output_type": "stream",
          "text": []
        },
        {
          "name": "stdout",
          "output_type": "stream",
          "text": [
            "Epoch 70: Train Loss=0.0920, Train Acc=0.9672, Test Loss=1.4299, Test Acc=0.7447\n"
          ]
        },
        {
          "name": "stderr",
          "output_type": "stream",
          "text": []
        },
        {
          "name": "stdout",
          "output_type": "stream",
          "text": [
            "Epoch 71: Train Loss=0.0950, Train Acc=0.9647, Test Loss=1.1833, Test Acc=0.7716\n"
          ]
        },
        {
          "name": "stderr",
          "output_type": "stream",
          "text": []
        },
        {
          "name": "stdout",
          "output_type": "stream",
          "text": [
            "Epoch 72: Train Loss=0.0827, Train Acc=0.9705, Test Loss=1.6448, Test Acc=0.7130\n"
          ]
        },
        {
          "name": "stderr",
          "output_type": "stream",
          "text": []
        },
        {
          "name": "stdout",
          "output_type": "stream",
          "text": [
            "Epoch 73: Train Loss=0.0840, Train Acc=0.9705, Test Loss=1.6783, Test Acc=0.7291\n"
          ]
        },
        {
          "name": "stderr",
          "output_type": "stream",
          "text": []
        },
        {
          "name": "stdout",
          "output_type": "stream",
          "text": [
            "Epoch 74: Train Loss=0.0819, Train Acc=0.9713, Test Loss=1.9916, Test Acc=0.6767\n"
          ]
        },
        {
          "name": "stderr",
          "output_type": "stream",
          "text": []
        },
        {
          "name": "stdout",
          "output_type": "stream",
          "text": [
            "Epoch 75: Train Loss=0.0804, Train Acc=0.9710, Test Loss=2.1296, Test Acc=0.6801\n"
          ]
        },
        {
          "name": "stderr",
          "output_type": "stream",
          "text": []
        },
        {
          "name": "stdout",
          "output_type": "stream",
          "text": [
            "Epoch 76: Train Loss=0.0863, Train Acc=0.9681, Test Loss=1.0489, Test Acc=0.7943\n"
          ]
        },
        {
          "name": "stderr",
          "output_type": "stream",
          "text": []
        },
        {
          "name": "stdout",
          "output_type": "stream",
          "text": [
            "Epoch 77: Train Loss=0.0751, Train Acc=0.9740, Test Loss=1.2190, Test Acc=0.7769\n"
          ]
        },
        {
          "name": "stderr",
          "output_type": "stream",
          "text": []
        },
        {
          "name": "stdout",
          "output_type": "stream",
          "text": [
            "Epoch 78: Train Loss=0.0749, Train Acc=0.9722, Test Loss=2.7564, Test Acc=0.6295\n"
          ]
        },
        {
          "name": "stderr",
          "output_type": "stream",
          "text": []
        },
        {
          "name": "stdout",
          "output_type": "stream",
          "text": [
            "Epoch 79: Train Loss=0.0717, Train Acc=0.9740, Test Loss=1.7161, Test Acc=0.7283\n"
          ]
        },
        {
          "name": "stderr",
          "output_type": "stream",
          "text": []
        },
        {
          "name": "stdout",
          "output_type": "stream",
          "text": [
            "Epoch 80: Train Loss=0.0733, Train Acc=0.9738, Test Loss=1.7049, Test Acc=0.7176\n"
          ]
        },
        {
          "name": "stderr",
          "output_type": "stream",
          "text": []
        },
        {
          "name": "stdout",
          "output_type": "stream",
          "text": [
            "Epoch 81: Train Loss=0.0702, Train Acc=0.9745, Test Loss=1.6610, Test Acc=0.7309\n"
          ]
        },
        {
          "name": "stderr",
          "output_type": "stream",
          "text": []
        },
        {
          "name": "stdout",
          "output_type": "stream",
          "text": [
            "Epoch 82: Train Loss=0.0686, Train Acc=0.9753, Test Loss=1.4290, Test Acc=0.7568\n"
          ]
        },
        {
          "name": "stderr",
          "output_type": "stream",
          "text": []
        },
        {
          "name": "stdout",
          "output_type": "stream",
          "text": [
            "Epoch 83: Train Loss=0.0712, Train Acc=0.9734, Test Loss=4.3561, Test Acc=0.5236\n"
          ]
        },
        {
          "name": "stderr",
          "output_type": "stream",
          "text": []
        },
        {
          "name": "stdout",
          "output_type": "stream",
          "text": [
            "Epoch 84: Train Loss=0.0680, Train Acc=0.9754, Test Loss=1.6991, Test Acc=0.7256\n"
          ]
        },
        {
          "name": "stderr",
          "output_type": "stream",
          "text": []
        },
        {
          "name": "stdout",
          "output_type": "stream",
          "text": [
            "Epoch 85: Train Loss=0.0630, Train Acc=0.9777, Test Loss=2.0562, Test Acc=0.6885\n"
          ]
        },
        {
          "name": "stderr",
          "output_type": "stream",
          "text": []
        },
        {
          "name": "stdout",
          "output_type": "stream",
          "text": [
            "Epoch 86: Train Loss=0.0653, Train Acc=0.9759, Test Loss=1.6176, Test Acc=0.7366\n"
          ]
        },
        {
          "name": "stderr",
          "output_type": "stream",
          "text": []
        },
        {
          "name": "stdout",
          "output_type": "stream",
          "text": [
            "Epoch 87: Train Loss=0.0737, Train Acc=0.9737, Test Loss=1.8041, Test Acc=0.7078\n"
          ]
        },
        {
          "name": "stderr",
          "output_type": "stream",
          "text": []
        },
        {
          "name": "stdout",
          "output_type": "stream",
          "text": [
            "Epoch 88: Train Loss=0.0682, Train Acc=0.9750, Test Loss=1.4155, Test Acc=0.7551\n"
          ]
        },
        {
          "name": "stderr",
          "output_type": "stream",
          "text": []
        },
        {
          "name": "stdout",
          "output_type": "stream",
          "text": [
            "Epoch 89: Train Loss=0.0566, Train Acc=0.9802, Test Loss=2.0321, Test Acc=0.6936\n"
          ]
        },
        {
          "name": "stderr",
          "output_type": "stream",
          "text": []
        },
        {
          "name": "stdout",
          "output_type": "stream",
          "text": [
            "Epoch 90: Train Loss=0.0606, Train Acc=0.9787, Test Loss=1.8732, Test Acc=0.7202\n"
          ]
        },
        {
          "name": "stderr",
          "output_type": "stream",
          "text": []
        },
        {
          "name": "stdout",
          "output_type": "stream",
          "text": [
            "Epoch 91: Train Loss=0.0609, Train Acc=0.9787, Test Loss=2.2177, Test Acc=0.6978\n"
          ]
        },
        {
          "name": "stderr",
          "output_type": "stream",
          "text": []
        },
        {
          "name": "stdout",
          "output_type": "stream",
          "text": [
            "Epoch 92: Train Loss=0.0625, Train Acc=0.9776, Test Loss=1.5537, Test Acc=0.7482\n"
          ]
        },
        {
          "name": "stderr",
          "output_type": "stream",
          "text": []
        },
        {
          "name": "stdout",
          "output_type": "stream",
          "text": [
            "Epoch 93: Train Loss=0.0577, Train Acc=0.9796, Test Loss=1.8268, Test Acc=0.7314\n"
          ]
        },
        {
          "name": "stderr",
          "output_type": "stream",
          "text": []
        },
        {
          "name": "stdout",
          "output_type": "stream",
          "text": [
            "Epoch 94: Train Loss=0.0619, Train Acc=0.9775, Test Loss=2.5110, Test Acc=0.6779\n"
          ]
        },
        {
          "name": "stderr",
          "output_type": "stream",
          "text": []
        },
        {
          "name": "stdout",
          "output_type": "stream",
          "text": [
            "Epoch 95: Train Loss=0.0590, Train Acc=0.9786, Test Loss=1.4832, Test Acc=0.7527\n"
          ]
        },
        {
          "name": "stderr",
          "output_type": "stream",
          "text": []
        },
        {
          "name": "stdout",
          "output_type": "stream",
          "text": [
            "Epoch 96: Train Loss=0.0515, Train Acc=0.9814, Test Loss=3.1510, Test Acc=0.6469\n"
          ]
        },
        {
          "name": "stderr",
          "output_type": "stream",
          "text": []
        },
        {
          "name": "stdout",
          "output_type": "stream",
          "text": [
            "Epoch 97: Train Loss=0.0581, Train Acc=0.9790, Test Loss=1.6751, Test Acc=0.7528\n"
          ]
        },
        {
          "name": "stderr",
          "output_type": "stream",
          "text": []
        },
        {
          "name": "stdout",
          "output_type": "stream",
          "text": [
            "Epoch 98: Train Loss=0.0540, Train Acc=0.9810, Test Loss=1.7476, Test Acc=0.7466\n"
          ]
        },
        {
          "name": "stderr",
          "output_type": "stream",
          "text": []
        },
        {
          "name": "stdout",
          "output_type": "stream",
          "text": [
            "Epoch 99: Train Loss=0.0511, Train Acc=0.9815, Test Loss=1.6956, Test Acc=0.7450\n"
          ]
        },
        {
          "name": "stderr",
          "output_type": "stream",
          "text": []
        },
        {
          "name": "stdout",
          "output_type": "stream",
          "text": [
            "Epoch 100: Train Loss=0.0524, Train Acc=0.9819, Test Loss=1.7914, Test Acc=0.7395\n"
          ]
        },
        {
          "data": {
            "image/png": "[encoded data removed]",
            "text/plain": [
              "<Figure size 1000x400 with 1 Axes>"
            ]
          },
          "metadata": {},
          "output_type": "display_data"
        },
        {
          "data": {
            "image/png": "[encoded data removed]",
            "text/plain": [
              "<Figure size 1000x400 with 1 Axes>"
            ]
          },
          "metadata": {},
          "output_type": "display_data"
        },
        {
          "name": "stdout",
          "output_type": "stream",
          "text": [
            "\n",
            " Best Testing Accuracy: 0.7943\n"
          ]
        }
      ],
      "source": [
        "K = 5  # Number of intermediate blocks\n",
        "L = 3  # Number of conv layers per block\n",
        "out_channels_per_block = 32\n",
        "output_hidden_units = 128\n",
        "learning_rate = 0.001\n",
        "num_epochs = 100\n",
        "batch_size = 128\n",
        "\n",
        "# 3 conv layers per block with different kernel sizes\n",
        "conv_params_template = [\n",
        "    {'kernel_size': 3, 'padding': 1},\n",
        "    {'kernel_size': 5, 'padding': 2},\n",
        "    {'kernel_size': 1, 'padding': 0}\n",
        "]\n",
        "\n",
        "# Same template for all K blocks\n",
        "conv_params_per_block = [conv_params_template for _ in range(K)]\n",
        "\n",
        "#initialize model\n",
        "model = CIFAR10CustomNet(\n",
        "    in_channels=3,\n",
        "    num_blocks=K,\n",
        "    conv_params_per_block=conv_params_per_block,\n",
        "    out_channels_per_block=out_channels_per_block,\n",
        "    output_hidden_units=output_hidden_units\n",
        ")\n",
        "\n",
        "#run training\n",
        "train_iter, test_iter = load_data_cifar10(batch_size)\n",
        "device = torch.device('cuda' if torch.cuda.is_available() else 'gpu')\n",
        "\n",
        "history = train_model(\n",
        "    model, train_iter, test_iter, device,\n",
        "    num_epochs=num_epochs,\n",
        "    lr=learning_rate\n",
        ")"
      ]
    },
    {
      "cell_type": "markdown",
      "metadata": {
        "id": "1gksVpCoGQQH"
      },
      "source": [
        "# Improvements"
      ]
    },
    {
      "cell_type": "markdown",
      "metadata": {
        "id": "zY1x2iYGKXvF"
      },
      "source": [
        "Step by step strategy to improve\\\n",
        "Step 1:\n",
        "\n",
        "* The model appeared to be overfitting, so adding dropout layers might be a good practice.\n",
        "* Weight decay that was mentioned as a regularization method in week 6 will encourage smaller weights as it adds the weights to the loss function and encourages smaller (positive or negative) weights.\n",
        "\n",
        "Step 2:\n",
        "* trying K = 6, L = 4, out_channels=64 might enrich the representation\n",
        "* using inspiration from VGG by using consistent and small 3*3 filters\n",
        "* trying different drpout rates or fc hidden sizes"
      ]
    },
    {
      "cell_type": "markdown",
      "metadata": {
        "id": "lVCys2DXP3mE"
      },
      "source": [
        "## Improvements round 1"
      ]
    },
    {
      "cell_type": "code",
      "execution_count": null,
      "metadata": {
        "id": "40NFhF-iP3Ic"
      },
      "outputs": [],
      "source": [
        "\"\"\"\n",
        "# modifying ouput block to have dropout\n",
        "class OutputBlock(nn.Module):\n",
        "    def __init__(self, in_channels, hidden_units=128, num_classes=10, dropout_p=0.3):\n",
        "        super().__init__()\n",
        "        self.fc_layers = nn.Sequential(\n",
        "            nn.Linear(in_channels, hidden_units),\n",
        "            nn.ReLU(),\n",
        "            #dropout added\n",
        "            nn.Dropout(p=dropout_p),\n",
        "            nn.Linear(hidden_units, num_classes)\n",
        "        )\n",
        "\n",
        "    def forward(self, x):\n",
        "        m = x.mean(dim=[2, 3])  # Average over H and W\n",
        "        return self.fc_layers(m)\n",
        "\n",
        "# update optimizer with weight decay\n",
        "def train_model(model, train_loader, test_loader, device,\n",
        "                num_epochs=100, lr=0.001):\n",
        "    model.to(device)\n",
        "    loss_fn = nn.CrossEntropyLoss()\n",
        "    optimizer = torch.optim.Adam(model.parameters(), lr=0.001, weight_decay=5e-4)\n",
        "\n",
        "\n",
        "    history = {\n",
        "        'train_loss': [],\n",
        "        'test_loss': [],\n",
        "        'train_acc': [],\n",
        "        'test_acc': [],\n",
        "        'batch_losses': []\n",
        "    }\n",
        "\n",
        "    for epoch in range(num_epochs):\n",
        "        train_loss, train_acc, batch_losses = train_epoch(model, train_loader, loss_fn, optimizer, device)\n",
        "        test_loss, test_acc = evaluate(model, test_loader, loss_fn, device)\n",
        "\n",
        "        history['train_loss'].append(train_loss)\n",
        "        history['test_loss'].append(test_loss)\n",
        "        history['train_acc'].append(train_acc)\n",
        "        history['test_acc'].append(test_acc)\n",
        "        history['batch_losses'].extend(batch_losses)\n",
        "\n",
        "        print(f\"Epoch {epoch+1}: \"\n",
        "              f\"Train Loss={train_loss:.4f}, Train Acc={train_acc:.4f}, \"\n",
        "              f\"Test Loss={test_loss:.4f}, Test Acc={test_acc:.4f}\")\n",
        "\n",
        "    # Plotting after training completes\n",
        "    plot_batch_losses(history['batch_losses'])\n",
        "    plot_epoch_accuracies(history['train_acc'], history['test_acc'])\n",
        "\n",
        "    # Print best test accuracy\n",
        "    best_test_acc = max(history['test_acc'])\n",
        "    print(f\"\\n Best Testing Accuracy: {best_test_acc:.4f}\")\n",
        "\n",
        "    return history\n",
        "\"\"\""
      ]
    },
    {
      "cell_type": "code",
      "execution_count": null,
      "metadata": {
        "colab": {
          "base_uri": "https://localhost:8080/",
          "height": 1000
        },
        "id": "mr1DtapfKXQ4",
        "outputId": "e164a420-0293-43c6-9d4d-0fac24d6ad80"
      },
      "outputs": [
        {
          "name": "stderr",
          "output_type": "stream",
          "text": []
        },
        {
          "name": "stdout",
          "output_type": "stream",
          "text": [
            "Epoch 1: Train Loss=1.6422, Train Acc=0.3723, Test Loss=1.4759, Test Acc=0.4450\n"
          ]
        },
        {
          "name": "stderr",
          "output_type": "stream",
          "text": []
        },
        {
          "name": "stdout",
          "output_type": "stream",
          "text": [
            "Epoch 2: Train Loss=1.2429, Train Acc=0.5441, Test Loss=1.2541, Test Acc=0.5485\n"
          ]
        },
        {
          "name": "stderr",
          "output_type": "stream",
          "text": []
        },
        {
          "name": "stdout",
          "output_type": "stream",
          "text": [
            "Epoch 3: Train Loss=1.0552, Train Acc=0.6191, Test Loss=1.1066, Test Acc=0.6024\n"
          ]
        },
        {
          "name": "stderr",
          "output_type": "stream",
          "text": []
        },
        {
          "name": "stdout",
          "output_type": "stream",
          "text": [
            "Epoch 4: Train Loss=0.9494, Train Acc=0.6595, Test Loss=1.0089, Test Acc=0.6244\n"
          ]
        },
        {
          "name": "stderr",
          "output_type": "stream",
          "text": []
        },
        {
          "name": "stdout",
          "output_type": "stream",
          "text": [
            "Epoch 5: Train Loss=0.8821, Train Acc=0.6844, Test Loss=1.1226, Test Acc=0.5931\n"
          ]
        },
        {
          "name": "stderr",
          "output_type": "stream",
          "text": []
        },
        {
          "name": "stdout",
          "output_type": "stream",
          "text": [
            "Epoch 6: Train Loss=0.8235, Train Acc=0.7079, Test Loss=1.3835, Test Acc=0.5470\n"
          ]
        },
        {
          "name": "stderr",
          "output_type": "stream",
          "text": []
        },
        {
          "name": "stdout",
          "output_type": "stream",
          "text": [
            "Epoch 7: Train Loss=0.7775, Train Acc=0.7234, Test Loss=0.9159, Test Acc=0.6769\n"
          ]
        },
        {
          "name": "stderr",
          "output_type": "stream",
          "text": []
        },
        {
          "name": "stdout",
          "output_type": "stream",
          "text": [
            "Epoch 8: Train Loss=0.7383, Train Acc=0.7394, Test Loss=1.2266, Test Acc=0.5844\n"
          ]
        },
        {
          "name": "stderr",
          "output_type": "stream",
          "text": []
        },
        {
          "name": "stdout",
          "output_type": "stream",
          "text": [
            "Epoch 9: Train Loss=0.7039, Train Acc=0.7515, Test Loss=1.0378, Test Acc=0.6455\n"
          ]
        },
        {
          "name": "stderr",
          "output_type": "stream",
          "text": []
        },
        {
          "name": "stdout",
          "output_type": "stream",
          "text": [
            "Epoch 10: Train Loss=0.6761, Train Acc=0.7615, Test Loss=0.9899, Test Acc=0.6593\n"
          ]
        },
        {
          "name": "stderr",
          "output_type": "stream",
          "text": []
        },
        {
          "name": "stdout",
          "output_type": "stream",
          "text": [
            "Epoch 11: Train Loss=0.6466, Train Acc=0.7725, Test Loss=1.3715, Test Acc=0.5763\n"
          ]
        },
        {
          "name": "stderr",
          "output_type": "stream",
          "text": []
        },
        {
          "name": "stdout",
          "output_type": "stream",
          "text": [
            "Epoch 12: Train Loss=0.6248, Train Acc=0.7820, Test Loss=1.1147, Test Acc=0.6440\n"
          ]
        },
        {
          "name": "stderr",
          "output_type": "stream",
          "text": []
        },
        {
          "name": "stdout",
          "output_type": "stream",
          "text": [
            "Epoch 13: Train Loss=0.6029, Train Acc=0.7899, Test Loss=0.8702, Test Acc=0.6908\n"
          ]
        },
        {
          "name": "stderr",
          "output_type": "stream",
          "text": []
        },
        {
          "name": "stdout",
          "output_type": "stream",
          "text": [
            "Epoch 14: Train Loss=0.5785, Train Acc=0.7987, Test Loss=0.8844, Test Acc=0.7057\n"
          ]
        },
        {
          "name": "stderr",
          "output_type": "stream",
          "text": []
        },
        {
          "name": "stdout",
          "output_type": "stream",
          "text": [
            "Epoch 15: Train Loss=0.5557, Train Acc=0.8060, Test Loss=1.0253, Test Acc=0.6616\n"
          ]
        },
        {
          "name": "stderr",
          "output_type": "stream",
          "text": []
        },
        {
          "name": "stdout",
          "output_type": "stream",
          "text": [
            "Epoch 16: Train Loss=0.5410, Train Acc=0.8127, Test Loss=0.9784, Test Acc=0.6873\n"
          ]
        },
        {
          "name": "stderr",
          "output_type": "stream",
          "text": []
        },
        {
          "name": "stdout",
          "output_type": "stream",
          "text": [
            "Epoch 17: Train Loss=0.5229, Train Acc=0.8194, Test Loss=0.7849, Test Acc=0.7367\n"
          ]
        },
        {
          "name": "stderr",
          "output_type": "stream",
          "text": []
        },
        {
          "name": "stdout",
          "output_type": "stream",
          "text": [
            "Epoch 18: Train Loss=0.5083, Train Acc=0.8228, Test Loss=0.7405, Test Acc=0.7458\n"
          ]
        },
        {
          "name": "stderr",
          "output_type": "stream",
          "text": []
        },
        {
          "name": "stdout",
          "output_type": "stream",
          "text": [
            "Epoch 19: Train Loss=0.4902, Train Acc=0.8305, Test Loss=1.0125, Test Acc=0.6757\n"
          ]
        },
        {
          "name": "stderr",
          "output_type": "stream",
          "text": []
        },
        {
          "name": "stdout",
          "output_type": "stream",
          "text": [
            "Epoch 20: Train Loss=0.4694, Train Acc=0.8379, Test Loss=1.1362, Test Acc=0.6435\n"
          ]
        },
        {
          "name": "stderr",
          "output_type": "stream",
          "text": []
        },
        {
          "name": "stdout",
          "output_type": "stream",
          "text": [
            "Epoch 21: Train Loss=0.4569, Train Acc=0.8408, Test Loss=1.1405, Test Acc=0.6530\n"
          ]
        },
        {
          "name": "stderr",
          "output_type": "stream",
          "text": []
        },
        {
          "name": "stdout",
          "output_type": "stream",
          "text": [
            "Epoch 22: Train Loss=0.4412, Train Acc=0.8486, Test Loss=1.7127, Test Acc=0.5632\n"
          ]
        },
        {
          "name": "stderr",
          "output_type": "stream",
          "text": []
        },
        {
          "name": "stdout",
          "output_type": "stream",
          "text": [
            "Epoch 23: Train Loss=0.4294, Train Acc=0.8506, Test Loss=0.8851, Test Acc=0.7107\n"
          ]
        },
        {
          "name": "stderr",
          "output_type": "stream",
          "text": []
        },
        {
          "name": "stdout",
          "output_type": "stream",
          "text": [
            "Epoch 24: Train Loss=0.4145, Train Acc=0.8559, Test Loss=0.9529, Test Acc=0.6997\n"
          ]
        },
        {
          "name": "stderr",
          "output_type": "stream",
          "text": []
        },
        {
          "name": "stdout",
          "output_type": "stream",
          "text": [
            "Epoch 25: Train Loss=0.4036, Train Acc=0.8597, Test Loss=0.7384, Test Acc=0.7622\n"
          ]
        },
        {
          "name": "stderr",
          "output_type": "stream",
          "text": []
        },
        {
          "name": "stdout",
          "output_type": "stream",
          "text": [
            "Epoch 26: Train Loss=0.3942, Train Acc=0.8627, Test Loss=0.7865, Test Acc=0.7520\n"
          ]
        },
        {
          "name": "stderr",
          "output_type": "stream",
          "text": []
        },
        {
          "name": "stdout",
          "output_type": "stream",
          "text": [
            "Epoch 27: Train Loss=0.3787, Train Acc=0.8683, Test Loss=0.9984, Test Acc=0.7045\n"
          ]
        },
        {
          "name": "stderr",
          "output_type": "stream",
          "text": []
        },
        {
          "name": "stdout",
          "output_type": "stream",
          "text": [
            "Epoch 28: Train Loss=0.3699, Train Acc=0.8724, Test Loss=1.2262, Test Acc=0.6516\n"
          ]
        },
        {
          "name": "stderr",
          "output_type": "stream",
          "text": []
        },
        {
          "name": "stdout",
          "output_type": "stream",
          "text": [
            "Epoch 29: Train Loss=0.3531, Train Acc=0.8763, Test Loss=1.4255, Test Acc=0.6285\n"
          ]
        },
        {
          "name": "stderr",
          "output_type": "stream",
          "text": []
        },
        {
          "name": "stdout",
          "output_type": "stream",
          "text": [
            "Epoch 30: Train Loss=0.3490, Train Acc=0.8783, Test Loss=1.8201, Test Acc=0.5572\n"
          ]
        },
        {
          "name": "stderr",
          "output_type": "stream",
          "text": []
        },
        {
          "name": "stdout",
          "output_type": "stream",
          "text": [
            "Epoch 31: Train Loss=0.3413, Train Acc=0.8809, Test Loss=1.3624, Test Acc=0.6428\n"
          ]
        },
        {
          "name": "stderr",
          "output_type": "stream",
          "text": []
        },
        {
          "name": "stdout",
          "output_type": "stream",
          "text": [
            "Epoch 32: Train Loss=0.3297, Train Acc=0.8853, Test Loss=0.9693, Test Acc=0.7197\n"
          ]
        },
        {
          "name": "stderr",
          "output_type": "stream",
          "text": []
        },
        {
          "name": "stdout",
          "output_type": "stream",
          "text": [
            "Epoch 33: Train Loss=0.3213, Train Acc=0.8884, Test Loss=0.9372, Test Acc=0.7447\n"
          ]
        },
        {
          "name": "stderr",
          "output_type": "stream",
          "text": []
        },
        {
          "name": "stdout",
          "output_type": "stream",
          "text": [
            "Epoch 34: Train Loss=0.3147, Train Acc=0.8900, Test Loss=0.7309, Test Acc=0.7765\n"
          ]
        },
        {
          "name": "stderr",
          "output_type": "stream",
          "text": []
        },
        {
          "name": "stdout",
          "output_type": "stream",
          "text": [
            "Epoch 35: Train Loss=0.3017, Train Acc=0.8948, Test Loss=0.6940, Test Acc=0.7885\n"
          ]
        },
        {
          "name": "stderr",
          "output_type": "stream",
          "text": []
        },
        {
          "name": "stdout",
          "output_type": "stream",
          "text": [
            "Epoch 36: Train Loss=0.2943, Train Acc=0.8969, Test Loss=1.5526, Test Acc=0.6303\n"
          ]
        },
        {
          "name": "stderr",
          "output_type": "stream",
          "text": []
        },
        {
          "name": "stdout",
          "output_type": "stream",
          "text": [
            "Epoch 37: Train Loss=0.2832, Train Acc=0.9018, Test Loss=0.8725, Test Acc=0.7468\n"
          ]
        },
        {
          "name": "stderr",
          "output_type": "stream",
          "text": []
        },
        {
          "name": "stdout",
          "output_type": "stream",
          "text": [
            "Epoch 38: Train Loss=0.2742, Train Acc=0.9046, Test Loss=1.2379, Test Acc=0.7010\n"
          ]
        },
        {
          "name": "stderr",
          "output_type": "stream",
          "text": []
        },
        {
          "name": "stdout",
          "output_type": "stream",
          "text": [
            "Epoch 39: Train Loss=0.2711, Train Acc=0.9040, Test Loss=1.2531, Test Acc=0.6764\n"
          ]
        },
        {
          "name": "stderr",
          "output_type": "stream",
          "text": []
        },
        {
          "name": "stdout",
          "output_type": "stream",
          "text": [
            "Epoch 40: Train Loss=0.2561, Train Acc=0.9106, Test Loss=0.8843, Test Acc=0.7610\n"
          ]
        },
        {
          "name": "stderr",
          "output_type": "stream",
          "text": []
        },
        {
          "name": "stdout",
          "output_type": "stream",
          "text": [
            "Epoch 41: Train Loss=0.2572, Train Acc=0.9092, Test Loss=2.0330, Test Acc=0.5836\n"
          ]
        },
        {
          "name": "stderr",
          "output_type": "stream",
          "text": []
        },
        {
          "name": "stdout",
          "output_type": "stream",
          "text": [
            "Epoch 42: Train Loss=0.2471, Train Acc=0.9125, Test Loss=0.8653, Test Acc=0.7641\n"
          ]
        },
        {
          "name": "stderr",
          "output_type": "stream",
          "text": []
        },
        {
          "name": "stdout",
          "output_type": "stream",
          "text": [
            "Epoch 43: Train Loss=0.2457, Train Acc=0.9141, Test Loss=1.2355, Test Acc=0.6866\n"
          ]
        },
        {
          "name": "stderr",
          "output_type": "stream",
          "text": []
        },
        {
          "name": "stdout",
          "output_type": "stream",
          "text": [
            "Epoch 44: Train Loss=0.2352, Train Acc=0.9177, Test Loss=0.8337, Test Acc=0.7709\n"
          ]
        },
        {
          "name": "stderr",
          "output_type": "stream",
          "text": []
        },
        {
          "name": "stdout",
          "output_type": "stream",
          "text": [
            "Epoch 45: Train Loss=0.2287, Train Acc=0.9195, Test Loss=1.1548, Test Acc=0.7217\n"
          ]
        },
        {
          "name": "stderr",
          "output_type": "stream",
          "text": []
        },
        {
          "name": "stdout",
          "output_type": "stream",
          "text": [
            "Epoch 46: Train Loss=0.2220, Train Acc=0.9226, Test Loss=1.0882, Test Acc=0.7269\n"
          ]
        },
        {
          "name": "stderr",
          "output_type": "stream",
          "text": []
        },
        {
          "name": "stdout",
          "output_type": "stream",
          "text": [
            "Epoch 47: Train Loss=0.2192, Train Acc=0.9208, Test Loss=1.0737, Test Acc=0.7311\n"
          ]
        },
        {
          "name": "stderr",
          "output_type": "stream",
          "text": []
        },
        {
          "name": "stdout",
          "output_type": "stream",
          "text": [
            "Epoch 48: Train Loss=0.2120, Train Acc=0.9251, Test Loss=1.0882, Test Acc=0.7390\n"
          ]
        },
        {
          "name": "stderr",
          "output_type": "stream",
          "text": []
        },
        {
          "name": "stdout",
          "output_type": "stream",
          "text": [
            "Epoch 49: Train Loss=0.2069, Train Acc=0.9266, Test Loss=1.0076, Test Acc=0.7556\n"
          ]
        },
        {
          "name": "stderr",
          "output_type": "stream",
          "text": []
        },
        {
          "name": "stdout",
          "output_type": "stream",
          "text": [
            "Epoch 50: Train Loss=0.1971, Train Acc=0.9298, Test Loss=0.9149, Test Acc=0.7675\n"
          ]
        },
        {
          "name": "stderr",
          "output_type": "stream",
          "text": []
        },
        {
          "name": "stdout",
          "output_type": "stream",
          "text": [
            "Epoch 51: Train Loss=0.1946, Train Acc=0.9306, Test Loss=1.7767, Test Acc=0.6441\n"
          ]
        },
        {
          "name": "stderr",
          "output_type": "stream",
          "text": []
        },
        {
          "name": "stdout",
          "output_type": "stream",
          "text": [
            "Epoch 52: Train Loss=0.1917, Train Acc=0.9324, Test Loss=1.1218, Test Acc=0.7238\n"
          ]
        },
        {
          "name": "stderr",
          "output_type": "stream",
          "text": []
        },
        {
          "name": "stdout",
          "output_type": "stream",
          "text": [
            "Epoch 53: Train Loss=0.1830, Train Acc=0.9354, Test Loss=1.4779, Test Acc=0.7004\n"
          ]
        },
        {
          "name": "stderr",
          "output_type": "stream",
          "text": []
        },
        {
          "name": "stdout",
          "output_type": "stream",
          "text": [
            "Epoch 54: Train Loss=0.1767, Train Acc=0.9375, Test Loss=1.4992, Test Acc=0.6902\n"
          ]
        },
        {
          "name": "stderr",
          "output_type": "stream",
          "text": []
        },
        {
          "name": "stdout",
          "output_type": "stream",
          "text": [
            "Epoch 55: Train Loss=0.1733, Train Acc=0.9382, Test Loss=1.1473, Test Acc=0.7225\n"
          ]
        },
        {
          "name": "stderr",
          "output_type": "stream",
          "text": []
        },
        {
          "name": "stdout",
          "output_type": "stream",
          "text": [
            "Epoch 56: Train Loss=0.1704, Train Acc=0.9395, Test Loss=1.5055, Test Acc=0.6936\n"
          ]
        },
        {
          "name": "stderr",
          "output_type": "stream",
          "text": []
        },
        {
          "name": "stdout",
          "output_type": "stream",
          "text": [
            "Epoch 57: Train Loss=0.1673, Train Acc=0.9392, Test Loss=2.0489, Test Acc=0.6229\n"
          ]
        },
        {
          "name": "stderr",
          "output_type": "stream",
          "text": []
        },
        {
          "name": "stdout",
          "output_type": "stream",
          "text": [
            "Epoch 58: Train Loss=0.1559, Train Acc=0.9451, Test Loss=1.3370, Test Acc=0.7184\n"
          ]
        },
        {
          "name": "stderr",
          "output_type": "stream",
          "text": []
        },
        {
          "name": "stdout",
          "output_type": "stream",
          "text": [
            "Epoch 59: Train Loss=0.1588, Train Acc=0.9438, Test Loss=1.5951, Test Acc=0.6866\n"
          ]
        },
        {
          "name": "stderr",
          "output_type": "stream",
          "text": []
        },
        {
          "name": "stdout",
          "output_type": "stream",
          "text": [
            "Epoch 60: Train Loss=0.1555, Train Acc=0.9430, Test Loss=1.1610, Test Acc=0.7463\n"
          ]
        },
        {
          "name": "stderr",
          "output_type": "stream",
          "text": []
        },
        {
          "name": "stdout",
          "output_type": "stream",
          "text": [
            "Epoch 61: Train Loss=0.1518, Train Acc=0.9459, Test Loss=1.4112, Test Acc=0.6970\n"
          ]
        },
        {
          "name": "stderr",
          "output_type": "stream",
          "text": []
        },
        {
          "name": "stdout",
          "output_type": "stream",
          "text": [
            "Epoch 62: Train Loss=0.1463, Train Acc=0.9478, Test Loss=3.3042, Test Acc=0.5468\n"
          ]
        },
        {
          "name": "stderr",
          "output_type": "stream",
          "text": []
        },
        {
          "name": "stdout",
          "output_type": "stream",
          "text": [
            "Epoch 63: Train Loss=0.1397, Train Acc=0.9499, Test Loss=1.2569, Test Acc=0.7181\n"
          ]
        },
        {
          "name": "stderr",
          "output_type": "stream",
          "text": []
        },
        {
          "name": "stdout",
          "output_type": "stream",
          "text": [
            "Epoch 64: Train Loss=0.1379, Train Acc=0.9509, Test Loss=0.9451, Test Acc=0.7874\n"
          ]
        },
        {
          "name": "stderr",
          "output_type": "stream",
          "text": []
        },
        {
          "name": "stdout",
          "output_type": "stream",
          "text": [
            "Epoch 65: Train Loss=0.1285, Train Acc=0.9552, Test Loss=0.9347, Test Acc=0.7816\n"
          ]
        },
        {
          "name": "stderr",
          "output_type": "stream",
          "text": []
        },
        {
          "name": "stdout",
          "output_type": "stream",
          "text": [
            "Epoch 66: Train Loss=0.1333, Train Acc=0.9519, Test Loss=1.6658, Test Acc=0.6831\n"
          ]
        },
        {
          "name": "stderr",
          "output_type": "stream",
          "text": []
        },
        {
          "name": "stdout",
          "output_type": "stream",
          "text": [
            "Epoch 67: Train Loss=0.1306, Train Acc=0.9532, Test Loss=1.0224, Test Acc=0.7731\n"
          ]
        },
        {
          "name": "stderr",
          "output_type": "stream",
          "text": []
        },
        {
          "name": "stdout",
          "output_type": "stream",
          "text": [
            "Epoch 68: Train Loss=0.1237, Train Acc=0.9553, Test Loss=1.4378, Test Acc=0.7146\n"
          ]
        },
        {
          "name": "stderr",
          "output_type": "stream",
          "text": []
        },
        {
          "name": "stdout",
          "output_type": "stream",
          "text": [
            "Epoch 69: Train Loss=0.1247, Train Acc=0.9546, Test Loss=2.2242, Test Acc=0.6497\n"
          ]
        },
        {
          "name": "stderr",
          "output_type": "stream",
          "text": []
        },
        {
          "name": "stdout",
          "output_type": "stream",
          "text": [
            "Epoch 70: Train Loss=0.1200, Train Acc=0.9575, Test Loss=1.1238, Test Acc=0.7586\n"
          ]
        },
        {
          "name": "stderr",
          "output_type": "stream",
          "text": []
        },
        {
          "name": "stdout",
          "output_type": "stream",
          "text": [
            "Epoch 71: Train Loss=0.1164, Train Acc=0.9590, Test Loss=1.6427, Test Acc=0.7162\n"
          ]
        },
        {
          "name": "stderr",
          "output_type": "stream",
          "text": []
        },
        {
          "name": "stdout",
          "output_type": "stream",
          "text": [
            "Epoch 72: Train Loss=0.1089, Train Acc=0.9613, Test Loss=1.7920, Test Acc=0.6940\n"
          ]
        },
        {
          "name": "stderr",
          "output_type": "stream",
          "text": []
        },
        {
          "name": "stdout",
          "output_type": "stream",
          "text": [
            "Epoch 73: Train Loss=0.1159, Train Acc=0.9582, Test Loss=1.2311, Test Acc=0.7513\n"
          ]
        },
        {
          "name": "stderr",
          "output_type": "stream",
          "text": []
        },
        {
          "name": "stdout",
          "output_type": "stream",
          "text": [
            "Epoch 74: Train Loss=0.1076, Train Acc=0.9609, Test Loss=1.5217, Test Acc=0.7152\n"
          ]
        },
        {
          "name": "stderr",
          "output_type": "stream",
          "text": []
        },
        {
          "name": "stdout",
          "output_type": "stream",
          "text": [
            "Epoch 75: Train Loss=0.1073, Train Acc=0.9620, Test Loss=1.7229, Test Acc=0.7186\n"
          ]
        },
        {
          "name": "stderr",
          "output_type": "stream",
          "text": []
        },
        {
          "name": "stdout",
          "output_type": "stream",
          "text": [
            "Epoch 76: Train Loss=0.1088, Train Acc=0.9610, Test Loss=1.2389, Test Acc=0.7419\n"
          ]
        },
        {
          "name": "stderr",
          "output_type": "stream",
          "text": []
        },
        {
          "name": "stdout",
          "output_type": "stream",
          "text": [
            "Epoch 77: Train Loss=0.1026, Train Acc=0.9633, Test Loss=1.7624, Test Acc=0.6944\n"
          ]
        },
        {
          "name": "stderr",
          "output_type": "stream",
          "text": []
        },
        {
          "name": "stdout",
          "output_type": "stream",
          "text": [
            "Epoch 78: Train Loss=0.1017, Train Acc=0.9642, Test Loss=1.2570, Test Acc=0.7579\n"
          ]
        },
        {
          "name": "stderr",
          "output_type": "stream",
          "text": []
        },
        {
          "name": "stdout",
          "output_type": "stream",
          "text": [
            "Epoch 79: Train Loss=0.1016, Train Acc=0.9639, Test Loss=1.6967, Test Acc=0.7088\n"
          ]
        },
        {
          "name": "stderr",
          "output_type": "stream",
          "text": []
        },
        {
          "name": "stdout",
          "output_type": "stream",
          "text": [
            "Epoch 80: Train Loss=0.0968, Train Acc=0.9655, Test Loss=1.4560, Test Acc=0.7280\n"
          ]
        },
        {
          "name": "stderr",
          "output_type": "stream",
          "text": []
        },
        {
          "name": "stdout",
          "output_type": "stream",
          "text": [
            "Epoch 81: Train Loss=0.1001, Train Acc=0.9651, Test Loss=1.1254, Test Acc=0.7741\n"
          ]
        },
        {
          "name": "stderr",
          "output_type": "stream",
          "text": []
        },
        {
          "name": "stdout",
          "output_type": "stream",
          "text": [
            "Epoch 82: Train Loss=0.0965, Train Acc=0.9653, Test Loss=1.7709, Test Acc=0.7049\n"
          ]
        },
        {
          "name": "stderr",
          "output_type": "stream",
          "text": []
        },
        {
          "name": "stdout",
          "output_type": "stream",
          "text": [
            "Epoch 83: Train Loss=0.0901, Train Acc=0.9685, Test Loss=1.5650, Test Acc=0.7399\n"
          ]
        },
        {
          "name": "stderr",
          "output_type": "stream",
          "text": []
        },
        {
          "name": "stdout",
          "output_type": "stream",
          "text": [
            "Epoch 84: Train Loss=0.0894, Train Acc=0.9680, Test Loss=1.8341, Test Acc=0.7141\n"
          ]
        },
        {
          "name": "stderr",
          "output_type": "stream",
          "text": []
        },
        {
          "name": "stdout",
          "output_type": "stream",
          "text": [
            "Epoch 85: Train Loss=0.0915, Train Acc=0.9680, Test Loss=1.6163, Test Acc=0.7086\n"
          ]
        },
        {
          "name": "stderr",
          "output_type": "stream",
          "text": []
        },
        {
          "name": "stdout",
          "output_type": "stream",
          "text": [
            "Epoch 86: Train Loss=0.0850, Train Acc=0.9703, Test Loss=1.3671, Test Acc=0.7536\n"
          ]
        },
        {
          "name": "stderr",
          "output_type": "stream",
          "text": []
        },
        {
          "name": "stdout",
          "output_type": "stream",
          "text": [
            "Epoch 87: Train Loss=0.0823, Train Acc=0.9707, Test Loss=1.2101, Test Acc=0.7756\n"
          ]
        },
        {
          "name": "stderr",
          "output_type": "stream",
          "text": []
        },
        {
          "name": "stdout",
          "output_type": "stream",
          "text": [
            "Epoch 88: Train Loss=0.0820, Train Acc=0.9705, Test Loss=2.6841, Test Acc=0.6223\n"
          ]
        },
        {
          "name": "stderr",
          "output_type": "stream",
          "text": []
        },
        {
          "name": "stdout",
          "output_type": "stream",
          "text": [
            "Epoch 89: Train Loss=0.0836, Train Acc=0.9702, Test Loss=2.6529, Test Acc=0.6195\n"
          ]
        },
        {
          "name": "stderr",
          "output_type": "stream",
          "text": []
        },
        {
          "name": "stdout",
          "output_type": "stream",
          "text": [
            "Epoch 90: Train Loss=0.0826, Train Acc=0.9698, Test Loss=1.9857, Test Acc=0.6805\n"
          ]
        },
        {
          "name": "stderr",
          "output_type": "stream",
          "text": []
        },
        {
          "name": "stdout",
          "output_type": "stream",
          "text": [
            "Epoch 91: Train Loss=0.0802, Train Acc=0.9721, Test Loss=2.2609, Test Acc=0.6939\n"
          ]
        },
        {
          "name": "stderr",
          "output_type": "stream",
          "text": []
        },
        {
          "name": "stdout",
          "output_type": "stream",
          "text": [
            "Epoch 92: Train Loss=0.0800, Train Acc=0.9711, Test Loss=1.8902, Test Acc=0.7109\n"
          ]
        },
        {
          "name": "stderr",
          "output_type": "stream",
          "text": []
        },
        {
          "name": "stdout",
          "output_type": "stream",
          "text": [
            "Epoch 93: Train Loss=0.0772, Train Acc=0.9727, Test Loss=1.2933, Test Acc=0.7626\n"
          ]
        },
        {
          "name": "stderr",
          "output_type": "stream",
          "text": []
        },
        {
          "name": "stdout",
          "output_type": "stream",
          "text": [
            "Epoch 94: Train Loss=0.0801, Train Acc=0.9713, Test Loss=1.5803, Test Acc=0.7354\n"
          ]
        },
        {
          "name": "stderr",
          "output_type": "stream",
          "text": []
        },
        {
          "name": "stdout",
          "output_type": "stream",
          "text": [
            "Epoch 95: Train Loss=0.0743, Train Acc=0.9733, Test Loss=2.1794, Test Acc=0.6903\n"
          ]
        },
        {
          "name": "stderr",
          "output_type": "stream",
          "text": []
        },
        {
          "name": "stdout",
          "output_type": "stream",
          "text": [
            "Epoch 96: Train Loss=0.0725, Train Acc=0.9745, Test Loss=1.8667, Test Acc=0.6903\n"
          ]
        },
        {
          "name": "stderr",
          "output_type": "stream",
          "text": []
        },
        {
          "name": "stdout",
          "output_type": "stream",
          "text": [
            "Epoch 97: Train Loss=0.0746, Train Acc=0.9739, Test Loss=1.3753, Test Acc=0.7616\n"
          ]
        },
        {
          "name": "stderr",
          "output_type": "stream",
          "text": []
        },
        {
          "name": "stdout",
          "output_type": "stream",
          "text": [
            "Epoch 98: Train Loss=0.0739, Train Acc=0.9749, Test Loss=1.6643, Test Acc=0.7386\n"
          ]
        },
        {
          "name": "stderr",
          "output_type": "stream",
          "text": []
        },
        {
          "name": "stdout",
          "output_type": "stream",
          "text": [
            "Epoch 99: Train Loss=0.0697, Train Acc=0.9752, Test Loss=1.7108, Test Acc=0.7179\n"
          ]
        },
        {
          "name": "stderr",
          "output_type": "stream",
          "text": []
        },
        {
          "name": "stdout",
          "output_type": "stream",
          "text": [
            "Epoch 100: Train Loss=0.0687, Train Acc=0.9753, Test Loss=1.4162, Test Acc=0.7425\n"
          ]
        },
        {
          "data": {
            "image/png": "[encoded data removed]",
            "text/plain": [
              "<Figure size 1000x400 with 1 Axes>"
            ]
          },
          "metadata": {},
          "output_type": "display_data"
        },
        {
          "data": {
            "image/png": "[encoded data removed]",
            "text/plain": [
              "<Figure size 1000x400 with 1 Axes>"
            ]
          },
          "metadata": {},
          "output_type": "display_data"
        },
        {
          "name": "stdout",
          "output_type": "stream",
          "text": [
            "\n",
            " Best Testing Accuracy: 0.7885\n"
          ]
        }
      ],
      "source": [
        "# taining\n",
        "K = 5  # Number of intermediate blocks\n",
        "L = 3  # Number of conv layers per block\n",
        "out_channels_per_block = 32\n",
        "output_hidden_units = 128\n",
        "learning_rate = 0.001\n",
        "num_epochs = 100\n",
        "batch_size = 128\n",
        "\n",
        "# 3 conv layers per block with different kernel sizes\n",
        "conv_params_template = [\n",
        "    {'kernel_size': 3, 'padding': 1},\n",
        "    {'kernel_size': 5, 'padding': 2},\n",
        "    {'kernel_size': 1, 'padding': 0}\n",
        "]\n",
        "\n",
        "# Same template for all K blocks\n",
        "conv_params_per_block = [conv_params_template for _ in range(K)]\n",
        "\n",
        "#initialize model\n",
        "model = CIFAR10CustomNet(\n",
        "    in_channels=3,\n",
        "    num_blocks=K,\n",
        "    conv_params_per_block=conv_params_per_block,\n",
        "    out_channels_per_block=out_channels_per_block,\n",
        "    output_hidden_units=output_hidden_units\n",
        ")\n",
        "\n",
        "#run training\n",
        "train_iter, test_iter = load_data_cifar10(batch_size)\n",
        "device = torch.device('cuda' if torch.cuda.is_available() else 'gpu')\n",
        "\n",
        "history = train_model(\n",
        "    model, train_iter, test_iter, device,\n",
        "    num_epochs=num_epochs,\n",
        "    lr=learning_rate\n",
        ")"
      ]
    },
    {
      "cell_type": "markdown",
      "metadata": {
        "id": "GSjUq58-bFJ-"
      },
      "source": [
        "## Improvements 2"
      ]
    },
    {
      "cell_type": "markdown",
      "metadata": {
        "id": "Do0vRSOemuVj"
      },
      "source": [
        "deeper network with more conv layers and vgg style cons"
      ]
    },
    {
      "cell_type": "code",
      "execution_count": null,
      "metadata": {
        "colab": {
          "base_uri": "https://localhost:8080/",
          "height": 1000
        },
        "id": "H0Bu0AxebE5t",
        "outputId": "7ff477c2-7a91-40ec-f338-9dcfc53b5d39"
      },
      "outputs": [
        {
          "name": "stderr",
          "output_type": "stream",
          "text": []
        },
        {
          "name": "stdout",
          "output_type": "stream",
          "text": [
            "Epoch 1: Train Loss=1.5152, Train Acc=0.4310, Test Loss=1.6332, Test Acc=0.4053\n"
          ]
        },
        {
          "name": "stderr",
          "output_type": "stream",
          "text": []
        },
        {
          "name": "stdout",
          "output_type": "stream",
          "text": [
            "Epoch 2: Train Loss=1.1146, Train Acc=0.5920, Test Loss=1.3611, Test Acc=0.5126\n"
          ]
        },
        {
          "name": "stderr",
          "output_type": "stream",
          "text": []
        },
        {
          "name": "stdout",
          "output_type": "stream",
          "text": [
            "Epoch 3: Train Loss=0.9431, Train Acc=0.6593, Test Loss=1.9768, Test Acc=0.4079\n"
          ]
        },
        {
          "name": "stderr",
          "output_type": "stream",
          "text": []
        },
        {
          "name": "stdout",
          "output_type": "stream",
          "text": [
            "Epoch 4: Train Loss=0.8318, Train Acc=0.7019, Test Loss=1.0709, Test Acc=0.6306\n"
          ]
        },
        {
          "name": "stderr",
          "output_type": "stream",
          "text": []
        },
        {
          "name": "stdout",
          "output_type": "stream",
          "text": [
            "Epoch 5: Train Loss=0.7534, Train Acc=0.7314, Test Loss=1.2692, Test Acc=0.5790\n"
          ]
        },
        {
          "name": "stderr",
          "output_type": "stream",
          "text": []
        },
        {
          "name": "stdout",
          "output_type": "stream",
          "text": [
            "Epoch 6: Train Loss=0.6778, Train Acc=0.7586, Test Loss=0.8675, Test Acc=0.7016\n"
          ]
        },
        {
          "name": "stderr",
          "output_type": "stream",
          "text": []
        },
        {
          "name": "stdout",
          "output_type": "stream",
          "text": [
            "Epoch 7: Train Loss=0.6177, Train Acc=0.7823, Test Loss=1.0843, Test Acc=0.6492\n"
          ]
        },
        {
          "name": "stderr",
          "output_type": "stream",
          "text": []
        },
        {
          "name": "stdout",
          "output_type": "stream",
          "text": [
            "Epoch 8: Train Loss=0.5732, Train Acc=0.7971, Test Loss=0.7253, Test Acc=0.7531\n"
          ]
        },
        {
          "name": "stderr",
          "output_type": "stream",
          "text": []
        },
        {
          "name": "stdout",
          "output_type": "stream",
          "text": [
            "Epoch 9: Train Loss=0.5241, Train Acc=0.8150, Test Loss=0.9713, Test Acc=0.6928\n"
          ]
        },
        {
          "name": "stderr",
          "output_type": "stream",
          "text": []
        },
        {
          "name": "stdout",
          "output_type": "stream",
          "text": [
            "Epoch 10: Train Loss=0.4791, Train Acc=0.8314, Test Loss=1.3551, Test Acc=0.5944\n"
          ]
        },
        {
          "name": "stderr",
          "output_type": "stream",
          "text": []
        },
        {
          "name": "stdout",
          "output_type": "stream",
          "text": [
            "Epoch 11: Train Loss=0.4523, Train Acc=0.8429, Test Loss=0.7404, Test Acc=0.7512\n"
          ]
        },
        {
          "name": "stderr",
          "output_type": "stream",
          "text": []
        },
        {
          "name": "stdout",
          "output_type": "stream",
          "text": [
            "Epoch 12: Train Loss=0.4076, Train Acc=0.8575, Test Loss=0.9592, Test Acc=0.7120\n"
          ]
        },
        {
          "name": "stderr",
          "output_type": "stream",
          "text": []
        },
        {
          "name": "stdout",
          "output_type": "stream",
          "text": [
            "Epoch 13: Train Loss=0.3812, Train Acc=0.8671, Test Loss=0.7776, Test Acc=0.7442\n"
          ]
        },
        {
          "name": "stderr",
          "output_type": "stream",
          "text": []
        },
        {
          "name": "stdout",
          "output_type": "stream",
          "text": [
            "Epoch 14: Train Loss=0.3552, Train Acc=0.8751, Test Loss=0.9506, Test Acc=0.7127\n"
          ]
        },
        {
          "name": "stderr",
          "output_type": "stream",
          "text": []
        },
        {
          "name": "stdout",
          "output_type": "stream",
          "text": [
            "Epoch 15: Train Loss=0.3305, Train Acc=0.8841, Test Loss=1.0356, Test Acc=0.7046\n"
          ]
        },
        {
          "name": "stderr",
          "output_type": "stream",
          "text": []
        },
        {
          "name": "stdout",
          "output_type": "stream",
          "text": [
            "Epoch 16: Train Loss=0.3047, Train Acc=0.8926, Test Loss=0.7078, Test Acc=0.7834\n"
          ]
        },
        {
          "name": "stderr",
          "output_type": "stream",
          "text": []
        },
        {
          "name": "stdout",
          "output_type": "stream",
          "text": [
            "Epoch 17: Train Loss=0.2855, Train Acc=0.9008, Test Loss=0.6608, Test Acc=0.7917\n"
          ]
        },
        {
          "name": "stderr",
          "output_type": "stream",
          "text": []
        },
        {
          "name": "stdout",
          "output_type": "stream",
          "text": [
            "Epoch 18: Train Loss=0.2642, Train Acc=0.9072, Test Loss=1.2921, Test Acc=0.6565\n"
          ]
        },
        {
          "name": "stderr",
          "output_type": "stream",
          "text": []
        },
        {
          "name": "stdout",
          "output_type": "stream",
          "text": [
            "Epoch 19: Train Loss=0.2388, Train Acc=0.9165, Test Loss=0.8921, Test Acc=0.7566\n"
          ]
        },
        {
          "name": "stderr",
          "output_type": "stream",
          "text": []
        },
        {
          "name": "stdout",
          "output_type": "stream",
          "text": [
            "Epoch 20: Train Loss=0.2309, Train Acc=0.9186, Test Loss=0.8975, Test Acc=0.7406\n"
          ]
        },
        {
          "name": "stderr",
          "output_type": "stream",
          "text": []
        },
        {
          "name": "stdout",
          "output_type": "stream",
          "text": [
            "Epoch 21: Train Loss=0.2090, Train Acc=0.9254, Test Loss=0.8767, Test Acc=0.7508\n"
          ]
        },
        {
          "name": "stderr",
          "output_type": "stream",
          "text": []
        },
        {
          "name": "stdout",
          "output_type": "stream",
          "text": [
            "Epoch 22: Train Loss=0.1885, Train Acc=0.9332, Test Loss=1.5558, Test Acc=0.6395\n"
          ]
        },
        {
          "name": "stderr",
          "output_type": "stream",
          "text": []
        },
        {
          "name": "stdout",
          "output_type": "stream",
          "text": [
            "Epoch 23: Train Loss=0.1725, Train Acc=0.9388, Test Loss=1.7977, Test Acc=0.6665\n"
          ]
        },
        {
          "name": "stderr",
          "output_type": "stream",
          "text": []
        },
        {
          "name": "stdout",
          "output_type": "stream",
          "text": [
            "Epoch 24: Train Loss=0.1594, Train Acc=0.9427, Test Loss=1.1669, Test Acc=0.7314\n"
          ]
        },
        {
          "name": "stderr",
          "output_type": "stream",
          "text": []
        },
        {
          "name": "stdout",
          "output_type": "stream",
          "text": [
            "Epoch 25: Train Loss=0.1522, Train Acc=0.9452, Test Loss=1.0069, Test Acc=0.7594\n"
          ]
        },
        {
          "name": "stderr",
          "output_type": "stream",
          "text": []
        },
        {
          "name": "stdout",
          "output_type": "stream",
          "text": [
            "Epoch 26: Train Loss=0.1350, Train Acc=0.9521, Test Loss=1.8968, Test Acc=0.6459\n"
          ]
        },
        {
          "name": "stderr",
          "output_type": "stream",
          "text": []
        },
        {
          "name": "stdout",
          "output_type": "stream",
          "text": [
            "Epoch 27: Train Loss=0.1333, Train Acc=0.9528, Test Loss=0.9850, Test Acc=0.7706\n"
          ]
        },
        {
          "name": "stderr",
          "output_type": "stream",
          "text": []
        },
        {
          "name": "stdout",
          "output_type": "stream",
          "text": [
            "Epoch 28: Train Loss=0.1195, Train Acc=0.9564, Test Loss=1.0737, Test Acc=0.7515\n"
          ]
        },
        {
          "name": "stderr",
          "output_type": "stream",
          "text": []
        },
        {
          "name": "stdout",
          "output_type": "stream",
          "text": [
            "Epoch 29: Train Loss=0.1148, Train Acc=0.9594, Test Loss=0.9375, Test Acc=0.7867\n"
          ]
        },
        {
          "name": "stderr",
          "output_type": "stream",
          "text": []
        },
        {
          "name": "stdout",
          "output_type": "stream",
          "text": [
            "Epoch 30: Train Loss=0.1003, Train Acc=0.9638, Test Loss=0.8291, Test Acc=0.8042\n"
          ]
        },
        {
          "name": "stderr",
          "output_type": "stream",
          "text": []
        },
        {
          "name": "stdout",
          "output_type": "stream",
          "text": [
            "Epoch 31: Train Loss=0.0985, Train Acc=0.9652, Test Loss=1.2513, Test Acc=0.7458\n"
          ]
        },
        {
          "name": "stderr",
          "output_type": "stream",
          "text": []
        },
        {
          "name": "stdout",
          "output_type": "stream",
          "text": [
            "Epoch 32: Train Loss=0.0909, Train Acc=0.9681, Test Loss=0.8928, Test Acc=0.7965\n"
          ]
        },
        {
          "name": "stderr",
          "output_type": "stream",
          "text": []
        },
        {
          "name": "stdout",
          "output_type": "stream",
          "text": [
            "Epoch 33: Train Loss=0.0887, Train Acc=0.9679, Test Loss=1.5493, Test Acc=0.7117\n"
          ]
        },
        {
          "name": "stderr",
          "output_type": "stream",
          "text": []
        },
        {
          "name": "stdout",
          "output_type": "stream",
          "text": [
            "Epoch 34: Train Loss=0.0853, Train Acc=0.9711, Test Loss=0.8145, Test Acc=0.8207\n"
          ]
        },
        {
          "name": "stderr",
          "output_type": "stream",
          "text": []
        },
        {
          "name": "stdout",
          "output_type": "stream",
          "text": [
            "Epoch 35: Train Loss=0.0702, Train Acc=0.9759, Test Loss=1.1107, Test Acc=0.7814\n"
          ]
        },
        {
          "name": "stderr",
          "output_type": "stream",
          "text": []
        },
        {
          "name": "stdout",
          "output_type": "stream",
          "text": [
            "Epoch 36: Train Loss=0.0764, Train Acc=0.9731, Test Loss=1.5258, Test Acc=0.7297\n"
          ]
        },
        {
          "name": "stderr",
          "output_type": "stream",
          "text": []
        },
        {
          "name": "stdout",
          "output_type": "stream",
          "text": [
            "Epoch 37: Train Loss=0.0678, Train Acc=0.9766, Test Loss=1.2831, Test Acc=0.7774\n"
          ]
        },
        {
          "name": "stderr",
          "output_type": "stream",
          "text": []
        },
        {
          "name": "stdout",
          "output_type": "stream",
          "text": [
            "Epoch 38: Train Loss=0.0664, Train Acc=0.9768, Test Loss=1.0364, Test Acc=0.7913\n"
          ]
        },
        {
          "name": "stderr",
          "output_type": "stream",
          "text": []
        },
        {
          "name": "stdout",
          "output_type": "stream",
          "text": [
            "Epoch 39: Train Loss=0.0693, Train Acc=0.9742, Test Loss=1.6923, Test Acc=0.7145\n"
          ]
        },
        {
          "name": "stderr",
          "output_type": "stream",
          "text": []
        },
        {
          "name": "stdout",
          "output_type": "stream",
          "text": [
            "Epoch 40: Train Loss=0.0595, Train Acc=0.9790, Test Loss=1.8013, Test Acc=0.6992\n"
          ]
        },
        {
          "name": "stderr",
          "output_type": "stream",
          "text": []
        },
        {
          "name": "stdout",
          "output_type": "stream",
          "text": [
            "Epoch 41: Train Loss=0.0661, Train Acc=0.9769, Test Loss=1.5654, Test Acc=0.7286\n"
          ]
        },
        {
          "name": "stderr",
          "output_type": "stream",
          "text": []
        },
        {
          "name": "stdout",
          "output_type": "stream",
          "text": [
            "Epoch 42: Train Loss=0.0561, Train Acc=0.9803, Test Loss=1.5319, Test Acc=0.7635\n"
          ]
        },
        {
          "name": "stderr",
          "output_type": "stream",
          "text": []
        },
        {
          "name": "stdout",
          "output_type": "stream",
          "text": [
            "Epoch 43: Train Loss=0.0657, Train Acc=0.9766, Test Loss=1.0008, Test Acc=0.8063\n"
          ]
        },
        {
          "name": "stderr",
          "output_type": "stream",
          "text": []
        },
        {
          "name": "stdout",
          "output_type": "stream",
          "text": [
            "Epoch 44: Train Loss=0.0505, Train Acc=0.9827, Test Loss=1.4121, Test Acc=0.7689\n"
          ]
        },
        {
          "name": "stderr",
          "output_type": "stream",
          "text": []
        },
        {
          "name": "stdout",
          "output_type": "stream",
          "text": [
            "Epoch 45: Train Loss=0.0507, Train Acc=0.9821, Test Loss=1.3897, Test Acc=0.7631\n"
          ]
        },
        {
          "name": "stderr",
          "output_type": "stream",
          "text": []
        },
        {
          "name": "stdout",
          "output_type": "stream",
          "text": [
            "Epoch 46: Train Loss=0.0496, Train Acc=0.9826, Test Loss=1.0591, Test Acc=0.8048\n"
          ]
        },
        {
          "name": "stderr",
          "output_type": "stream",
          "text": []
        },
        {
          "name": "stdout",
          "output_type": "stream",
          "text": [
            "Epoch 47: Train Loss=0.0546, Train Acc=0.9808, Test Loss=1.1646, Test Acc=0.7931\n"
          ]
        },
        {
          "name": "stderr",
          "output_type": "stream",
          "text": []
        },
        {
          "name": "stdout",
          "output_type": "stream",
          "text": [
            "Epoch 48: Train Loss=0.0430, Train Acc=0.9849, Test Loss=1.4016, Test Acc=0.7633\n"
          ]
        },
        {
          "name": "stderr",
          "output_type": "stream",
          "text": []
        },
        {
          "name": "stdout",
          "output_type": "stream",
          "text": [
            "Epoch 49: Train Loss=0.0505, Train Acc=0.9828, Test Loss=1.8925, Test Acc=0.7352\n"
          ]
        },
        {
          "name": "stderr",
          "output_type": "stream",
          "text": []
        },
        {
          "name": "stdout",
          "output_type": "stream",
          "text": [
            "Epoch 50: Train Loss=0.0537, Train Acc=0.9812, Test Loss=1.0089, Test Acc=0.8077\n"
          ]
        },
        {
          "name": "stderr",
          "output_type": "stream",
          "text": []
        },
        {
          "name": "stdout",
          "output_type": "stream",
          "text": [
            "Epoch 51: Train Loss=0.0324, Train Acc=0.9898, Test Loss=1.3304, Test Acc=0.8042\n"
          ]
        },
        {
          "name": "stderr",
          "output_type": "stream",
          "text": []
        },
        {
          "name": "stdout",
          "output_type": "stream",
          "text": [
            "Epoch 52: Train Loss=0.0459, Train Acc=0.9836, Test Loss=1.6646, Test Acc=0.7551\n"
          ]
        },
        {
          "name": "stderr",
          "output_type": "stream",
          "text": []
        },
        {
          "name": "stdout",
          "output_type": "stream",
          "text": [
            "Epoch 53: Train Loss=0.0432, Train Acc=0.9847, Test Loss=1.5762, Test Acc=0.7716\n"
          ]
        },
        {
          "name": "stderr",
          "output_type": "stream",
          "text": []
        },
        {
          "name": "stdout",
          "output_type": "stream",
          "text": [
            "Epoch 54: Train Loss=0.0411, Train Acc=0.9855, Test Loss=2.0354, Test Acc=0.6971\n"
          ]
        },
        {
          "name": "stderr",
          "output_type": "stream",
          "text": []
        },
        {
          "name": "stdout",
          "output_type": "stream",
          "text": [
            "Epoch 55: Train Loss=0.0467, Train Acc=0.9832, Test Loss=1.3640, Test Acc=0.7821\n"
          ]
        },
        {
          "name": "stderr",
          "output_type": "stream",
          "text": []
        },
        {
          "name": "stdout",
          "output_type": "stream",
          "text": [
            "Epoch 56: Train Loss=0.0413, Train Acc=0.9854, Test Loss=1.2134, Test Acc=0.7912\n"
          ]
        },
        {
          "name": "stderr",
          "output_type": "stream",
          "text": []
        },
        {
          "name": "stdout",
          "output_type": "stream",
          "text": [
            "Epoch 57: Train Loss=0.0426, Train Acc=0.9844, Test Loss=1.1027, Test Acc=0.8041\n"
          ]
        },
        {
          "name": "stderr",
          "output_type": "stream",
          "text": []
        },
        {
          "name": "stdout",
          "output_type": "stream",
          "text": [
            "Epoch 58: Train Loss=0.0308, Train Acc=0.9897, Test Loss=0.8230, Test Acc=0.8421\n"
          ]
        },
        {
          "name": "stderr",
          "output_type": "stream",
          "text": []
        },
        {
          "name": "stdout",
          "output_type": "stream",
          "text": [
            "Epoch 59: Train Loss=0.0337, Train Acc=0.9883, Test Loss=1.5545, Test Acc=0.7811\n"
          ]
        },
        {
          "name": "stderr",
          "output_type": "stream",
          "text": []
        },
        {
          "name": "stdout",
          "output_type": "stream",
          "text": [
            "Epoch 60: Train Loss=0.0335, Train Acc=0.9889, Test Loss=1.3690, Test Acc=0.7775\n"
          ]
        },
        {
          "name": "stderr",
          "output_type": "stream",
          "text": []
        },
        {
          "name": "stdout",
          "output_type": "stream",
          "text": [
            "Epoch 61: Train Loss=0.0411, Train Acc=0.9859, Test Loss=0.9198, Test Acc=0.8261\n"
          ]
        },
        {
          "name": "stderr",
          "output_type": "stream",
          "text": []
        },
        {
          "name": "stdout",
          "output_type": "stream",
          "text": [
            "Epoch 62: Train Loss=0.0380, Train Acc=0.9873, Test Loss=1.2432, Test Acc=0.8032\n"
          ]
        },
        {
          "name": "stderr",
          "output_type": "stream",
          "text": []
        },
        {
          "name": "stdout",
          "output_type": "stream",
          "text": [
            "Epoch 63: Train Loss=0.0377, Train Acc=0.9871, Test Loss=1.0484, Test Acc=0.8184\n"
          ]
        },
        {
          "name": "stderr",
          "output_type": "stream",
          "text": []
        },
        {
          "name": "stdout",
          "output_type": "stream",
          "text": [
            "Epoch 64: Train Loss=0.0339, Train Acc=0.9878, Test Loss=3.1068, Test Acc=0.6411\n"
          ]
        },
        {
          "name": "stderr",
          "output_type": "stream",
          "text": []
        },
        {
          "name": "stdout",
          "output_type": "stream",
          "text": [
            "Epoch 65: Train Loss=0.0310, Train Acc=0.9897, Test Loss=1.0038, Test Acc=0.8254\n"
          ]
        },
        {
          "name": "stderr",
          "output_type": "stream",
          "text": []
        },
        {
          "name": "stdout",
          "output_type": "stream",
          "text": [
            "Epoch 66: Train Loss=0.0309, Train Acc=0.9897, Test Loss=1.3716, Test Acc=0.7821\n"
          ]
        },
        {
          "name": "stderr",
          "output_type": "stream",
          "text": []
        },
        {
          "name": "stdout",
          "output_type": "stream",
          "text": [
            "Epoch 67: Train Loss=0.0345, Train Acc=0.9878, Test Loss=1.1907, Test Acc=0.8027\n"
          ]
        },
        {
          "name": "stderr",
          "output_type": "stream",
          "text": []
        },
        {
          "name": "stdout",
          "output_type": "stream",
          "text": [
            "Epoch 68: Train Loss=0.0321, Train Acc=0.9886, Test Loss=1.6805, Test Acc=0.7466\n"
          ]
        },
        {
          "name": "stderr",
          "output_type": "stream",
          "text": []
        },
        {
          "name": "stdout",
          "output_type": "stream",
          "text": [
            "Epoch 69: Train Loss=0.0305, Train Acc=0.9898, Test Loss=1.1654, Test Acc=0.8075\n"
          ]
        },
        {
          "name": "stderr",
          "output_type": "stream",
          "text": []
        },
        {
          "name": "stdout",
          "output_type": "stream",
          "text": [
            "Epoch 70: Train Loss=0.0364, Train Acc=0.9877, Test Loss=1.0934, Test Acc=0.8279\n"
          ]
        },
        {
          "name": "stderr",
          "output_type": "stream",
          "text": []
        },
        {
          "name": "stdout",
          "output_type": "stream",
          "text": [
            "Epoch 71: Train Loss=0.0229, Train Acc=0.9921, Test Loss=1.2684, Test Acc=0.8102\n"
          ]
        },
        {
          "name": "stderr",
          "output_type": "stream",
          "text": []
        },
        {
          "name": "stdout",
          "output_type": "stream",
          "text": [
            "Epoch 72: Train Loss=0.0337, Train Acc=0.9885, Test Loss=1.0979, Test Acc=0.8181\n"
          ]
        },
        {
          "name": "stderr",
          "output_type": "stream",
          "text": []
        },
        {
          "name": "stdout",
          "output_type": "stream",
          "text": [
            "Epoch 73: Train Loss=0.0215, Train Acc=0.9926, Test Loss=1.2263, Test Acc=0.8118\n"
          ]
        },
        {
          "name": "stderr",
          "output_type": "stream",
          "text": []
        },
        {
          "name": "stdout",
          "output_type": "stream",
          "text": [
            "Epoch 74: Train Loss=0.0327, Train Acc=0.9886, Test Loss=1.3956, Test Acc=0.7838\n"
          ]
        },
        {
          "name": "stderr",
          "output_type": "stream",
          "text": []
        },
        {
          "name": "stdout",
          "output_type": "stream",
          "text": [
            "Epoch 75: Train Loss=0.0326, Train Acc=0.9884, Test Loss=1.1204, Test Acc=0.8089\n"
          ]
        },
        {
          "name": "stderr",
          "output_type": "stream",
          "text": []
        },
        {
          "name": "stdout",
          "output_type": "stream",
          "text": [
            "Epoch 76: Train Loss=0.0263, Train Acc=0.9906, Test Loss=1.2217, Test Acc=0.8051\n"
          ]
        },
        {
          "name": "stderr",
          "output_type": "stream",
          "text": []
        },
        {
          "name": "stdout",
          "output_type": "stream",
          "text": [
            "Epoch 77: Train Loss=0.0301, Train Acc=0.9898, Test Loss=0.9921, Test Acc=0.8250\n"
          ]
        },
        {
          "name": "stderr",
          "output_type": "stream",
          "text": []
        },
        {
          "name": "stdout",
          "output_type": "stream",
          "text": [
            "Epoch 78: Train Loss=0.0247, Train Acc=0.9915, Test Loss=0.8891, Test Acc=0.8454\n"
          ]
        },
        {
          "name": "stderr",
          "output_type": "stream",
          "text": []
        },
        {
          "name": "stdout",
          "output_type": "stream",
          "text": [
            "Epoch 79: Train Loss=0.0223, Train Acc=0.9920, Test Loss=1.0402, Test Acc=0.8285\n"
          ]
        },
        {
          "name": "stderr",
          "output_type": "stream",
          "text": []
        },
        {
          "name": "stdout",
          "output_type": "stream",
          "text": [
            "Epoch 80: Train Loss=0.0384, Train Acc=0.9861, Test Loss=1.1857, Test Acc=0.8091\n"
          ]
        },
        {
          "name": "stderr",
          "output_type": "stream",
          "text": []
        },
        {
          "name": "stdout",
          "output_type": "stream",
          "text": [
            "Epoch 81: Train Loss=0.0190, Train Acc=0.9933, Test Loss=0.9025, Test Acc=0.8513\n"
          ]
        },
        {
          "name": "stderr",
          "output_type": "stream",
          "text": []
        },
        {
          "name": "stdout",
          "output_type": "stream",
          "text": [
            "Epoch 82: Train Loss=0.0185, Train Acc=0.9939, Test Loss=1.6354, Test Acc=0.7637\n"
          ]
        },
        {
          "name": "stderr",
          "output_type": "stream",
          "text": []
        },
        {
          "name": "stdout",
          "output_type": "stream",
          "text": [
            "Epoch 83: Train Loss=0.0378, Train Acc=0.9874, Test Loss=1.1779, Test Acc=0.8116\n"
          ]
        },
        {
          "name": "stderr",
          "output_type": "stream",
          "text": []
        },
        {
          "name": "stdout",
          "output_type": "stream",
          "text": [
            "Epoch 84: Train Loss=0.0201, Train Acc=0.9931, Test Loss=1.8434, Test Acc=0.7584\n"
          ]
        },
        {
          "name": "stderr",
          "output_type": "stream",
          "text": []
        },
        {
          "name": "stdout",
          "output_type": "stream",
          "text": [
            "Epoch 85: Train Loss=0.0188, Train Acc=0.9935, Test Loss=0.9224, Test Acc=0.8356\n"
          ]
        },
        {
          "name": "stderr",
          "output_type": "stream",
          "text": []
        },
        {
          "name": "stdout",
          "output_type": "stream",
          "text": [
            "Epoch 86: Train Loss=0.0333, Train Acc=0.9884, Test Loss=1.0899, Test Acc=0.8249\n"
          ]
        },
        {
          "name": "stderr",
          "output_type": "stream",
          "text": []
        },
        {
          "name": "stdout",
          "output_type": "stream",
          "text": [
            "Epoch 87: Train Loss=0.0176, Train Acc=0.9940, Test Loss=1.0281, Test Acc=0.8207\n"
          ]
        },
        {
          "name": "stderr",
          "output_type": "stream",
          "text": []
        },
        {
          "name": "stdout",
          "output_type": "stream",
          "text": [
            "Epoch 88: Train Loss=0.0206, Train Acc=0.9923, Test Loss=0.9940, Test Acc=0.8361\n"
          ]
        },
        {
          "name": "stderr",
          "output_type": "stream",
          "text": []
        },
        {
          "name": "stdout",
          "output_type": "stream",
          "text": [
            "Epoch 89: Train Loss=0.0218, Train Acc=0.9924, Test Loss=0.9268, Test Acc=0.8402\n"
          ]
        },
        {
          "name": "stderr",
          "output_type": "stream",
          "text": []
        },
        {
          "name": "stdout",
          "output_type": "stream",
          "text": [
            "Epoch 90: Train Loss=0.0186, Train Acc=0.9940, Test Loss=1.1296, Test Acc=0.8289\n"
          ]
        },
        {
          "name": "stderr",
          "output_type": "stream",
          "text": []
        },
        {
          "name": "stdout",
          "output_type": "stream",
          "text": [
            "Epoch 91: Train Loss=0.0357, Train Acc=0.9871, Test Loss=1.6285, Test Acc=0.7703\n"
          ]
        },
        {
          "name": "stderr",
          "output_type": "stream",
          "text": []
        },
        {
          "name": "stdout",
          "output_type": "stream",
          "text": [
            "Epoch 92: Train Loss=0.0200, Train Acc=0.9932, Test Loss=1.2323, Test Acc=0.8243\n"
          ]
        },
        {
          "name": "stderr",
          "output_type": "stream",
          "text": []
        },
        {
          "name": "stdout",
          "output_type": "stream",
          "text": [
            "Epoch 93: Train Loss=0.0155, Train Acc=0.9949, Test Loss=1.4821, Test Acc=0.7911\n"
          ]
        },
        {
          "name": "stderr",
          "output_type": "stream",
          "text": []
        },
        {
          "name": "stdout",
          "output_type": "stream",
          "text": [
            "Epoch 94: Train Loss=0.0303, Train Acc=0.9892, Test Loss=1.3044, Test Acc=0.8051\n"
          ]
        },
        {
          "name": "stderr",
          "output_type": "stream",
          "text": []
        },
        {
          "name": "stdout",
          "output_type": "stream",
          "text": [
            "Epoch 95: Train Loss=0.0160, Train Acc=0.9946, Test Loss=1.1881, Test Acc=0.8205\n"
          ]
        },
        {
          "name": "stderr",
          "output_type": "stream",
          "text": []
        },
        {
          "name": "stdout",
          "output_type": "stream",
          "text": [
            "Epoch 96: Train Loss=0.0235, Train Acc=0.9919, Test Loss=1.2014, Test Acc=0.8192\n"
          ]
        },
        {
          "name": "stderr",
          "output_type": "stream",
          "text": []
        },
        {
          "name": "stdout",
          "output_type": "stream",
          "text": [
            "Epoch 97: Train Loss=0.0178, Train Acc=0.9942, Test Loss=1.1590, Test Acc=0.8228\n"
          ]
        },
        {
          "name": "stderr",
          "output_type": "stream",
          "text": []
        },
        {
          "name": "stdout",
          "output_type": "stream",
          "text": [
            "Epoch 98: Train Loss=0.0247, Train Acc=0.9914, Test Loss=1.0336, Test Acc=0.8245\n"
          ]
        },
        {
          "name": "stderr",
          "output_type": "stream",
          "text": []
        },
        {
          "name": "stdout",
          "output_type": "stream",
          "text": [
            "Epoch 99: Train Loss=0.0150, Train Acc=0.9948, Test Loss=1.8954, Test Acc=0.7561\n"
          ]
        },
        {
          "name": "stderr",
          "output_type": "stream",
          "text": []
        },
        {
          "name": "stdout",
          "output_type": "stream",
          "text": [
            "Epoch 100: Train Loss=0.0241, Train Acc=0.9917, Test Loss=1.2586, Test Acc=0.8191\n"
          ]
        },
        {
          "data": {
            "image/png": "[encoded data removed]",
            "text/plain": [
              "<Figure size 1000x400 with 1 Axes>"
            ]
          },
          "metadata": {},
          "output_type": "display_data"
        },
        {
          "data": {
            "image/png": "[encoded data removed]",
            "text/plain": [
              "<Figure size 1000x400 with 1 Axes>"
            ]
          },
          "metadata": {},
          "output_type": "display_data"
        },
        {
          "name": "stdout",
          "output_type": "stream",
          "text": [
            "\n",
            " Best Testing Accuracy: 0.8513\n"
          ]
        }
      ],
      "source": [
        "K = 6\n",
        "L = 4\n",
        "out_channels_per_block = 64\n",
        "output_hidden_units = 128\n",
        "batch_size = 128\n",
        "num_epochs = 100\n",
        "learning_rate = 0.001\n",
        "\n",
        "# 4 conv layers of 3x3 padding=1 (VGG style)\n",
        "conv_params_template = [\n",
        "    {'kernel_size': 3, 'padding': 1},\n",
        "    {'kernel_size': 3, 'padding': 1},\n",
        "    {'kernel_size': 3, 'padding': 1},\n",
        "    {'kernel_size': 3, 'padding': 1}\n",
        "]\n",
        "conv_params_per_block = [conv_params_template for _ in range(K)]\n",
        "\n",
        "model = CIFAR10CustomNet(\n",
        "    in_channels=3,\n",
        "    num_blocks=K,\n",
        "    conv_params_per_block=conv_params_per_block,\n",
        "    out_channels_per_block=out_channels_per_block,\n",
        "    output_hidden_units=output_hidden_units\n",
        ")\n",
        "train_iter, test_iter = load_data_cifar10(batch_size)\n",
        "device = torch.device('cuda' if torch.cuda.is_available() else 'cpu')\n",
        "\n",
        "history_imp2 = train_model(\n",
        "    model, train_iter, test_iter, device,\n",
        "    num_epochs=num_epochs,\n",
        "    lr=learning_rate\n",
        ")"
      ]
    },
    {
      "cell_type": "markdown",
      "metadata": {
        "id": "5CCRR6Kem1aQ"
      },
      "source": [
        "Improvement 3\n",
        "adding LR scheduler and batch norm"
      ]
    },
    {
      "cell_type": "code",
      "execution_count": null,
      "metadata": {
        "id": "rGvk5dzBvhvQ"
      },
      "outputs": [],
      "source": [
        "class IntermediateBlock(nn.Module):\n",
        "    def __init__(self, in_channels, out_channels, conv_params_list):\n",
        "        super().__init__()\n",
        "        self.L = len(conv_params_list)\n",
        "\n",
        "        self.convs = nn.ModuleList([\n",
        "            nn.Sequential(\n",
        "                nn.Conv2d(in_channels, out_channels, **params),\n",
        "                #added batch norm\n",
        "                nn.BatchNorm2d(out_channels),\n",
        "                nn.ReLU()\n",
        "            )\n",
        "            for params in conv_params_list\n",
        "        ])\n",
        "\n",
        "        self.fc = nn.Linear(in_channels, self.L)\n",
        "\n",
        "    def forward(self, x):\n",
        "        batch_size = x.shape[0]\n",
        "        conv_outputs = [conv(x) for conv in self.convs]\n",
        "\n",
        "        # Verify shapes are identical\n",
        "        out_shapes = [out.shape for out in conv_outputs]\n",
        "        assert all(s == out_shapes[0] for s in out_shapes), \"Conv outputs must match shape\"\n",
        "\n",
        "        m = x.mean(dim=[2, 3])  # Per-channel mean\n",
        "        a = self.fc(m)\n",
        "        a = F.softmax(a, dim=1)\n",
        "\n",
        "        weighted_sum = sum(\n",
        "            a[:, i].view(batch_size, 1, 1, 1) * conv_outputs[i]\n",
        "            for i in range(self.L)\n",
        "        )\n",
        "        return weighted_sum\n"
      ]
    },
    {
      "cell_type": "code",
      "execution_count": null,
      "metadata": {
        "id": "_H6FKEzAFUMW"
      },
      "outputs": [],
      "source": [
        "def train_model(model, train_loader, test_loader, device,\n",
        "                num_epochs=100, lr=0.001):\n",
        "    model.to(device)\n",
        "    loss_fn = nn.CrossEntropyLoss()\n",
        "    optimizer = torch.optim.Adam(model.parameters(), lr=lr, weight_decay=5e-4)\n",
        "    #LR scheduler\n",
        "    scheduler = torch.optim.lr_scheduler.ReduceLROnPlateau(optimizer, mode='max', patience=5, factor=0.5)\n",
        "\n",
        "\n",
        "    history = {\n",
        "        'train_loss': [],\n",
        "        'test_loss': [],\n",
        "        'train_acc': [],\n",
        "        'test_acc': [],\n",
        "        'batch_losses': []\n",
        "    }\n",
        "\n",
        "    for epoch in range(num_epochs):\n",
        "        train_loss, train_acc, batch_losses = train_epoch(model, train_loader, loss_fn, optimizer, device)\n",
        "        test_loss, test_acc = evaluate(model, test_loader, loss_fn, device)\n",
        "        #giving the test accuracy as LR step\n",
        "        scheduler.step(test_acc)\n",
        "\n",
        "\n",
        "        history['train_loss'].append(train_loss)\n",
        "        history['test_loss'].append(test_loss)\n",
        "        history['train_acc'].append(train_acc)\n",
        "        history['test_acc'].append(test_acc)\n",
        "        history['batch_losses'].extend(batch_losses)\n",
        "\n",
        "        print(f\"Epoch {epoch+1}: \"\n",
        "              f\"Train Loss={train_loss:.4f}, Train Acc={train_acc:.4f}, \"\n",
        "              f\"Test Loss={test_loss:.4f}, Test Acc={test_acc:.4f}\")\n",
        "\n",
        "    # Plotting after training completes\n",
        "    plot_batch_losses(history['batch_losses'])\n",
        "    plot_epoch_accuracies(history['train_acc'], history['test_acc'])\n",
        "\n",
        "    # Print best test accuracy\n",
        "    best_test_acc = max(history['test_acc'])\n",
        "    print(f\"\\n Best Testing Accuracy: {best_test_acc:.4f}\")\n",
        "\n",
        "    return history"
      ]
    },
    {
      "cell_type": "code",
      "execution_count": null,
      "metadata": {
        "colab": {
          "base_uri": "https://localhost:8080/",
          "height": 1000
        },
        "id": "Cm18KUJFm6Rt",
        "outputId": "876da44a-45fe-4d66-a0f8-1fa9c18025a5"
      },
      "outputs": [
        {
          "name": "stderr",
          "output_type": "stream",
          "text": []
        },
        {
          "name": "stdout",
          "output_type": "stream",
          "text": [
            "Epoch 1: Train Loss=1.5132, Train Acc=0.4315, Test Loss=1.5085, Test Acc=0.4396\n"
          ]
        },
        {
          "name": "stderr",
          "output_type": "stream",
          "text": []
        },
        {
          "name": "stdout",
          "output_type": "stream",
          "text": [
            "Epoch 2: Train Loss=1.1359, Train Acc=0.5848, Test Loss=1.5234, Test Acc=0.4605\n"
          ]
        },
        {
          "name": "stderr",
          "output_type": "stream",
          "text": []
        },
        {
          "name": "stdout",
          "output_type": "stream",
          "text": [
            "Epoch 3: Train Loss=0.9621, Train Acc=0.6516, Test Loss=1.9552, Test Acc=0.4524\n"
          ]
        },
        {
          "name": "stderr",
          "output_type": "stream",
          "text": []
        },
        {
          "name": "stdout",
          "output_type": "stream",
          "text": [
            "Epoch 4: Train Loss=0.8644, Train Acc=0.6904, Test Loss=1.1477, Test Acc=0.5977\n"
          ]
        },
        {
          "name": "stderr",
          "output_type": "stream",
          "text": []
        },
        {
          "name": "stdout",
          "output_type": "stream",
          "text": [
            "Epoch 5: Train Loss=0.7843, Train Acc=0.7197, Test Loss=1.6281, Test Acc=0.5112\n"
          ]
        },
        {
          "name": "stderr",
          "output_type": "stream",
          "text": []
        },
        {
          "name": "stdout",
          "output_type": "stream",
          "text": [
            "Epoch 6: Train Loss=0.7267, Train Acc=0.7418, Test Loss=1.0818, Test Acc=0.6133\n"
          ]
        },
        {
          "name": "stderr",
          "output_type": "stream",
          "text": []
        },
        {
          "name": "stdout",
          "output_type": "stream",
          "text": [
            "Epoch 7: Train Loss=0.6699, Train Acc=0.7633, Test Loss=1.1393, Test Acc=0.6226\n"
          ]
        },
        {
          "name": "stderr",
          "output_type": "stream",
          "text": []
        },
        {
          "name": "stdout",
          "output_type": "stream",
          "text": [
            "Epoch 8: Train Loss=0.6282, Train Acc=0.7791, Test Loss=0.8537, Test Acc=0.7079\n"
          ]
        },
        {
          "name": "stderr",
          "output_type": "stream",
          "text": []
        },
        {
          "name": "stdout",
          "output_type": "stream",
          "text": [
            "Epoch 9: Train Loss=0.5862, Train Acc=0.7962, Test Loss=1.5038, Test Acc=0.5573\n"
          ]
        },
        {
          "name": "stderr",
          "output_type": "stream",
          "text": []
        },
        {
          "name": "stdout",
          "output_type": "stream",
          "text": [
            "Epoch 10: Train Loss=0.5472, Train Acc=0.8095, Test Loss=1.1545, Test Acc=0.6345\n"
          ]
        },
        {
          "name": "stderr",
          "output_type": "stream",
          "text": []
        },
        {
          "name": "stdout",
          "output_type": "stream",
          "text": [
            "Epoch 11: Train Loss=0.5208, Train Acc=0.8173, Test Loss=1.4171, Test Acc=0.5684\n"
          ]
        },
        {
          "name": "stderr",
          "output_type": "stream",
          "text": []
        },
        {
          "name": "stdout",
          "output_type": "stream",
          "text": [
            "Epoch 12: Train Loss=0.4852, Train Acc=0.8319, Test Loss=1.2513, Test Acc=0.6365\n"
          ]
        },
        {
          "name": "stderr",
          "output_type": "stream",
          "text": []
        },
        {
          "name": "stdout",
          "output_type": "stream",
          "text": [
            "Epoch 13: Train Loss=0.4593, Train Acc=0.8395, Test Loss=1.0559, Test Acc=0.6725\n"
          ]
        },
        {
          "name": "stderr",
          "output_type": "stream",
          "text": []
        },
        {
          "name": "stdout",
          "output_type": "stream",
          "text": [
            "Epoch 14: Train Loss=0.4366, Train Acc=0.8488, Test Loss=0.6056, Test Acc=0.7883\n"
          ]
        },
        {
          "name": "stderr",
          "output_type": "stream",
          "text": []
        },
        {
          "name": "stdout",
          "output_type": "stream",
          "text": [
            "Epoch 15: Train Loss=0.4230, Train Acc=0.8533, Test Loss=0.9977, Test Acc=0.6850\n"
          ]
        },
        {
          "name": "stderr",
          "output_type": "stream",
          "text": []
        },
        {
          "name": "stdout",
          "output_type": "stream",
          "text": [
            "Epoch 16: Train Loss=0.4037, Train Acc=0.8620, Test Loss=0.8702, Test Acc=0.7279\n"
          ]
        },
        {
          "name": "stderr",
          "output_type": "stream",
          "text": []
        },
        {
          "name": "stdout",
          "output_type": "stream",
          "text": [
            "Epoch 17: Train Loss=0.3838, Train Acc=0.8673, Test Loss=1.2141, Test Acc=0.6354\n"
          ]
        },
        {
          "name": "stderr",
          "output_type": "stream",
          "text": []
        },
        {
          "name": "stdout",
          "output_type": "stream",
          "text": [
            "Epoch 18: Train Loss=0.3662, Train Acc=0.8736, Test Loss=0.8744, Test Acc=0.7318\n"
          ]
        },
        {
          "name": "stderr",
          "output_type": "stream",
          "text": []
        },
        {
          "name": "stdout",
          "output_type": "stream",
          "text": [
            "Epoch 19: Train Loss=0.3523, Train Acc=0.8779, Test Loss=0.7528, Test Acc=0.7510\n"
          ]
        },
        {
          "name": "stderr",
          "output_type": "stream",
          "text": []
        },
        {
          "name": "stdout",
          "output_type": "stream",
          "text": [
            "Epoch 20: Train Loss=0.3380, Train Acc=0.8833, Test Loss=0.9153, Test Acc=0.7292\n"
          ]
        },
        {
          "name": "stderr",
          "output_type": "stream",
          "text": []
        },
        {
          "name": "stdout",
          "output_type": "stream",
          "text": [
            "Epoch 21: Train Loss=0.2274, Train Acc=0.9233, Test Loss=0.9607, Test Acc=0.7328\n"
          ]
        },
        {
          "name": "stderr",
          "output_type": "stream",
          "text": []
        },
        {
          "name": "stdout",
          "output_type": "stream",
          "text": [
            "Epoch 22: Train Loss=0.1988, Train Acc=0.9338, Test Loss=1.1199, Test Acc=0.6962\n"
          ]
        },
        {
          "name": "stderr",
          "output_type": "stream",
          "text": []
        },
        {
          "name": "stdout",
          "output_type": "stream",
          "text": [
            "Epoch 23: Train Loss=0.1928, Train Acc=0.9351, Test Loss=0.6280, Test Acc=0.8018\n"
          ]
        },
        {
          "name": "stderr",
          "output_type": "stream",
          "text": []
        },
        {
          "name": "stdout",
          "output_type": "stream",
          "text": [
            "Epoch 24: Train Loss=0.1775, Train Acc=0.9409, Test Loss=0.8567, Test Acc=0.7506\n"
          ]
        },
        {
          "name": "stderr",
          "output_type": "stream",
          "text": []
        },
        {
          "name": "stdout",
          "output_type": "stream",
          "text": [
            "Epoch 25: Train Loss=0.1638, Train Acc=0.9467, Test Loss=0.8653, Test Acc=0.7448\n"
          ]
        },
        {
          "name": "stderr",
          "output_type": "stream",
          "text": []
        },
        {
          "name": "stdout",
          "output_type": "stream",
          "text": [
            "Epoch 26: Train Loss=0.1578, Train Acc=0.9471, Test Loss=1.7527, Test Acc=0.6458\n"
          ]
        },
        {
          "name": "stderr",
          "output_type": "stream",
          "text": []
        },
        {
          "name": "stdout",
          "output_type": "stream",
          "text": [
            "Epoch 27: Train Loss=0.1474, Train Acc=0.9506, Test Loss=0.9711, Test Acc=0.7463\n"
          ]
        },
        {
          "name": "stderr",
          "output_type": "stream",
          "text": []
        },
        {
          "name": "stdout",
          "output_type": "stream",
          "text": [
            "Epoch 28: Train Loss=0.1415, Train Acc=0.9520, Test Loss=0.9958, Test Acc=0.7261\n"
          ]
        },
        {
          "name": "stderr",
          "output_type": "stream",
          "text": []
        },
        {
          "name": "stdout",
          "output_type": "stream",
          "text": [
            "Epoch 29: Train Loss=0.1288, Train Acc=0.9566, Test Loss=0.9971, Test Acc=0.7332\n"
          ]
        },
        {
          "name": "stderr",
          "output_type": "stream",
          "text": []
        },
        {
          "name": "stdout",
          "output_type": "stream",
          "text": [
            "Epoch 30: Train Loss=0.0633, Train Acc=0.9841, Test Loss=0.4842, Test Acc=0.8574\n"
          ]
        },
        {
          "name": "stderr",
          "output_type": "stream",
          "text": []
        },
        {
          "name": "stdout",
          "output_type": "stream",
          "text": [
            "Epoch 31: Train Loss=0.0420, Train Acc=0.9924, Test Loss=0.5422, Test Acc=0.8444\n"
          ]
        },
        {
          "name": "stderr",
          "output_type": "stream",
          "text": []
        },
        {
          "name": "stdout",
          "output_type": "stream",
          "text": [
            "Epoch 32: Train Loss=0.0370, Train Acc=0.9935, Test Loss=0.6846, Test Acc=0.8344\n"
          ]
        },
        {
          "name": "stderr",
          "output_type": "stream",
          "text": []
        },
        {
          "name": "stdout",
          "output_type": "stream",
          "text": [
            "Epoch 33: Train Loss=0.0399, Train Acc=0.9920, Test Loss=0.6972, Test Acc=0.8209\n"
          ]
        },
        {
          "name": "stderr",
          "output_type": "stream",
          "text": []
        },
        {
          "name": "stdout",
          "output_type": "stream",
          "text": [
            "Epoch 34: Train Loss=0.0438, Train Acc=0.9898, Test Loss=0.8609, Test Acc=0.7821\n"
          ]
        },
        {
          "name": "stderr",
          "output_type": "stream",
          "text": []
        },
        {
          "name": "stdout",
          "output_type": "stream",
          "text": [
            "Epoch 35: Train Loss=0.0474, Train Acc=0.9881, Test Loss=0.5978, Test Acc=0.8292\n"
          ]
        },
        {
          "name": "stderr",
          "output_type": "stream",
          "text": []
        },
        {
          "name": "stdout",
          "output_type": "stream",
          "text": [
            "Epoch 36: Train Loss=0.0414, Train Acc=0.9909, Test Loss=0.8512, Test Acc=0.7850\n"
          ]
        },
        {
          "name": "stderr",
          "output_type": "stream",
          "text": []
        },
        {
          "name": "stdout",
          "output_type": "stream",
          "text": [
            "Epoch 37: Train Loss=0.0192, Train Acc=0.9980, Test Loss=0.5111, Test Acc=0.8609\n"
          ]
        },
        {
          "name": "stderr",
          "output_type": "stream",
          "text": []
        },
        {
          "name": "stdout",
          "output_type": "stream",
          "text": [
            "Epoch 38: Train Loss=0.0136, Train Acc=0.9995, Test Loss=0.5018, Test Acc=0.8629\n"
          ]
        },
        {
          "name": "stderr",
          "output_type": "stream",
          "text": []
        },
        {
          "name": "stdout",
          "output_type": "stream",
          "text": [
            "Epoch 39: Train Loss=0.0125, Train Acc=0.9994, Test Loss=0.5229, Test Acc=0.8576\n"
          ]
        },
        {
          "name": "stderr",
          "output_type": "stream",
          "text": []
        },
        {
          "name": "stdout",
          "output_type": "stream",
          "text": [
            "Epoch 40: Train Loss=0.0118, Train Acc=0.9995, Test Loss=0.5363, Test Acc=0.8547\n"
          ]
        },
        {
          "name": "stderr",
          "output_type": "stream",
          "text": []
        },
        {
          "name": "stdout",
          "output_type": "stream",
          "text": [
            "Epoch 41: Train Loss=0.0134, Train Acc=0.9993, Test Loss=0.5503, Test Acc=0.8464\n"
          ]
        },
        {
          "name": "stderr",
          "output_type": "stream",
          "text": []
        },
        {
          "name": "stdout",
          "output_type": "stream",
          "text": [
            "Epoch 42: Train Loss=0.0151, Train Acc=0.9988, Test Loss=0.5909, Test Acc=0.8384\n"
          ]
        },
        {
          "name": "stderr",
          "output_type": "stream",
          "text": []
        },
        {
          "name": "stdout",
          "output_type": "stream",
          "text": [
            "Epoch 43: Train Loss=0.0179, Train Acc=0.9984, Test Loss=0.5538, Test Acc=0.8529\n"
          ]
        },
        {
          "name": "stderr",
          "output_type": "stream",
          "text": []
        },
        {
          "name": "stdout",
          "output_type": "stream",
          "text": [
            "Epoch 44: Train Loss=0.0164, Train Acc=0.9987, Test Loss=0.5896, Test Acc=0.8463\n"
          ]
        },
        {
          "name": "stderr",
          "output_type": "stream",
          "text": []
        },
        {
          "name": "stdout",
          "output_type": "stream",
          "text": [
            "Epoch 45: Train Loss=0.0094, Train Acc=0.9998, Test Loss=0.4716, Test Acc=0.8691\n"
          ]
        },
        {
          "name": "stderr",
          "output_type": "stream",
          "text": []
        },
        {
          "name": "stdout",
          "output_type": "stream",
          "text": [
            "Epoch 46: Train Loss=0.0078, Train Acc=0.9999, Test Loss=0.4987, Test Acc=0.8623\n"
          ]
        },
        {
          "name": "stderr",
          "output_type": "stream",
          "text": []
        },
        {
          "name": "stdout",
          "output_type": "stream",
          "text": [
            "Epoch 47: Train Loss=0.0074, Train Acc=1.0000, Test Loss=0.4975, Test Acc=0.8609\n"
          ]
        },
        {
          "name": "stderr",
          "output_type": "stream",
          "text": []
        },
        {
          "name": "stdout",
          "output_type": "stream",
          "text": [
            "Epoch 48: Train Loss=0.0078, Train Acc=0.9999, Test Loss=0.4865, Test Acc=0.8667\n"
          ]
        },
        {
          "name": "stderr",
          "output_type": "stream",
          "text": []
        },
        {
          "name": "stdout",
          "output_type": "stream",
          "text": [
            "Epoch 49: Train Loss=0.0080, Train Acc=0.9998, Test Loss=0.4967, Test Acc=0.8616\n"
          ]
        },
        {
          "name": "stderr",
          "output_type": "stream",
          "text": []
        },
        {
          "name": "stdout",
          "output_type": "stream",
          "text": [
            "Epoch 50: Train Loss=0.0086, Train Acc=0.9999, Test Loss=0.5275, Test Acc=0.8606\n"
          ]
        },
        {
          "name": "stderr",
          "output_type": "stream",
          "text": []
        },
        {
          "name": "stdout",
          "output_type": "stream",
          "text": [
            "Epoch 51: Train Loss=0.0082, Train Acc=0.9999, Test Loss=0.7298, Test Acc=0.8164\n"
          ]
        },
        {
          "name": "stderr",
          "output_type": "stream",
          "text": []
        },
        {
          "name": "stdout",
          "output_type": "stream",
          "text": [
            "Epoch 52: Train Loss=0.0070, Train Acc=0.9999, Test Loss=0.4654, Test Acc=0.8675\n"
          ]
        },
        {
          "name": "stderr",
          "output_type": "stream",
          "text": []
        },
        {
          "name": "stdout",
          "output_type": "stream",
          "text": [
            "Epoch 53: Train Loss=0.0065, Train Acc=1.0000, Test Loss=0.4742, Test Acc=0.8711\n"
          ]
        },
        {
          "name": "stderr",
          "output_type": "stream",
          "text": []
        },
        {
          "name": "stdout",
          "output_type": "stream",
          "text": [
            "Epoch 54: Train Loss=0.0064, Train Acc=1.0000, Test Loss=0.4686, Test Acc=0.8684\n"
          ]
        },
        {
          "name": "stderr",
          "output_type": "stream",
          "text": []
        },
        {
          "name": "stdout",
          "output_type": "stream",
          "text": [
            "Epoch 55: Train Loss=0.0067, Train Acc=1.0000, Test Loss=0.4687, Test Acc=0.8685\n"
          ]
        },
        {
          "name": "stderr",
          "output_type": "stream",
          "text": []
        },
        {
          "name": "stdout",
          "output_type": "stream",
          "text": [
            "Epoch 56: Train Loss=0.0067, Train Acc=1.0000, Test Loss=0.4693, Test Acc=0.8669\n"
          ]
        },
        {
          "name": "stderr",
          "output_type": "stream",
          "text": []
        },
        {
          "name": "stdout",
          "output_type": "stream",
          "text": [
            "Epoch 57: Train Loss=0.0068, Train Acc=1.0000, Test Loss=0.4660, Test Acc=0.8689\n"
          ]
        },
        {
          "name": "stderr",
          "output_type": "stream",
          "text": []
        },
        {
          "name": "stdout",
          "output_type": "stream",
          "text": [
            "Epoch 58: Train Loss=0.0069, Train Acc=1.0000, Test Loss=0.4769, Test Acc=0.8653\n"
          ]
        },
        {
          "name": "stderr",
          "output_type": "stream",
          "text": []
        },
        {
          "name": "stdout",
          "output_type": "stream",
          "text": [
            "Epoch 59: Train Loss=0.0068, Train Acc=1.0000, Test Loss=0.4683, Test Acc=0.8694\n"
          ]
        },
        {
          "name": "stderr",
          "output_type": "stream",
          "text": []
        },
        {
          "name": "stdout",
          "output_type": "stream",
          "text": [
            "Epoch 60: Train Loss=0.0062, Train Acc=1.0000, Test Loss=0.4578, Test Acc=0.8695\n"
          ]
        },
        {
          "name": "stderr",
          "output_type": "stream",
          "text": []
        },
        {
          "name": "stdout",
          "output_type": "stream",
          "text": [
            "Epoch 61: Train Loss=0.0059, Train Acc=1.0000, Test Loss=0.4557, Test Acc=0.8683\n"
          ]
        },
        {
          "name": "stderr",
          "output_type": "stream",
          "text": []
        },
        {
          "name": "stdout",
          "output_type": "stream",
          "text": [
            "Epoch 62: Train Loss=0.0057, Train Acc=1.0000, Test Loss=0.4597, Test Acc=0.8703\n"
          ]
        },
        {
          "name": "stderr",
          "output_type": "stream",
          "text": []
        },
        {
          "name": "stdout",
          "output_type": "stream",
          "text": [
            "Epoch 63: Train Loss=0.0060, Train Acc=1.0000, Test Loss=0.4651, Test Acc=0.8691\n"
          ]
        },
        {
          "name": "stderr",
          "output_type": "stream",
          "text": []
        },
        {
          "name": "stdout",
          "output_type": "stream",
          "text": [
            "Epoch 64: Train Loss=0.0062, Train Acc=1.0000, Test Loss=0.4654, Test Acc=0.8677\n"
          ]
        },
        {
          "name": "stderr",
          "output_type": "stream",
          "text": []
        },
        {
          "name": "stdout",
          "output_type": "stream",
          "text": [
            "Epoch 65: Train Loss=0.0059, Train Acc=1.0000, Test Loss=0.4527, Test Acc=0.8692\n"
          ]
        },
        {
          "name": "stderr",
          "output_type": "stream",
          "text": []
        },
        {
          "name": "stdout",
          "output_type": "stream",
          "text": [
            "Epoch 66: Train Loss=0.0056, Train Acc=1.0000, Test Loss=0.4546, Test Acc=0.8695\n"
          ]
        },
        {
          "name": "stderr",
          "output_type": "stream",
          "text": []
        },
        {
          "name": "stdout",
          "output_type": "stream",
          "text": [
            "Epoch 67: Train Loss=0.0057, Train Acc=1.0000, Test Loss=0.4577, Test Acc=0.8701\n"
          ]
        },
        {
          "name": "stderr",
          "output_type": "stream",
          "text": []
        },
        {
          "name": "stdout",
          "output_type": "stream",
          "text": [
            "Epoch 68: Train Loss=0.0059, Train Acc=1.0000, Test Loss=0.4555, Test Acc=0.8696\n"
          ]
        },
        {
          "name": "stderr",
          "output_type": "stream",
          "text": []
        },
        {
          "name": "stdout",
          "output_type": "stream",
          "text": [
            "Epoch 69: Train Loss=0.0057, Train Acc=1.0000, Test Loss=0.4522, Test Acc=0.8703\n"
          ]
        },
        {
          "name": "stderr",
          "output_type": "stream",
          "text": []
        },
        {
          "name": "stdout",
          "output_type": "stream",
          "text": [
            "Epoch 70: Train Loss=0.0058, Train Acc=1.0000, Test Loss=0.4529, Test Acc=0.8698\n"
          ]
        },
        {
          "name": "stderr",
          "output_type": "stream",
          "text": []
        },
        {
          "name": "stdout",
          "output_type": "stream",
          "text": [
            "Epoch 71: Train Loss=0.0058, Train Acc=1.0000, Test Loss=0.4550, Test Acc=0.8691\n"
          ]
        },
        {
          "name": "stderr",
          "output_type": "stream",
          "text": []
        },
        {
          "name": "stdout",
          "output_type": "stream",
          "text": [
            "Epoch 72: Train Loss=0.0056, Train Acc=1.0000, Test Loss=0.4518, Test Acc=0.8684\n"
          ]
        },
        {
          "name": "stderr",
          "output_type": "stream",
          "text": []
        },
        {
          "name": "stdout",
          "output_type": "stream",
          "text": [
            "Epoch 73: Train Loss=0.0056, Train Acc=1.0000, Test Loss=0.4542, Test Acc=0.8707\n"
          ]
        },
        {
          "name": "stderr",
          "output_type": "stream",
          "text": []
        },
        {
          "name": "stdout",
          "output_type": "stream",
          "text": [
            "Epoch 74: Train Loss=0.0055, Train Acc=1.0000, Test Loss=0.4523, Test Acc=0.8702\n"
          ]
        },
        {
          "name": "stderr",
          "output_type": "stream",
          "text": []
        },
        {
          "name": "stdout",
          "output_type": "stream",
          "text": [
            "Epoch 75: Train Loss=0.0056, Train Acc=1.0000, Test Loss=0.4541, Test Acc=0.8698\n"
          ]
        },
        {
          "name": "stderr",
          "output_type": "stream",
          "text": []
        },
        {
          "name": "stdout",
          "output_type": "stream",
          "text": [
            "Epoch 76: Train Loss=0.0057, Train Acc=1.0000, Test Loss=0.4511, Test Acc=0.8707\n"
          ]
        },
        {
          "name": "stderr",
          "output_type": "stream",
          "text": []
        },
        {
          "name": "stdout",
          "output_type": "stream",
          "text": [
            "Epoch 77: Train Loss=0.0056, Train Acc=1.0000, Test Loss=0.4509, Test Acc=0.8699\n"
          ]
        },
        {
          "name": "stderr",
          "output_type": "stream",
          "text": []
        },
        {
          "name": "stdout",
          "output_type": "stream",
          "text": [
            "Epoch 78: Train Loss=0.0054, Train Acc=1.0000, Test Loss=0.4546, Test Acc=0.8697\n"
          ]
        },
        {
          "name": "stderr",
          "output_type": "stream",
          "text": []
        },
        {
          "name": "stdout",
          "output_type": "stream",
          "text": [
            "Epoch 79: Train Loss=0.0055, Train Acc=1.0000, Test Loss=0.4519, Test Acc=0.8707\n"
          ]
        },
        {
          "name": "stderr",
          "output_type": "stream",
          "text": []
        },
        {
          "name": "stdout",
          "output_type": "stream",
          "text": [
            "Epoch 80: Train Loss=0.0055, Train Acc=1.0000, Test Loss=0.4506, Test Acc=0.8705\n"
          ]
        },
        {
          "name": "stderr",
          "output_type": "stream",
          "text": []
        },
        {
          "name": "stdout",
          "output_type": "stream",
          "text": [
            "Epoch 81: Train Loss=0.0055, Train Acc=1.0000, Test Loss=0.4528, Test Acc=0.8705\n"
          ]
        },
        {
          "name": "stderr",
          "output_type": "stream",
          "text": []
        },
        {
          "name": "stdout",
          "output_type": "stream",
          "text": [
            "Epoch 82: Train Loss=0.0055, Train Acc=1.0000, Test Loss=0.4517, Test Acc=0.8692\n"
          ]
        },
        {
          "name": "stderr",
          "output_type": "stream",
          "text": []
        },
        {
          "name": "stdout",
          "output_type": "stream",
          "text": [
            "Epoch 83: Train Loss=0.0055, Train Acc=1.0000, Test Loss=0.4516, Test Acc=0.8702\n"
          ]
        },
        {
          "name": "stderr",
          "output_type": "stream",
          "text": []
        },
        {
          "name": "stdout",
          "output_type": "stream",
          "text": [
            "Epoch 84: Train Loss=0.0054, Train Acc=1.0000, Test Loss=0.4512, Test Acc=0.8695\n"
          ]
        },
        {
          "name": "stderr",
          "output_type": "stream",
          "text": []
        },
        {
          "name": "stdout",
          "output_type": "stream",
          "text": [
            "Epoch 85: Train Loss=0.0055, Train Acc=1.0000, Test Loss=0.4533, Test Acc=0.8686\n"
          ]
        },
        {
          "name": "stderr",
          "output_type": "stream",
          "text": []
        },
        {
          "name": "stdout",
          "output_type": "stream",
          "text": [
            "Epoch 86: Train Loss=0.0053, Train Acc=1.0000, Test Loss=0.4499, Test Acc=0.8702\n"
          ]
        },
        {
          "name": "stderr",
          "output_type": "stream",
          "text": []
        },
        {
          "name": "stdout",
          "output_type": "stream",
          "text": [
            "Epoch 87: Train Loss=0.0054, Train Acc=1.0000, Test Loss=0.4509, Test Acc=0.8704\n"
          ]
        },
        {
          "name": "stderr",
          "output_type": "stream",
          "text": []
        },
        {
          "name": "stdout",
          "output_type": "stream",
          "text": [
            "Epoch 88: Train Loss=0.0056, Train Acc=1.0000, Test Loss=0.4591, Test Acc=0.8692\n"
          ]
        },
        {
          "name": "stderr",
          "output_type": "stream",
          "text": []
        },
        {
          "name": "stdout",
          "output_type": "stream",
          "text": [
            "Epoch 89: Train Loss=0.0055, Train Acc=1.0000, Test Loss=0.4507, Test Acc=0.8705\n"
          ]
        },
        {
          "name": "stderr",
          "output_type": "stream",
          "text": []
        },
        {
          "name": "stdout",
          "output_type": "stream",
          "text": [
            "Epoch 90: Train Loss=0.0056, Train Acc=1.0000, Test Loss=0.4498, Test Acc=0.8702\n"
          ]
        },
        {
          "name": "stderr",
          "output_type": "stream",
          "text": []
        },
        {
          "name": "stdout",
          "output_type": "stream",
          "text": [
            "Epoch 91: Train Loss=0.0054, Train Acc=1.0000, Test Loss=0.4518, Test Acc=0.8701\n"
          ]
        },
        {
          "name": "stderr",
          "output_type": "stream",
          "text": []
        },
        {
          "name": "stdout",
          "output_type": "stream",
          "text": [
            "Epoch 92: Train Loss=0.0054, Train Acc=1.0000, Test Loss=0.4507, Test Acc=0.8700\n"
          ]
        },
        {
          "name": "stderr",
          "output_type": "stream",
          "text": []
        },
        {
          "name": "stdout",
          "output_type": "stream",
          "text": [
            "Epoch 93: Train Loss=0.0053, Train Acc=1.0000, Test Loss=0.4515, Test Acc=0.8695\n"
          ]
        },
        {
          "name": "stderr",
          "output_type": "stream",
          "text": []
        },
        {
          "name": "stdout",
          "output_type": "stream",
          "text": [
            "Epoch 94: Train Loss=0.0056, Train Acc=1.0000, Test Loss=0.4526, Test Acc=0.8689\n"
          ]
        },
        {
          "name": "stderr",
          "output_type": "stream",
          "text": []
        },
        {
          "name": "stdout",
          "output_type": "stream",
          "text": [
            "Epoch 95: Train Loss=0.0055, Train Acc=1.0000, Test Loss=0.4522, Test Acc=0.8693\n"
          ]
        },
        {
          "name": "stderr",
          "output_type": "stream",
          "text": []
        },
        {
          "name": "stdout",
          "output_type": "stream",
          "text": [
            "Epoch 96: Train Loss=0.0054, Train Acc=1.0000, Test Loss=0.4510, Test Acc=0.8702\n"
          ]
        },
        {
          "name": "stderr",
          "output_type": "stream",
          "text": []
        },
        {
          "name": "stdout",
          "output_type": "stream",
          "text": [
            "Epoch 97: Train Loss=0.0053, Train Acc=1.0000, Test Loss=0.4503, Test Acc=0.8713\n"
          ]
        },
        {
          "name": "stderr",
          "output_type": "stream",
          "text": []
        },
        {
          "name": "stdout",
          "output_type": "stream",
          "text": [
            "Epoch 98: Train Loss=0.0053, Train Acc=1.0000, Test Loss=0.4516, Test Acc=0.8697\n"
          ]
        },
        {
          "name": "stderr",
          "output_type": "stream",
          "text": []
        },
        {
          "name": "stdout",
          "output_type": "stream",
          "text": [
            "Epoch 99: Train Loss=0.0054, Train Acc=1.0000, Test Loss=0.4511, Test Acc=0.8706\n"
          ]
        },
        {
          "name": "stderr",
          "output_type": "stream",
          "text": []
        },
        {
          "name": "stdout",
          "output_type": "stream",
          "text": [
            "Epoch 100: Train Loss=0.0056, Train Acc=1.0000, Test Loss=0.4516, Test Acc=0.8696\n"
          ]
        },
        {
          "data": {
            "image/png": "[encoded data removed]",
            "text/plain": [
              "<Figure size 1000x400 with 1 Axes>"
            ]
          },
          "metadata": {},
          "output_type": "display_data"
        },
        {
          "data": {
            "image/png": "[encoded data removed]",
            "text/plain": [
              "<Figure size 1000x400 with 1 Axes>"
            ]
          },
          "metadata": {},
          "output_type": "display_data"
        },
        {
          "name": "stdout",
          "output_type": "stream",
          "text": [
            "\n",
            " Best Testing Accuracy: 0.8713\n"
          ]
        }
      ],
      "source": [
        "K = 6\n",
        "L = 4\n",
        "out_channels_per_block = 64\n",
        "output_hidden_units = 128\n",
        "batch_size = 128\n",
        "num_epochs = 100\n",
        "learning_rate = 0.001\n",
        "\n",
        "conv_params_template = [\n",
        "    {'kernel_size': 3, 'padding': 1},\n",
        "    {'kernel_size': 3, 'padding': 1},\n",
        "    {'kernel_size': 3, 'padding': 1},\n",
        "    {'kernel_size': 3, 'padding': 1}\n",
        "]\n",
        "conv_params_per_block = [conv_params_template for _ in range(K)]\n",
        "model = CIFAR10CustomNet(\n",
        "    in_channels=3,\n",
        "    num_blocks=K,\n",
        "    conv_params_per_block=conv_params_per_block,\n",
        "    out_channels_per_block=out_channels_per_block,\n",
        "    output_hidden_units=output_hidden_units\n",
        ")\n",
        "train_iter, test_iter = load_data_cifar10(batch_size)\n",
        "device = torch.device('cuda' if torch.cuda.is_available() else 'gpu')\n",
        "history_imp3 = train_model(\n",
        "    model, train_iter, test_iter, device,\n",
        "    num_epochs=num_epochs,\n",
        "    lr=learning_rate\n",
        ")"
      ]
    },
    {
      "cell_type": "markdown",
      "metadata": {
        "id": "-FFMp9GMEuSJ"
      },
      "source": [
        "Improvement 4\n",
        "data augmentation"
      ]
    },
    {
      "cell_type": "code",
      "execution_count": null,
      "metadata": {
        "id": "nxtqGfvwm_Oz"
      },
      "outputs": [],
      "source": [
        "def load_data_cifar10(batch_size, resize=None):\n",
        "    \"\"\"Load CIFAR-10 with augmentation for training data.\"\"\"\n",
        "    normalize = transforms.Normalize(\n",
        "        mean=[0.4914, 0.4822, 0.4465],\n",
        "        std=[0.2023, 0.1994, 0.2010]\n",
        "    )\n",
        "\n",
        "    train_transforms = [\n",
        "        transforms.RandomHorizontalFlip(),\n",
        "        transforms.RandomCrop(32, padding=4),\n",
        "        transforms.ToTensor(),\n",
        "        normalize\n",
        "    ]\n",
        "\n",
        "    test_transforms = [\n",
        "        transforms.ToTensor(),\n",
        "        normalize\n",
        "    ]\n",
        "\n",
        "    cifar_train = torchvision.datasets.CIFAR10(\n",
        "        root=\"../data\", train=True, transform=transforms.Compose(train_transforms), download=True)\n",
        "    cifar_test = torchvision.datasets.CIFAR10(\n",
        "        root=\"../data\", train=False, transform=transforms.Compose(test_transforms), download=True)\n",
        "\n",
        "    return (\n",
        "        torch.utils.data.DataLoader(cifar_train, batch_size, shuffle=True, num_workers=2, pin_memory=True),\n",
        "        torch.utils.data.DataLoader(cifar_test, batch_size, shuffle=False, num_workers=2, pin_memory=True)\n",
        "    )\n"
      ]
    },
    {
      "cell_type": "code",
      "execution_count": null,
      "metadata": {
        "colab": {
          "base_uri": "https://localhost:8080/",
          "height": 1000
        },
        "id": "dPHPQyOmN_6a",
        "outputId": "735b157b-bc60-4cec-fcd1-92cec056d8a0"
      },
      "outputs": [
        {
          "name": "stderr",
          "output_type": "stream",
          "text": []
        },
        {
          "name": "stdout",
          "output_type": "stream",
          "text": [
            "Epoch 1: Train Loss=1.6055, Train Acc=0.3888, Test Loss=1.4947, Test Acc=0.4376\n"
          ]
        },
        {
          "name": "stderr",
          "output_type": "stream",
          "text": []
        },
        {
          "name": "stdout",
          "output_type": "stream",
          "text": [
            "Epoch 2: Train Loss=1.2324, Train Acc=0.5477, Test Loss=1.4290, Test Acc=0.4697\n"
          ]
        },
        {
          "name": "stderr",
          "output_type": "stream",
          "text": []
        },
        {
          "name": "stdout",
          "output_type": "stream",
          "text": [
            "Epoch 3: Train Loss=1.0562, Train Acc=0.6141, Test Loss=1.3878, Test Acc=0.5160\n"
          ]
        },
        {
          "name": "stderr",
          "output_type": "stream",
          "text": []
        },
        {
          "name": "stdout",
          "output_type": "stream",
          "text": [
            "Epoch 4: Train Loss=0.9553, Train Acc=0.6543, Test Loss=1.5409, Test Acc=0.4866\n"
          ]
        },
        {
          "name": "stderr",
          "output_type": "stream",
          "text": []
        },
        {
          "name": "stdout",
          "output_type": "stream",
          "text": [
            "Epoch 5: Train Loss=0.8833, Train Acc=0.6815, Test Loss=1.4425, Test Acc=0.5204\n"
          ]
        },
        {
          "name": "stderr",
          "output_type": "stream",
          "text": []
        },
        {
          "name": "stdout",
          "output_type": "stream",
          "text": [
            "Epoch 6: Train Loss=0.8213, Train Acc=0.7073, Test Loss=1.5144, Test Acc=0.5360\n"
          ]
        },
        {
          "name": "stderr",
          "output_type": "stream",
          "text": []
        },
        {
          "name": "stdout",
          "output_type": "stream",
          "text": [
            "Epoch 7: Train Loss=0.7754, Train Acc=0.7219, Test Loss=1.2105, Test Acc=0.6006\n"
          ]
        },
        {
          "name": "stderr",
          "output_type": "stream",
          "text": []
        },
        {
          "name": "stdout",
          "output_type": "stream",
          "text": [
            "Epoch 8: Train Loss=0.7198, Train Acc=0.7458, Test Loss=1.7416, Test Acc=0.4849\n"
          ]
        },
        {
          "name": "stderr",
          "output_type": "stream",
          "text": []
        },
        {
          "name": "stdout",
          "output_type": "stream",
          "text": [
            "Epoch 9: Train Loss=0.6806, Train Acc=0.7616, Test Loss=1.1950, Test Acc=0.6109\n"
          ]
        },
        {
          "name": "stderr",
          "output_type": "stream",
          "text": []
        },
        {
          "name": "stdout",
          "output_type": "stream",
          "text": [
            "Epoch 10: Train Loss=0.6430, Train Acc=0.7760, Test Loss=1.2939, Test Acc=0.6396\n"
          ]
        },
        {
          "name": "stderr",
          "output_type": "stream",
          "text": []
        },
        {
          "name": "stdout",
          "output_type": "stream",
          "text": [
            "Epoch 11: Train Loss=0.6119, Train Acc=0.7866, Test Loss=1.8596, Test Acc=0.5198\n"
          ]
        },
        {
          "name": "stderr",
          "output_type": "stream",
          "text": []
        },
        {
          "name": "stdout",
          "output_type": "stream",
          "text": [
            "Epoch 12: Train Loss=0.5870, Train Acc=0.7965, Test Loss=0.8680, Test Acc=0.7115\n"
          ]
        },
        {
          "name": "stderr",
          "output_type": "stream",
          "text": []
        },
        {
          "name": "stdout",
          "output_type": "stream",
          "text": [
            "Epoch 13: Train Loss=0.5549, Train Acc=0.8075, Test Loss=1.2866, Test Acc=0.6214\n"
          ]
        },
        {
          "name": "stderr",
          "output_type": "stream",
          "text": []
        },
        {
          "name": "stdout",
          "output_type": "stream",
          "text": [
            "Epoch 14: Train Loss=0.5360, Train Acc=0.8149, Test Loss=0.6684, Test Acc=0.7760\n"
          ]
        },
        {
          "name": "stderr",
          "output_type": "stream",
          "text": []
        },
        {
          "name": "stdout",
          "output_type": "stream",
          "text": [
            "Epoch 15: Train Loss=0.5169, Train Acc=0.8201, Test Loss=0.8426, Test Acc=0.7189\n"
          ]
        },
        {
          "name": "stderr",
          "output_type": "stream",
          "text": []
        },
        {
          "name": "stdout",
          "output_type": "stream",
          "text": [
            "Epoch 16: Train Loss=0.5018, Train Acc=0.8249, Test Loss=0.8246, Test Acc=0.7267\n"
          ]
        },
        {
          "name": "stderr",
          "output_type": "stream",
          "text": []
        },
        {
          "name": "stdout",
          "output_type": "stream",
          "text": [
            "Epoch 17: Train Loss=0.4809, Train Acc=0.8341, Test Loss=0.7422, Test Acc=0.7517\n"
          ]
        },
        {
          "name": "stderr",
          "output_type": "stream",
          "text": []
        },
        {
          "name": "stdout",
          "output_type": "stream",
          "text": [
            "Epoch 18: Train Loss=0.4665, Train Acc=0.8368, Test Loss=0.8839, Test Acc=0.7224\n"
          ]
        },
        {
          "name": "stderr",
          "output_type": "stream",
          "text": []
        },
        {
          "name": "stdout",
          "output_type": "stream",
          "text": [
            "Epoch 19: Train Loss=0.4537, Train Acc=0.8425, Test Loss=0.7797, Test Acc=0.7400\n"
          ]
        },
        {
          "name": "stderr",
          "output_type": "stream",
          "text": []
        },
        {
          "name": "stdout",
          "output_type": "stream",
          "text": [
            "Epoch 20: Train Loss=0.4458, Train Acc=0.8449, Test Loss=0.8948, Test Acc=0.7170\n"
          ]
        },
        {
          "name": "stderr",
          "output_type": "stream",
          "text": []
        },
        {
          "name": "stdout",
          "output_type": "stream",
          "text": [
            "Epoch 21: Train Loss=0.3506, Train Acc=0.8800, Test Loss=0.4824, Test Acc=0.8331\n"
          ]
        },
        {
          "name": "stderr",
          "output_type": "stream",
          "text": []
        },
        {
          "name": "stdout",
          "output_type": "stream",
          "text": [
            "Epoch 22: Train Loss=0.3350, Train Acc=0.8843, Test Loss=0.6553, Test Acc=0.7802\n"
          ]
        },
        {
          "name": "stderr",
          "output_type": "stream",
          "text": []
        },
        {
          "name": "stdout",
          "output_type": "stream",
          "text": [
            "Epoch 23: Train Loss=0.3249, Train Acc=0.8881, Test Loss=0.6619, Test Acc=0.7964\n"
          ]
        },
        {
          "name": "stderr",
          "output_type": "stream",
          "text": []
        },
        {
          "name": "stdout",
          "output_type": "stream",
          "text": [
            "Epoch 24: Train Loss=0.3174, Train Acc=0.8909, Test Loss=0.5781, Test Acc=0.8119\n"
          ]
        },
        {
          "name": "stderr",
          "output_type": "stream",
          "text": []
        },
        {
          "name": "stdout",
          "output_type": "stream",
          "text": [
            "Epoch 25: Train Loss=0.3055, Train Acc=0.8948, Test Loss=0.5066, Test Acc=0.8333\n"
          ]
        },
        {
          "name": "stderr",
          "output_type": "stream",
          "text": []
        },
        {
          "name": "stdout",
          "output_type": "stream",
          "text": [
            "Epoch 26: Train Loss=0.3034, Train Acc=0.8954, Test Loss=0.6685, Test Acc=0.7875\n"
          ]
        },
        {
          "name": "stderr",
          "output_type": "stream",
          "text": []
        },
        {
          "name": "stdout",
          "output_type": "stream",
          "text": [
            "Epoch 27: Train Loss=0.2951, Train Acc=0.8981, Test Loss=0.5509, Test Acc=0.8231\n"
          ]
        },
        {
          "name": "stderr",
          "output_type": "stream",
          "text": []
        },
        {
          "name": "stdout",
          "output_type": "stream",
          "text": [
            "Epoch 28: Train Loss=0.2847, Train Acc=0.9023, Test Loss=0.8249, Test Acc=0.7616\n"
          ]
        },
        {
          "name": "stderr",
          "output_type": "stream",
          "text": []
        },
        {
          "name": "stdout",
          "output_type": "stream",
          "text": [
            "Epoch 29: Train Loss=0.2823, Train Acc=0.9020, Test Loss=0.9482, Test Acc=0.7372\n"
          ]
        },
        {
          "name": "stderr",
          "output_type": "stream",
          "text": []
        },
        {
          "name": "stdout",
          "output_type": "stream",
          "text": [
            "Epoch 30: Train Loss=0.2712, Train Acc=0.9073, Test Loss=0.8088, Test Acc=0.7628\n"
          ]
        },
        {
          "name": "stderr",
          "output_type": "stream",
          "text": []
        },
        {
          "name": "stdout",
          "output_type": "stream",
          "text": [
            "Epoch 31: Train Loss=0.2661, Train Acc=0.9074, Test Loss=0.5951, Test Acc=0.8176\n"
          ]
        },
        {
          "name": "stderr",
          "output_type": "stream",
          "text": []
        },
        {
          "name": "stdout",
          "output_type": "stream",
          "text": [
            "Epoch 32: Train Loss=0.2026, Train Acc=0.9330, Test Loss=0.4259, Test Acc=0.8617\n"
          ]
        },
        {
          "name": "stderr",
          "output_type": "stream",
          "text": []
        },
        {
          "name": "stdout",
          "output_type": "stream",
          "text": [
            "Epoch 33: Train Loss=0.1832, Train Acc=0.9385, Test Loss=0.7153, Test Acc=0.7956\n"
          ]
        },
        {
          "name": "stderr",
          "output_type": "stream",
          "text": []
        },
        {
          "name": "stdout",
          "output_type": "stream",
          "text": [
            "Epoch 34: Train Loss=0.1788, Train Acc=0.9395, Test Loss=0.4926, Test Acc=0.8461\n"
          ]
        },
        {
          "name": "stderr",
          "output_type": "stream",
          "text": []
        },
        {
          "name": "stdout",
          "output_type": "stream",
          "text": [
            "Epoch 35: Train Loss=0.1705, Train Acc=0.9430, Test Loss=0.5119, Test Acc=0.8388\n"
          ]
        },
        {
          "name": "stderr",
          "output_type": "stream",
          "text": []
        },
        {
          "name": "stdout",
          "output_type": "stream",
          "text": [
            "Epoch 36: Train Loss=0.1670, Train Acc=0.9441, Test Loss=0.4752, Test Acc=0.8534\n"
          ]
        },
        {
          "name": "stderr",
          "output_type": "stream",
          "text": []
        },
        {
          "name": "stdout",
          "output_type": "stream",
          "text": [
            "Epoch 37: Train Loss=0.1621, Train Acc=0.9449, Test Loss=0.5419, Test Acc=0.8368\n"
          ]
        },
        {
          "name": "stderr",
          "output_type": "stream",
          "text": []
        },
        {
          "name": "stdout",
          "output_type": "stream",
          "text": [
            "Epoch 38: Train Loss=0.1555, Train Acc=0.9474, Test Loss=0.5884, Test Acc=0.8300\n"
          ]
        },
        {
          "name": "stderr",
          "output_type": "stream",
          "text": []
        },
        {
          "name": "stdout",
          "output_type": "stream",
          "text": [
            "Epoch 39: Train Loss=0.1220, Train Acc=0.9612, Test Loss=0.4066, Test Acc=0.8744\n"
          ]
        },
        {
          "name": "stderr",
          "output_type": "stream",
          "text": []
        },
        {
          "name": "stdout",
          "output_type": "stream",
          "text": [
            "Epoch 40: Train Loss=0.1110, Train Acc=0.9654, Test Loss=0.4597, Test Acc=0.8586\n"
          ]
        },
        {
          "name": "stderr",
          "output_type": "stream",
          "text": []
        },
        {
          "name": "stdout",
          "output_type": "stream",
          "text": [
            "Epoch 41: Train Loss=0.1044, Train Acc=0.9680, Test Loss=0.3988, Test Acc=0.8742\n"
          ]
        },
        {
          "name": "stderr",
          "output_type": "stream",
          "text": []
        },
        {
          "name": "stdout",
          "output_type": "stream",
          "text": [
            "Epoch 42: Train Loss=0.0984, Train Acc=0.9702, Test Loss=0.4636, Test Acc=0.8598\n"
          ]
        },
        {
          "name": "stderr",
          "output_type": "stream",
          "text": []
        },
        {
          "name": "stdout",
          "output_type": "stream",
          "text": [
            "Epoch 43: Train Loss=0.0960, Train Acc=0.9709, Test Loss=0.4646, Test Acc=0.8630\n"
          ]
        },
        {
          "name": "stderr",
          "output_type": "stream",
          "text": []
        },
        {
          "name": "stdout",
          "output_type": "stream",
          "text": [
            "Epoch 44: Train Loss=0.0956, Train Acc=0.9702, Test Loss=0.4113, Test Acc=0.8780\n"
          ]
        },
        {
          "name": "stderr",
          "output_type": "stream",
          "text": []
        },
        {
          "name": "stdout",
          "output_type": "stream",
          "text": [
            "Epoch 45: Train Loss=0.0904, Train Acc=0.9738, Test Loss=0.4381, Test Acc=0.8698\n"
          ]
        },
        {
          "name": "stderr",
          "output_type": "stream",
          "text": []
        },
        {
          "name": "stdout",
          "output_type": "stream",
          "text": [
            "Epoch 46: Train Loss=0.0865, Train Acc=0.9743, Test Loss=0.4640, Test Acc=0.8664\n"
          ]
        },
        {
          "name": "stderr",
          "output_type": "stream",
          "text": []
        },
        {
          "name": "stdout",
          "output_type": "stream",
          "text": [
            "Epoch 47: Train Loss=0.0854, Train Acc=0.9741, Test Loss=0.4637, Test Acc=0.8631\n"
          ]
        },
        {
          "name": "stderr",
          "output_type": "stream",
          "text": []
        },
        {
          "name": "stdout",
          "output_type": "stream",
          "text": [
            "Epoch 48: Train Loss=0.0845, Train Acc=0.9747, Test Loss=0.4941, Test Acc=0.8577\n"
          ]
        },
        {
          "name": "stderr",
          "output_type": "stream",
          "text": []
        },
        {
          "name": "stdout",
          "output_type": "stream",
          "text": [
            "Epoch 49: Train Loss=0.0808, Train Acc=0.9762, Test Loss=0.4653, Test Acc=0.8621\n"
          ]
        },
        {
          "name": "stderr",
          "output_type": "stream",
          "text": []
        },
        {
          "name": "stdout",
          "output_type": "stream",
          "text": [
            "Epoch 50: Train Loss=0.0769, Train Acc=0.9774, Test Loss=0.4744, Test Acc=0.8635\n"
          ]
        },
        {
          "name": "stderr",
          "output_type": "stream",
          "text": []
        },
        {
          "name": "stdout",
          "output_type": "stream",
          "text": [
            "Epoch 51: Train Loss=0.0599, Train Acc=0.9845, Test Loss=0.4189, Test Acc=0.8798\n"
          ]
        },
        {
          "name": "stderr",
          "output_type": "stream",
          "text": []
        },
        {
          "name": "stdout",
          "output_type": "stream",
          "text": [
            "Epoch 52: Train Loss=0.0552, Train Acc=0.9867, Test Loss=0.4579, Test Acc=0.8703\n"
          ]
        },
        {
          "name": "stderr",
          "output_type": "stream",
          "text": []
        },
        {
          "name": "stdout",
          "output_type": "stream",
          "text": [
            "Epoch 53: Train Loss=0.0555, Train Acc=0.9858, Test Loss=0.4262, Test Acc=0.8768\n"
          ]
        },
        {
          "name": "stderr",
          "output_type": "stream",
          "text": []
        },
        {
          "name": "stdout",
          "output_type": "stream",
          "text": [
            "Epoch 54: Train Loss=0.0530, Train Acc=0.9873, Test Loss=0.4111, Test Acc=0.8826\n"
          ]
        },
        {
          "name": "stderr",
          "output_type": "stream",
          "text": []
        },
        {
          "name": "stdout",
          "output_type": "stream",
          "text": [
            "Epoch 55: Train Loss=0.0503, Train Acc=0.9883, Test Loss=0.4594, Test Acc=0.8696\n"
          ]
        },
        {
          "name": "stderr",
          "output_type": "stream",
          "text": []
        },
        {
          "name": "stdout",
          "output_type": "stream",
          "text": [
            "Epoch 56: Train Loss=0.0489, Train Acc=0.9886, Test Loss=0.4367, Test Acc=0.8738\n"
          ]
        },
        {
          "name": "stderr",
          "output_type": "stream",
          "text": []
        },
        {
          "name": "stdout",
          "output_type": "stream",
          "text": [
            "Epoch 57: Train Loss=0.0476, Train Acc=0.9889, Test Loss=0.4526, Test Acc=0.8705\n"
          ]
        },
        {
          "name": "stderr",
          "output_type": "stream",
          "text": []
        },
        {
          "name": "stdout",
          "output_type": "stream",
          "text": [
            "Epoch 58: Train Loss=0.0463, Train Acc=0.9898, Test Loss=0.4133, Test Acc=0.8824\n"
          ]
        },
        {
          "name": "stderr",
          "output_type": "stream",
          "text": []
        },
        {
          "name": "stdout",
          "output_type": "stream",
          "text": [
            "Epoch 59: Train Loss=0.0451, Train Acc=0.9900, Test Loss=0.4552, Test Acc=0.8709\n"
          ]
        },
        {
          "name": "stderr",
          "output_type": "stream",
          "text": []
        },
        {
          "name": "stdout",
          "output_type": "stream",
          "text": [
            "Epoch 60: Train Loss=0.0455, Train Acc=0.9896, Test Loss=0.4258, Test Acc=0.8794\n"
          ]
        },
        {
          "name": "stderr",
          "output_type": "stream",
          "text": []
        },
        {
          "name": "stdout",
          "output_type": "stream",
          "text": [
            "Epoch 61: Train Loss=0.0383, Train Acc=0.9922, Test Loss=0.4194, Test Acc=0.8801\n"
          ]
        },
        {
          "name": "stderr",
          "output_type": "stream",
          "text": []
        },
        {
          "name": "stdout",
          "output_type": "stream",
          "text": [
            "Epoch 62: Train Loss=0.0357, Train Acc=0.9935, Test Loss=0.4160, Test Acc=0.8826\n"
          ]
        },
        {
          "name": "stderr",
          "output_type": "stream",
          "text": []
        },
        {
          "name": "stdout",
          "output_type": "stream",
          "text": [
            "Epoch 63: Train Loss=0.0343, Train Acc=0.9943, Test Loss=0.4129, Test Acc=0.8814\n"
          ]
        },
        {
          "name": "stderr",
          "output_type": "stream",
          "text": []
        },
        {
          "name": "stdout",
          "output_type": "stream",
          "text": [
            "Epoch 64: Train Loss=0.0332, Train Acc=0.9946, Test Loss=0.4210, Test Acc=0.8821\n"
          ]
        },
        {
          "name": "stderr",
          "output_type": "stream",
          "text": []
        },
        {
          "name": "stdout",
          "output_type": "stream",
          "text": [
            "Epoch 65: Train Loss=0.0339, Train Acc=0.9940, Test Loss=0.4259, Test Acc=0.8807\n"
          ]
        },
        {
          "name": "stderr",
          "output_type": "stream",
          "text": []
        },
        {
          "name": "stdout",
          "output_type": "stream",
          "text": [
            "Epoch 66: Train Loss=0.0340, Train Acc=0.9943, Test Loss=0.4393, Test Acc=0.8799\n"
          ]
        },
        {
          "name": "stderr",
          "output_type": "stream",
          "text": []
        },
        {
          "name": "stdout",
          "output_type": "stream",
          "text": [
            "Epoch 67: Train Loss=0.0316, Train Acc=0.9944, Test Loss=0.4129, Test Acc=0.8839\n"
          ]
        },
        {
          "name": "stderr",
          "output_type": "stream",
          "text": []
        },
        {
          "name": "stdout",
          "output_type": "stream",
          "text": [
            "Epoch 68: Train Loss=0.0299, Train Acc=0.9955, Test Loss=0.4143, Test Acc=0.8839\n"
          ]
        },
        {
          "name": "stderr",
          "output_type": "stream",
          "text": []
        },
        {
          "name": "stdout",
          "output_type": "stream",
          "text": [
            "Epoch 69: Train Loss=0.0293, Train Acc=0.9955, Test Loss=0.4162, Test Acc=0.8847\n"
          ]
        },
        {
          "name": "stderr",
          "output_type": "stream",
          "text": []
        },
        {
          "name": "stdout",
          "output_type": "stream",
          "text": [
            "Epoch 70: Train Loss=0.0289, Train Acc=0.9959, Test Loss=0.4130, Test Acc=0.8845\n"
          ]
        },
        {
          "name": "stderr",
          "output_type": "stream",
          "text": []
        },
        {
          "name": "stdout",
          "output_type": "stream",
          "text": [
            "Epoch 71: Train Loss=0.0286, Train Acc=0.9958, Test Loss=0.4156, Test Acc=0.8858\n"
          ]
        },
        {
          "name": "stderr",
          "output_type": "stream",
          "text": []
        },
        {
          "name": "stdout",
          "output_type": "stream",
          "text": [
            "Epoch 72: Train Loss=0.0281, Train Acc=0.9961, Test Loss=0.4162, Test Acc=0.8855\n"
          ]
        },
        {
          "name": "stderr",
          "output_type": "stream",
          "text": []
        },
        {
          "name": "stdout",
          "output_type": "stream",
          "text": [
            "Epoch 73: Train Loss=0.0289, Train Acc=0.9953, Test Loss=0.4188, Test Acc=0.8850\n"
          ]
        },
        {
          "name": "stderr",
          "output_type": "stream",
          "text": []
        },
        {
          "name": "stdout",
          "output_type": "stream",
          "text": [
            "Epoch 74: Train Loss=0.0285, Train Acc=0.9957, Test Loss=0.4172, Test Acc=0.8834\n"
          ]
        },
        {
          "name": "stderr",
          "output_type": "stream",
          "text": []
        },
        {
          "name": "stdout",
          "output_type": "stream",
          "text": [
            "Epoch 75: Train Loss=0.0278, Train Acc=0.9960, Test Loss=0.4218, Test Acc=0.8831\n"
          ]
        },
        {
          "name": "stderr",
          "output_type": "stream",
          "text": []
        },
        {
          "name": "stdout",
          "output_type": "stream",
          "text": [
            "Epoch 76: Train Loss=0.0270, Train Acc=0.9964, Test Loss=0.4170, Test Acc=0.8850\n"
          ]
        },
        {
          "name": "stderr",
          "output_type": "stream",
          "text": []
        },
        {
          "name": "stdout",
          "output_type": "stream",
          "text": [
            "Epoch 77: Train Loss=0.0271, Train Acc=0.9965, Test Loss=0.4219, Test Acc=0.8839\n"
          ]
        },
        {
          "name": "stderr",
          "output_type": "stream",
          "text": []
        },
        {
          "name": "stdout",
          "output_type": "stream",
          "text": [
            "Epoch 78: Train Loss=0.0254, Train Acc=0.9968, Test Loss=0.4157, Test Acc=0.8841\n"
          ]
        },
        {
          "name": "stderr",
          "output_type": "stream",
          "text": []
        },
        {
          "name": "stdout",
          "output_type": "stream",
          "text": [
            "Epoch 79: Train Loss=0.0253, Train Acc=0.9966, Test Loss=0.4210, Test Acc=0.8832\n"
          ]
        },
        {
          "name": "stderr",
          "output_type": "stream",
          "text": []
        },
        {
          "name": "stdout",
          "output_type": "stream",
          "text": [
            "Epoch 80: Train Loss=0.0253, Train Acc=0.9970, Test Loss=0.4137, Test Acc=0.8850\n"
          ]
        },
        {
          "name": "stderr",
          "output_type": "stream",
          "text": []
        },
        {
          "name": "stdout",
          "output_type": "stream",
          "text": [
            "Epoch 81: Train Loss=0.0241, Train Acc=0.9973, Test Loss=0.4194, Test Acc=0.8839\n"
          ]
        },
        {
          "name": "stderr",
          "output_type": "stream",
          "text": []
        },
        {
          "name": "stdout",
          "output_type": "stream",
          "text": [
            "Epoch 82: Train Loss=0.0241, Train Acc=0.9972, Test Loss=0.4182, Test Acc=0.8838\n"
          ]
        },
        {
          "name": "stderr",
          "output_type": "stream",
          "text": []
        },
        {
          "name": "stdout",
          "output_type": "stream",
          "text": [
            "Epoch 83: Train Loss=0.0239, Train Acc=0.9974, Test Loss=0.4166, Test Acc=0.8854\n"
          ]
        },
        {
          "name": "stderr",
          "output_type": "stream",
          "text": []
        },
        {
          "name": "stdout",
          "output_type": "stream",
          "text": [
            "Epoch 84: Train Loss=0.0241, Train Acc=0.9969, Test Loss=0.4166, Test Acc=0.8859\n"
          ]
        },
        {
          "name": "stderr",
          "output_type": "stream",
          "text": []
        },
        {
          "name": "stdout",
          "output_type": "stream",
          "text": [
            "Epoch 85: Train Loss=0.0237, Train Acc=0.9970, Test Loss=0.4172, Test Acc=0.8851\n"
          ]
        },
        {
          "name": "stderr",
          "output_type": "stream",
          "text": []
        },
        {
          "name": "stdout",
          "output_type": "stream",
          "text": [
            "Epoch 86: Train Loss=0.0233, Train Acc=0.9974, Test Loss=0.4180, Test Acc=0.8852\n"
          ]
        },
        {
          "name": "stderr",
          "output_type": "stream",
          "text": []
        },
        {
          "name": "stdout",
          "output_type": "stream",
          "text": [
            "Epoch 87: Train Loss=0.0232, Train Acc=0.9974, Test Loss=0.4184, Test Acc=0.8856\n"
          ]
        },
        {
          "name": "stderr",
          "output_type": "stream",
          "text": []
        },
        {
          "name": "stdout",
          "output_type": "stream",
          "text": [
            "Epoch 88: Train Loss=0.0238, Train Acc=0.9972, Test Loss=0.4160, Test Acc=0.8860\n"
          ]
        },
        {
          "name": "stderr",
          "output_type": "stream",
          "text": []
        },
        {
          "name": "stdout",
          "output_type": "stream",
          "text": [
            "Epoch 89: Train Loss=0.0234, Train Acc=0.9975, Test Loss=0.4155, Test Acc=0.8848\n"
          ]
        },
        {
          "name": "stderr",
          "output_type": "stream",
          "text": []
        },
        {
          "name": "stdout",
          "output_type": "stream",
          "text": [
            "Epoch 90: Train Loss=0.0242, Train Acc=0.9968, Test Loss=0.4173, Test Acc=0.8844\n"
          ]
        },
        {
          "name": "stderr",
          "output_type": "stream",
          "text": []
        },
        {
          "name": "stdout",
          "output_type": "stream",
          "text": [
            "Epoch 91: Train Loss=0.0238, Train Acc=0.9972, Test Loss=0.4205, Test Acc=0.8838\n"
          ]
        },
        {
          "name": "stderr",
          "output_type": "stream",
          "text": []
        },
        {
          "name": "stdout",
          "output_type": "stream",
          "text": [
            "Epoch 92: Train Loss=0.0233, Train Acc=0.9976, Test Loss=0.4204, Test Acc=0.8855\n"
          ]
        },
        {
          "name": "stderr",
          "output_type": "stream",
          "text": []
        },
        {
          "name": "stdout",
          "output_type": "stream",
          "text": [
            "Epoch 93: Train Loss=0.0236, Train Acc=0.9973, Test Loss=0.4190, Test Acc=0.8834\n"
          ]
        },
        {
          "name": "stderr",
          "output_type": "stream",
          "text": []
        },
        {
          "name": "stdout",
          "output_type": "stream",
          "text": [
            "Epoch 94: Train Loss=0.0224, Train Acc=0.9977, Test Loss=0.4210, Test Acc=0.8845\n"
          ]
        },
        {
          "name": "stderr",
          "output_type": "stream",
          "text": []
        },
        {
          "name": "stdout",
          "output_type": "stream",
          "text": [
            "Epoch 95: Train Loss=0.0235, Train Acc=0.9975, Test Loss=0.4199, Test Acc=0.8850\n"
          ]
        },
        {
          "name": "stderr",
          "output_type": "stream",
          "text": []
        },
        {
          "name": "stdout",
          "output_type": "stream",
          "text": [
            "Epoch 96: Train Loss=0.0223, Train Acc=0.9975, Test Loss=0.4214, Test Acc=0.8842\n"
          ]
        },
        {
          "name": "stderr",
          "output_type": "stream",
          "text": []
        },
        {
          "name": "stdout",
          "output_type": "stream",
          "text": [
            "Epoch 97: Train Loss=0.0225, Train Acc=0.9977, Test Loss=0.4176, Test Acc=0.8859\n"
          ]
        },
        {
          "name": "stderr",
          "output_type": "stream",
          "text": []
        },
        {
          "name": "stdout",
          "output_type": "stream",
          "text": [
            "Epoch 98: Train Loss=0.0227, Train Acc=0.9973, Test Loss=0.4184, Test Acc=0.8848\n"
          ]
        },
        {
          "name": "stderr",
          "output_type": "stream",
          "text": []
        },
        {
          "name": "stdout",
          "output_type": "stream",
          "text": [
            "Epoch 99: Train Loss=0.0223, Train Acc=0.9977, Test Loss=0.4172, Test Acc=0.8841\n"
          ]
        },
        {
          "name": "stderr",
          "output_type": "stream",
          "text": []
        },
        {
          "name": "stdout",
          "output_type": "stream",
          "text": [
            "Epoch 100: Train Loss=0.0231, Train Acc=0.9975, Test Loss=0.4187, Test Acc=0.8849\n"
          ]
        },
        {
          "data": {
            "image/png": "[encoded data removed]",
            "text/plain": [
              "<Figure size 1000x400 with 1 Axes>"
            ]
          },
          "metadata": {},
          "output_type": "display_data"
        },
        {
          "data": {
            "image/png": "[encoded data removed]",
            "text/plain": [
              "<Figure size 1000x400 with 1 Axes>"
            ]
          },
          "metadata": {},
          "output_type": "display_data"
        },
        {
          "name": "stdout",
          "output_type": "stream",
          "text": [
            "\n",
            " Best Testing Accuracy: 0.8860\n"
          ]
        }
      ],
      "source": [
        "K = 6\n",
        "L = 4\n",
        "out_channels_per_block = 64\n",
        "output_hidden_units = 128\n",
        "batch_size = 128\n",
        "num_epochs = 100\n",
        "learning_rate = 0.001\n",
        "\n",
        "conv_params_template = [\n",
        "    {'kernel_size': 3, 'padding': 1},\n",
        "    {'kernel_size': 3, 'padding': 1},\n",
        "    {'kernel_size': 3, 'padding': 1},\n",
        "    {'kernel_size': 3, 'padding': 1}\n",
        "]\n",
        "conv_params_per_block = [conv_params_template for _ in range(K)]\n",
        "model = CIFAR10CustomNet(\n",
        "    in_channels=3,\n",
        "    num_blocks=K,\n",
        "    conv_params_per_block=conv_params_per_block,\n",
        "    out_channels_per_block=out_channels_per_block,\n",
        "    output_hidden_units=output_hidden_units\n",
        ")\n",
        "train_iter, test_iter = load_data_cifar10(batch_size)\n",
        "device = torch.device('cuda' if torch.cuda.is_available() else 'gpu')\n",
        "history_imp3 = train_model(\n",
        "    model, train_iter, test_iter, device,\n",
        "    num_epochs=num_epochs,\n",
        "    lr=learning_rate\n",
        ")"
      ]
    },
    {
      "cell_type": "markdown",
      "metadata": {
        "id": "TtjSYyDl1w3M"
      },
      "source": [
        "imropve 5\n",
        "using sgd instead of adam\n",
        "cosine annealing and randAug and 128 output channels and 250 epochs"
      ]
    },
    {
      "cell_type": "code",
      "execution_count": null,
      "metadata": {
        "colab": {
          "base_uri": "https://localhost:8080/",
          "height": 216
        },
        "id": "brA32qsO1yII",
        "outputId": "9d6a4064-5103-4d44-db5a-7f07a95ba5d7"
      },
      "outputs": [
        {
          "name": "stderr",
          "output_type": "stream",
          "text": [
            "                                                                   \r"
          ]
        },
        {
          "name": "stdout",
          "output_type": "stream",
          "text": [
            "Epoch 1: Train Loss=1.8214, Train Acc=0.3058, Test Loss=1.7553, Test Acc=0.3561\n"
          ]
        },
        {
          "name": "stderr",
          "output_type": "stream",
          "text": [
            "                                                                   \r"
          ]
        },
        {
          "name": "stdout",
          "output_type": "stream",
          "text": [
            "Epoch 2: Train Loss=1.5249, Train Acc=0.4337, Test Loss=2.2925, Test Acc=0.3335\n"
          ]
        },
        {
          "name": "stderr",
          "output_type": "stream",
          "text": [
            "                                                                   \r"
          ]
        },
        {
          "name": "stdout",
          "output_type": "stream",
          "text": [
            "Epoch 3: Train Loss=1.3649, Train Acc=0.4977, Test Loss=1.7353, Test Acc=0.4652\n"
          ]
        },
        {
          "name": "stderr",
          "output_type": "stream",
          "text": [
            "                                                                   \r"
          ]
        },
        {
          "name": "stdout",
          "output_type": "stream",
          "text": [
            "Epoch 4: Train Loss=1.2557, Train Acc=0.5443, Test Loss=1.4568, Test Acc=0.4889\n"
          ]
        },
        {
          "name": "stderr",
          "output_type": "stream",
          "text": [
            "                                                                   \r"
          ]
        },
        {
          "name": "stdout",
          "output_type": "stream",
          "text": [
            "Epoch 5: Train Loss=1.1630, Train Acc=0.5789, Test Loss=1.2793, Test Acc=0.5603\n"
          ]
        },
        {
          "name": "stderr",
          "output_type": "stream",
          "text": [
            "                                                                   \r"
          ]
        },
        {
          "name": "stdout",
          "output_type": "stream",
          "text": [
            "Epoch 6: Train Loss=1.0947, Train Acc=0.6072, Test Loss=1.1636, Test Acc=0.5904\n"
          ]
        },
        {
          "name": "stderr",
          "output_type": "stream",
          "text": [
            "                                                                   \r"
          ]
        },
        {
          "name": "stdout",
          "output_type": "stream",
          "text": [
            "Epoch 7: Train Loss=1.0464, Train Acc=0.6270, Test Loss=1.2728, Test Acc=0.5835\n"
          ]
        },
        {
          "name": "stderr",
          "output_type": "stream",
          "text": [
            "                                                                   \r"
          ]
        },
        {
          "name": "stdout",
          "output_type": "stream",
          "text": [
            "Epoch 8: Train Loss=0.9973, Train Acc=0.6423, Test Loss=1.1290, Test Acc=0.6166\n"
          ]
        },
        {
          "name": "stderr",
          "output_type": "stream",
          "text": [
            "                                                                   \r"
          ]
        },
        {
          "name": "stdout",
          "output_type": "stream",
          "text": [
            "Epoch 9: Train Loss=0.9715, Train Acc=0.6547, Test Loss=1.0986, Test Acc=0.6303\n"
          ]
        },
        {
          "name": "stderr",
          "output_type": "stream",
          "text": [
            "                                                                   \r"
          ]
        },
        {
          "name": "stdout",
          "output_type": "stream",
          "text": [
            "Epoch 10: Train Loss=0.9398, Train Acc=0.6668, Test Loss=1.1186, Test Acc=0.6240\n"
          ]
        },
        {
          "name": "stderr",
          "output_type": "stream",
          "text": [
            "                                                                   \r"
          ]
        },
        {
          "name": "stdout",
          "output_type": "stream",
          "text": [
            "Epoch 11: Train Loss=0.9024, Train Acc=0.6827, Test Loss=1.0370, Test Acc=0.6451\n"
          ]
        },
        {
          "name": "stderr",
          "output_type": "stream",
          "text": [
            "                                                                   \r"
          ]
        },
        {
          "name": "stdout",
          "output_type": "stream",
          "text": [
            "Epoch 12: Train Loss=0.8717, Train Acc=0.6948, Test Loss=1.0940, Test Acc=0.6433\n"
          ]
        },
        {
          "name": "stderr",
          "output_type": "stream",
          "text": [
            "                                                                   \r"
          ]
        },
        {
          "name": "stdout",
          "output_type": "stream",
          "text": [
            "Epoch 13: Train Loss=0.8545, Train Acc=0.7005, Test Loss=1.0827, Test Acc=0.6360\n"
          ]
        },
        {
          "name": "stderr",
          "output_type": "stream",
          "text": [
            "                                                                   \r"
          ]
        },
        {
          "name": "stdout",
          "output_type": "stream",
          "text": [
            "Epoch 14: Train Loss=0.8464, Train Acc=0.7053, Test Loss=1.3506, Test Acc=0.5846\n"
          ]
        },
        {
          "name": "stderr",
          "output_type": "stream",
          "text": [
            "                                                                   \r"
          ]
        },
        {
          "name": "stdout",
          "output_type": "stream",
          "text": [
            "Epoch 15: Train Loss=0.8336, Train Acc=0.7076, Test Loss=0.9159, Test Acc=0.6874\n"
          ]
        },
        {
          "name": "stderr",
          "output_type": "stream",
          "text": [
            "                                                                   \r"
          ]
        },
        {
          "name": "stdout",
          "output_type": "stream",
          "text": [
            "Epoch 16: Train Loss=0.8122, Train Acc=0.7177, Test Loss=4.1405, Test Acc=0.3554\n"
          ]
        },
        {
          "name": "stderr",
          "output_type": "stream",
          "text": [
            "                                                                   \r"
          ]
        },
        {
          "name": "stdout",
          "output_type": "stream",
          "text": [
            "Epoch 17: Train Loss=0.8013, Train Acc=0.7210, Test Loss=1.0166, Test Acc=0.6724\n"
          ]
        },
        {
          "name": "stderr",
          "output_type": "stream",
          "text": [
            "                                                                   \r"
          ]
        },
        {
          "name": "stdout",
          "output_type": "stream",
          "text": [
            "Epoch 18: Train Loss=0.7883, Train Acc=0.7226, Test Loss=0.9267, Test Acc=0.6907\n"
          ]
        },
        {
          "name": "stderr",
          "output_type": "stream",
          "text": [
            "                                                                   \r"
          ]
        },
        {
          "name": "stdout",
          "output_type": "stream",
          "text": [
            "Epoch 19: Train Loss=0.7816, Train Acc=0.7296, Test Loss=1.4182, Test Acc=0.5693\n"
          ]
        },
        {
          "name": "stderr",
          "output_type": "stream",
          "text": [
            "                                                                   \r"
          ]
        },
        {
          "name": "stdout",
          "output_type": "stream",
          "text": [
            "Epoch 20: Train Loss=0.7721, Train Acc=0.7303, Test Loss=0.9515, Test Acc=0.6819\n"
          ]
        },
        {
          "name": "stderr",
          "output_type": "stream",
          "text": [
            "                                                                   \r"
          ]
        },
        {
          "name": "stdout",
          "output_type": "stream",
          "text": [
            "Epoch 21: Train Loss=0.7700, Train Acc=0.7314, Test Loss=1.4857, Test Acc=0.6030\n"
          ]
        },
        {
          "name": "stderr",
          "output_type": "stream",
          "text": [
            "                                                                   \r"
          ]
        },
        {
          "name": "stdout",
          "output_type": "stream",
          "text": [
            "Epoch 22: Train Loss=0.7553, Train Acc=0.7384, Test Loss=1.5196, Test Acc=0.6081\n"
          ]
        },
        {
          "name": "stderr",
          "output_type": "stream",
          "text": [
            "                                                                   \r"
          ]
        },
        {
          "name": "stdout",
          "output_type": "stream",
          "text": [
            "Epoch 23: Train Loss=0.7603, Train Acc=0.7341, Test Loss=1.1555, Test Acc=0.6488\n"
          ]
        },
        {
          "name": "stderr",
          "output_type": "stream",
          "text": [
            "                                                                   \r"
          ]
        },
        {
          "name": "stdout",
          "output_type": "stream",
          "text": [
            "Epoch 24: Train Loss=0.7364, Train Acc=0.7428, Test Loss=0.9428, Test Acc=0.6976\n"
          ]
        },
        {
          "name": "stderr",
          "output_type": "stream",
          "text": [
            "                                                                   \r"
          ]
        },
        {
          "name": "stdout",
          "output_type": "stream",
          "text": [
            "Epoch 25: Train Loss=0.7403, Train Acc=0.7431, Test Loss=1.2331, Test Acc=0.6363\n"
          ]
        },
        {
          "name": "stderr",
          "output_type": "stream",
          "text": [
            "                                                                   \r"
          ]
        },
        {
          "name": "stdout",
          "output_type": "stream",
          "text": [
            "Epoch 26: Train Loss=0.7392, Train Acc=0.7421, Test Loss=1.5253, Test Acc=0.5738\n"
          ]
        },
        {
          "name": "stderr",
          "output_type": "stream",
          "text": [
            "                                                                   \r"
          ]
        },
        {
          "name": "stdout",
          "output_type": "stream",
          "text": [
            "Epoch 27: Train Loss=0.7303, Train Acc=0.7450, Test Loss=1.0864, Test Acc=0.6769\n"
          ]
        },
        {
          "name": "stderr",
          "output_type": "stream",
          "text": [
            "                                                                   \r"
          ]
        },
        {
          "name": "stdout",
          "output_type": "stream",
          "text": [
            "Epoch 28: Train Loss=0.7301, Train Acc=0.7476, Test Loss=0.8060, Test Acc=0.7392\n"
          ]
        },
        {
          "name": "stderr",
          "output_type": "stream",
          "text": [
            "                                                                   \r"
          ]
        },
        {
          "name": "stdout",
          "output_type": "stream",
          "text": [
            "Epoch 29: Train Loss=0.7212, Train Acc=0.7515, Test Loss=1.1914, Test Acc=0.6413\n"
          ]
        },
        {
          "name": "stderr",
          "output_type": "stream",
          "text": [
            "                                                                   \r"
          ]
        },
        {
          "name": "stdout",
          "output_type": "stream",
          "text": [
            "Epoch 30: Train Loss=0.7192, Train Acc=0.7511, Test Loss=0.8174, Test Acc=0.7318\n"
          ]
        },
        {
          "name": "stderr",
          "output_type": "stream",
          "text": [
            "                                                                   \r"
          ]
        },
        {
          "name": "stdout",
          "output_type": "stream",
          "text": [
            "Epoch 31: Train Loss=0.7175, Train Acc=0.7529, Test Loss=0.9576, Test Acc=0.6867\n"
          ]
        },
        {
          "name": "stderr",
          "output_type": "stream",
          "text": [
            "                                                                   \r"
          ]
        },
        {
          "name": "stdout",
          "output_type": "stream",
          "text": [
            "Epoch 32: Train Loss=0.7130, Train Acc=0.7519, Test Loss=0.9003, Test Acc=0.7031\n"
          ]
        },
        {
          "name": "stderr",
          "output_type": "stream",
          "text": [
            "                                                                   \r"
          ]
        },
        {
          "name": "stdout",
          "output_type": "stream",
          "text": [
            "Epoch 33: Train Loss=0.7113, Train Acc=0.7520, Test Loss=0.9372, Test Acc=0.6805\n"
          ]
        },
        {
          "name": "stderr",
          "output_type": "stream",
          "text": [
            "                                                                   \r"
          ]
        },
        {
          "name": "stdout",
          "output_type": "stream",
          "text": [
            "Epoch 34: Train Loss=0.7090, Train Acc=0.7526, Test Loss=1.4394, Test Acc=0.5947\n"
          ]
        },
        {
          "name": "stderr",
          "output_type": "stream",
          "text": [
            "                                                                   \r"
          ]
        },
        {
          "name": "stdout",
          "output_type": "stream",
          "text": [
            "Epoch 35: Train Loss=0.7018, Train Acc=0.7576, Test Loss=0.8016, Test Acc=0.7423\n"
          ]
        },
        {
          "name": "stderr",
          "output_type": "stream",
          "text": [
            "                                                                   \r"
          ]
        },
        {
          "name": "stdout",
          "output_type": "stream",
          "text": [
            "Epoch 36: Train Loss=0.7014, Train Acc=0.7560, Test Loss=1.4297, Test Acc=0.6170\n"
          ]
        },
        {
          "name": "stderr",
          "output_type": "stream",
          "text": [
            "                                                                   \r"
          ]
        },
        {
          "name": "stdout",
          "output_type": "stream",
          "text": [
            "Epoch 37: Train Loss=0.7039, Train Acc=0.7558, Test Loss=0.9434, Test Acc=0.6995\n"
          ]
        },
        {
          "name": "stderr",
          "output_type": "stream",
          "text": [
            "                                                                   \r"
          ]
        },
        {
          "name": "stdout",
          "output_type": "stream",
          "text": [
            "Epoch 38: Train Loss=0.6984, Train Acc=0.7585, Test Loss=0.9683, Test Acc=0.6951\n"
          ]
        },
        {
          "name": "stderr",
          "output_type": "stream",
          "text": [
            "                                                                   \r"
          ]
        },
        {
          "name": "stdout",
          "output_type": "stream",
          "text": [
            "Epoch 39: Train Loss=0.6829, Train Acc=0.7631, Test Loss=1.1377, Test Acc=0.6661\n"
          ]
        },
        {
          "name": "stderr",
          "output_type": "stream",
          "text": [
            "                                                                   \r"
          ]
        },
        {
          "name": "stdout",
          "output_type": "stream",
          "text": [
            "Epoch 40: Train Loss=0.6924, Train Acc=0.7606, Test Loss=1.2917, Test Acc=0.6460\n"
          ]
        },
        {
          "name": "stderr",
          "output_type": "stream",
          "text": [
            "                                                                   \r"
          ]
        },
        {
          "name": "stdout",
          "output_type": "stream",
          "text": [
            "Epoch 41: Train Loss=0.6858, Train Acc=0.7596, Test Loss=0.6995, Test Acc=0.7623\n"
          ]
        },
        {
          "name": "stderr",
          "output_type": "stream",
          "text": [
            "                                                                   \r"
          ]
        },
        {
          "name": "stdout",
          "output_type": "stream",
          "text": [
            "Epoch 42: Train Loss=0.6847, Train Acc=0.7619, Test Loss=0.7923, Test Acc=0.7367\n"
          ]
        },
        {
          "name": "stderr",
          "output_type": "stream",
          "text": [
            "                                                                   \r"
          ]
        },
        {
          "name": "stdout",
          "output_type": "stream",
          "text": [
            "Epoch 43: Train Loss=0.6807, Train Acc=0.7661, Test Loss=0.8710, Test Acc=0.7148\n"
          ]
        },
        {
          "name": "stderr",
          "output_type": "stream",
          "text": [
            "                                                                   \r"
          ]
        },
        {
          "name": "stdout",
          "output_type": "stream",
          "text": [
            "Epoch 44: Train Loss=0.6798, Train Acc=0.7654, Test Loss=1.2685, Test Acc=0.6478\n"
          ]
        },
        {
          "name": "stderr",
          "output_type": "stream",
          "text": [
            "                                                                   \r"
          ]
        },
        {
          "name": "stdout",
          "output_type": "stream",
          "text": [
            "Epoch 45: Train Loss=0.6796, Train Acc=0.7656, Test Loss=1.5500, Test Acc=0.5810\n"
          ]
        },
        {
          "name": "stderr",
          "output_type": "stream",
          "text": [
            "                                                                   \r"
          ]
        },
        {
          "name": "stdout",
          "output_type": "stream",
          "text": [
            "Epoch 46: Train Loss=0.6836, Train Acc=0.7634, Test Loss=0.7541, Test Acc=0.7490\n"
          ]
        },
        {
          "name": "stderr",
          "output_type": "stream",
          "text": [
            "                                                                   \r"
          ]
        },
        {
          "name": "stdout",
          "output_type": "stream",
          "text": [
            "Epoch 47: Train Loss=0.6744, Train Acc=0.7683, Test Loss=1.3186, Test Acc=0.6316\n"
          ]
        },
        {
          "name": "stderr",
          "output_type": "stream",
          "text": [
            "                                                                   \r"
          ]
        },
        {
          "name": "stdout",
          "output_type": "stream",
          "text": [
            "Epoch 48: Train Loss=0.6682, Train Acc=0.7696, Test Loss=0.9579, Test Acc=0.7128\n"
          ]
        },
        {
          "name": "stderr",
          "output_type": "stream",
          "text": [
            "                                                                   \r"
          ]
        },
        {
          "name": "stdout",
          "output_type": "stream",
          "text": [
            "Epoch 49: Train Loss=0.6749, Train Acc=0.7675, Test Loss=1.9318, Test Acc=0.5394\n"
          ]
        },
        {
          "name": "stderr",
          "output_type": "stream",
          "text": [
            "                                                                   \r"
          ]
        },
        {
          "name": "stdout",
          "output_type": "stream",
          "text": [
            "Epoch 50: Train Loss=0.6739, Train Acc=0.7665, Test Loss=1.3884, Test Acc=0.5975\n"
          ]
        },
        {
          "name": "stderr",
          "output_type": "stream",
          "text": [
            "                                                                   \r"
          ]
        },
        {
          "name": "stdout",
          "output_type": "stream",
          "text": [
            "Epoch 51: Train Loss=0.6621, Train Acc=0.7711, Test Loss=0.7084, Test Acc=0.7780\n"
          ]
        },
        {
          "name": "stderr",
          "output_type": "stream",
          "text": [
            "                                                                   \r"
          ]
        },
        {
          "name": "stdout",
          "output_type": "stream",
          "text": [
            "Epoch 52: Train Loss=0.6561, Train Acc=0.7723, Test Loss=0.7581, Test Acc=0.7574\n"
          ]
        },
        {
          "name": "stderr",
          "output_type": "stream",
          "text": [
            "                                                                   \r"
          ]
        },
        {
          "name": "stdout",
          "output_type": "stream",
          "text": [
            "Epoch 53: Train Loss=0.6572, Train Acc=0.7722, Test Loss=0.8379, Test Acc=0.7311\n"
          ]
        },
        {
          "name": "stderr",
          "output_type": "stream",
          "text": [
            "                                                                   \r"
          ]
        },
        {
          "name": "stdout",
          "output_type": "stream",
          "text": [
            "Epoch 54: Train Loss=0.6601, Train Acc=0.7708, Test Loss=0.6202, Test Acc=0.7894\n"
          ]
        },
        {
          "name": "stderr",
          "output_type": "stream",
          "text": [
            "                                                                   \r"
          ]
        },
        {
          "name": "stdout",
          "output_type": "stream",
          "text": [
            "Epoch 55: Train Loss=0.6585, Train Acc=0.7714, Test Loss=0.7448, Test Acc=0.7597\n"
          ]
        },
        {
          "name": "stderr",
          "output_type": "stream",
          "text": [
            "                                                                   \r"
          ]
        },
        {
          "name": "stdout",
          "output_type": "stream",
          "text": [
            "Epoch 56: Train Loss=0.6569, Train Acc=0.7713, Test Loss=1.2373, Test Acc=0.6797\n"
          ]
        },
        {
          "name": "stderr",
          "output_type": "stream",
          "text": [
            "                                                                   \r"
          ]
        },
        {
          "name": "stdout",
          "output_type": "stream",
          "text": [
            "Epoch 57: Train Loss=0.6480, Train Acc=0.7751, Test Loss=0.7716, Test Acc=0.7420\n"
          ]
        },
        {
          "name": "stderr",
          "output_type": "stream",
          "text": [
            "                                                                   \r"
          ]
        },
        {
          "name": "stdout",
          "output_type": "stream",
          "text": [
            "Epoch 58: Train Loss=0.6488, Train Acc=0.7748, Test Loss=1.0504, Test Acc=0.6689\n"
          ]
        },
        {
          "name": "stderr",
          "output_type": "stream",
          "text": [
            "                                                                   \r"
          ]
        },
        {
          "name": "stdout",
          "output_type": "stream",
          "text": [
            "Epoch 59: Train Loss=0.6538, Train Acc=0.7736, Test Loss=0.5962, Test Acc=0.8001\n"
          ]
        },
        {
          "name": "stderr",
          "output_type": "stream",
          "text": [
            "                                                                   \r"
          ]
        },
        {
          "name": "stdout",
          "output_type": "stream",
          "text": [
            "Epoch 60: Train Loss=0.6459, Train Acc=0.7775, Test Loss=1.0565, Test Acc=0.6879\n"
          ]
        },
        {
          "name": "stderr",
          "output_type": "stream",
          "text": [
            "                                                                   \r"
          ]
        },
        {
          "name": "stdout",
          "output_type": "stream",
          "text": [
            "Epoch 61: Train Loss=0.6493, Train Acc=0.7746, Test Loss=0.9758, Test Acc=0.7008\n"
          ]
        },
        {
          "name": "stderr",
          "output_type": "stream",
          "text": [
            "                                                                   \r"
          ]
        },
        {
          "name": "stdout",
          "output_type": "stream",
          "text": [
            "Epoch 62: Train Loss=0.6487, Train Acc=0.7740, Test Loss=0.8640, Test Acc=0.7283\n"
          ]
        },
        {
          "name": "stderr",
          "output_type": "stream",
          "text": [
            "                                                                   \r"
          ]
        },
        {
          "name": "stdout",
          "output_type": "stream",
          "text": [
            "Epoch 63: Train Loss=0.6403, Train Acc=0.7769, Test Loss=0.6784, Test Acc=0.7720\n"
          ]
        },
        {
          "name": "stderr",
          "output_type": "stream",
          "text": [
            "                                                                   \r"
          ]
        },
        {
          "name": "stdout",
          "output_type": "stream",
          "text": [
            "Epoch 64: Train Loss=0.6413, Train Acc=0.7794, Test Loss=0.6413, Test Acc=0.7887\n"
          ]
        },
        {
          "name": "stderr",
          "output_type": "stream",
          "text": [
            "                                                                   \r"
          ]
        },
        {
          "name": "stdout",
          "output_type": "stream",
          "text": [
            "Epoch 65: Train Loss=0.6448, Train Acc=0.7749, Test Loss=1.0678, Test Acc=0.6753\n"
          ]
        },
        {
          "name": "stderr",
          "output_type": "stream",
          "text": [
            "                                                                   \r"
          ]
        },
        {
          "name": "stdout",
          "output_type": "stream",
          "text": [
            "Epoch 66: Train Loss=0.6355, Train Acc=0.7819, Test Loss=0.8200, Test Acc=0.7371\n"
          ]
        },
        {
          "name": "stderr",
          "output_type": "stream",
          "text": [
            "                                                                   \r"
          ]
        },
        {
          "name": "stdout",
          "output_type": "stream",
          "text": [
            "Epoch 67: Train Loss=0.6381, Train Acc=0.7780, Test Loss=1.4815, Test Acc=0.6041\n"
          ]
        },
        {
          "name": "stderr",
          "output_type": "stream",
          "text": [
            "                                                                   \r"
          ]
        },
        {
          "name": "stdout",
          "output_type": "stream",
          "text": [
            "Epoch 68: Train Loss=0.6308, Train Acc=0.7815, Test Loss=0.6492, Test Acc=0.7870\n"
          ]
        },
        {
          "name": "stderr",
          "output_type": "stream",
          "text": [
            "                                                                   \r"
          ]
        },
        {
          "name": "stdout",
          "output_type": "stream",
          "text": [
            "Epoch 69: Train Loss=0.6282, Train Acc=0.7823, Test Loss=0.9498, Test Acc=0.7104\n"
          ]
        },
        {
          "name": "stderr",
          "output_type": "stream",
          "text": [
            "                                                                   \r"
          ]
        },
        {
          "name": "stdout",
          "output_type": "stream",
          "text": [
            "Epoch 70: Train Loss=0.6223, Train Acc=0.7823, Test Loss=1.2922, Test Acc=0.6400\n"
          ]
        },
        {
          "name": "stderr",
          "output_type": "stream",
          "text": [
            "                                                                   \r"
          ]
        },
        {
          "name": "stdout",
          "output_type": "stream",
          "text": [
            "Epoch 71: Train Loss=0.6345, Train Acc=0.7787, Test Loss=0.7720, Test Acc=0.7558\n"
          ]
        },
        {
          "name": "stderr",
          "output_type": "stream",
          "text": [
            "                                                                   \r"
          ]
        },
        {
          "name": "stdout",
          "output_type": "stream",
          "text": [
            "Epoch 72: Train Loss=0.6163, Train Acc=0.7867, Test Loss=0.8496, Test Acc=0.7302\n"
          ]
        },
        {
          "name": "stderr",
          "output_type": "stream",
          "text": [
            "                                                                   \r"
          ]
        },
        {
          "name": "stdout",
          "output_type": "stream",
          "text": [
            "Epoch 73: Train Loss=0.6260, Train Acc=0.7841, Test Loss=0.6765, Test Acc=0.7770\n"
          ]
        },
        {
          "name": "stderr",
          "output_type": "stream",
          "text": [
            "                                                                   \r"
          ]
        },
        {
          "name": "stdout",
          "output_type": "stream",
          "text": [
            "Epoch 74: Train Loss=0.6213, Train Acc=0.7851, Test Loss=1.0566, Test Acc=0.6756\n"
          ]
        },
        {
          "name": "stderr",
          "output_type": "stream",
          "text": [
            "                                                                   \r"
          ]
        },
        {
          "name": "stdout",
          "output_type": "stream",
          "text": [
            "Epoch 75: Train Loss=0.6269, Train Acc=0.7851, Test Loss=0.7586, Test Acc=0.7543\n"
          ]
        },
        {
          "name": "stderr",
          "output_type": "stream",
          "text": [
            "                                                                   \r"
          ]
        },
        {
          "name": "stdout",
          "output_type": "stream",
          "text": [
            "Epoch 76: Train Loss=0.6212, Train Acc=0.7853, Test Loss=0.9823, Test Acc=0.7113\n"
          ]
        },
        {
          "name": "stderr",
          "output_type": "stream",
          "text": [
            "                                                                   \r"
          ]
        },
        {
          "name": "stdout",
          "output_type": "stream",
          "text": [
            "Epoch 77: Train Loss=0.6218, Train Acc=0.7862, Test Loss=1.1956, Test Acc=0.6466\n"
          ]
        },
        {
          "name": "stderr",
          "output_type": "stream",
          "text": [
            "                                                                   \r"
          ]
        },
        {
          "name": "stdout",
          "output_type": "stream",
          "text": [
            "Epoch 78: Train Loss=0.6156, Train Acc=0.7881, Test Loss=0.7765, Test Acc=0.7490\n"
          ]
        },
        {
          "name": "stderr",
          "output_type": "stream",
          "text": [
            "                                                                   \r"
          ]
        },
        {
          "name": "stdout",
          "output_type": "stream",
          "text": [
            "Epoch 79: Train Loss=0.6080, Train Acc=0.7904, Test Loss=1.0426, Test Acc=0.6959\n"
          ]
        },
        {
          "name": "stderr",
          "output_type": "stream",
          "text": [
            "                                                                   \r"
          ]
        },
        {
          "name": "stdout",
          "output_type": "stream",
          "text": [
            "Epoch 80: Train Loss=0.6091, Train Acc=0.7901, Test Loss=1.1121, Test Acc=0.6832\n"
          ]
        },
        {
          "name": "stderr",
          "output_type": "stream",
          "text": [
            "                                                                   \r"
          ]
        },
        {
          "name": "stdout",
          "output_type": "stream",
          "text": [
            "Epoch 81: Train Loss=0.6159, Train Acc=0.7861, Test Loss=0.6279, Test Acc=0.7986\n"
          ]
        },
        {
          "name": "stderr",
          "output_type": "stream",
          "text": [
            "                                                                   \r"
          ]
        },
        {
          "name": "stdout",
          "output_type": "stream",
          "text": [
            "Epoch 82: Train Loss=0.6024, Train Acc=0.7918, Test Loss=1.1731, Test Acc=0.6925\n"
          ]
        },
        {
          "name": "stderr",
          "output_type": "stream",
          "text": [
            "                                                                   \r"
          ]
        },
        {
          "name": "stdout",
          "output_type": "stream",
          "text": [
            "Epoch 83: Train Loss=0.6003, Train Acc=0.7918, Test Loss=0.9307, Test Acc=0.7330\n"
          ]
        },
        {
          "name": "stderr",
          "output_type": "stream",
          "text": [
            "                                                                   \r"
          ]
        },
        {
          "name": "stdout",
          "output_type": "stream",
          "text": [
            "Epoch 84: Train Loss=0.5999, Train Acc=0.7939, Test Loss=0.7810, Test Acc=0.7464\n"
          ]
        },
        {
          "name": "stderr",
          "output_type": "stream",
          "text": [
            "                                                                   \r"
          ]
        },
        {
          "name": "stdout",
          "output_type": "stream",
          "text": [
            "Epoch 85: Train Loss=0.5933, Train Acc=0.7932, Test Loss=1.2352, Test Acc=0.6624\n"
          ]
        },
        {
          "name": "stderr",
          "output_type": "stream",
          "text": [
            "                                                                   \r"
          ]
        },
        {
          "name": "stdout",
          "output_type": "stream",
          "text": [
            "Epoch 86: Train Loss=0.6008, Train Acc=0.7914, Test Loss=1.0773, Test Acc=0.6576\n"
          ]
        },
        {
          "name": "stderr",
          "output_type": "stream",
          "text": [
            "                                                                   \r"
          ]
        },
        {
          "name": "stdout",
          "output_type": "stream",
          "text": [
            "Epoch 87: Train Loss=0.6002, Train Acc=0.7916, Test Loss=0.8440, Test Acc=0.7397\n"
          ]
        },
        {
          "name": "stderr",
          "output_type": "stream",
          "text": [
            "                                                                   \r"
          ]
        },
        {
          "name": "stdout",
          "output_type": "stream",
          "text": [
            "Epoch 88: Train Loss=0.5918, Train Acc=0.7956, Test Loss=1.2068, Test Acc=0.6712\n"
          ]
        },
        {
          "name": "stderr",
          "output_type": "stream",
          "text": [
            "                                                                   \r"
          ]
        },
        {
          "name": "stdout",
          "output_type": "stream",
          "text": [
            "Epoch 89: Train Loss=0.5931, Train Acc=0.7943, Test Loss=0.7513, Test Acc=0.7535\n"
          ]
        },
        {
          "name": "stderr",
          "output_type": "stream",
          "text": [
            "                                                                   \r"
          ]
        },
        {
          "name": "stdout",
          "output_type": "stream",
          "text": [
            "Epoch 90: Train Loss=0.5899, Train Acc=0.7977, Test Loss=1.2018, Test Acc=0.6796\n"
          ]
        },
        {
          "name": "stderr",
          "output_type": "stream",
          "text": [
            "                                                                   \r"
          ]
        },
        {
          "name": "stdout",
          "output_type": "stream",
          "text": [
            "Epoch 91: Train Loss=0.5835, Train Acc=0.7981, Test Loss=0.7137, Test Acc=0.7612\n"
          ]
        },
        {
          "name": "stderr",
          "output_type": "stream",
          "text": [
            "                                                                   \r"
          ]
        },
        {
          "name": "stdout",
          "output_type": "stream",
          "text": [
            "Epoch 92: Train Loss=0.5830, Train Acc=0.7959, Test Loss=1.0948, Test Acc=0.6793\n"
          ]
        },
        {
          "name": "stderr",
          "output_type": "stream",
          "text": [
            "                                                                   \r"
          ]
        },
        {
          "name": "stdout",
          "output_type": "stream",
          "text": [
            "Epoch 93: Train Loss=0.5833, Train Acc=0.7977, Test Loss=1.0450, Test Acc=0.7090\n"
          ]
        },
        {
          "name": "stderr",
          "output_type": "stream",
          "text": [
            "                                                                   \r"
          ]
        },
        {
          "name": "stdout",
          "output_type": "stream",
          "text": [
            "Epoch 94: Train Loss=0.5869, Train Acc=0.7955, Test Loss=0.7886, Test Acc=0.7452\n"
          ]
        },
        {
          "name": "stderr",
          "output_type": "stream",
          "text": [
            "                                                                   \r"
          ]
        },
        {
          "name": "stdout",
          "output_type": "stream",
          "text": [
            "Epoch 95: Train Loss=0.5785, Train Acc=0.7985, Test Loss=0.9605, Test Acc=0.7172\n"
          ]
        },
        {
          "name": "stderr",
          "output_type": "stream",
          "text": [
            "                                                                   \r"
          ]
        },
        {
          "name": "stdout",
          "output_type": "stream",
          "text": [
            "Epoch 96: Train Loss=0.5812, Train Acc=0.7993, Test Loss=1.0921, Test Acc=0.7057\n"
          ]
        },
        {
          "name": "stderr",
          "output_type": "stream",
          "text": [
            "                                                                   \r"
          ]
        },
        {
          "name": "stdout",
          "output_type": "stream",
          "text": [
            "Epoch 97: Train Loss=0.5811, Train Acc=0.8005, Test Loss=0.9643, Test Acc=0.6926\n"
          ]
        },
        {
          "name": "stderr",
          "output_type": "stream",
          "text": [
            "                                                                   \r"
          ]
        },
        {
          "name": "stdout",
          "output_type": "stream",
          "text": [
            "Epoch 98: Train Loss=0.5686, Train Acc=0.8050, Test Loss=0.6777, Test Acc=0.7875\n"
          ]
        },
        {
          "name": "stderr",
          "output_type": "stream",
          "text": [
            "                                                                   \r"
          ]
        },
        {
          "name": "stdout",
          "output_type": "stream",
          "text": [
            "Epoch 99: Train Loss=0.5788, Train Acc=0.7989, Test Loss=0.6967, Test Acc=0.7721\n"
          ]
        },
        {
          "name": "stderr",
          "output_type": "stream",
          "text": [
            "                                                                   \r"
          ]
        },
        {
          "name": "stdout",
          "output_type": "stream",
          "text": [
            "Epoch 100: Train Loss=0.5607, Train Acc=0.8051, Test Loss=0.9286, Test Acc=0.7453\n"
          ]
        },
        {
          "name": "stderr",
          "output_type": "stream",
          "text": [
            "                                                                   \r"
          ]
        },
        {
          "name": "stdout",
          "output_type": "stream",
          "text": [
            "Epoch 101: Train Loss=0.5660, Train Acc=0.8049, Test Loss=0.9844, Test Acc=0.7220\n"
          ]
        },
        {
          "name": "stderr",
          "output_type": "stream",
          "text": [
            "                                                                   \r"
          ]
        },
        {
          "name": "stdout",
          "output_type": "stream",
          "text": [
            "Epoch 102: Train Loss=0.5709, Train Acc=0.8017, Test Loss=1.1823, Test Acc=0.6658\n"
          ]
        },
        {
          "name": "stderr",
          "output_type": "stream",
          "text": [
            "                                                                   \r"
          ]
        },
        {
          "name": "stdout",
          "output_type": "stream",
          "text": [
            "Epoch 103: Train Loss=0.5633, Train Acc=0.8052, Test Loss=0.9023, Test Acc=0.7192\n"
          ]
        },
        {
          "name": "stderr",
          "output_type": "stream",
          "text": [
            "                                                                   \r"
          ]
        },
        {
          "name": "stdout",
          "output_type": "stream",
          "text": [
            "Epoch 104: Train Loss=0.5617, Train Acc=0.8061, Test Loss=1.1723, Test Acc=0.6749\n"
          ]
        },
        {
          "name": "stderr",
          "output_type": "stream",
          "text": [
            "                                                                   \r"
          ]
        },
        {
          "name": "stdout",
          "output_type": "stream",
          "text": [
            "Epoch 105: Train Loss=0.5585, Train Acc=0.8045, Test Loss=0.7279, Test Acc=0.7661\n"
          ]
        },
        {
          "name": "stderr",
          "output_type": "stream",
          "text": [
            "                                                                   \r"
          ]
        },
        {
          "name": "stdout",
          "output_type": "stream",
          "text": [
            "Epoch 106: Train Loss=0.5533, Train Acc=0.8085, Test Loss=0.8350, Test Acc=0.7551\n"
          ]
        },
        {
          "name": "stderr",
          "output_type": "stream",
          "text": [
            "                                                                   \r"
          ]
        },
        {
          "name": "stdout",
          "output_type": "stream",
          "text": [
            "Epoch 107: Train Loss=0.5472, Train Acc=0.8111, Test Loss=0.6845, Test Acc=0.7867\n"
          ]
        },
        {
          "name": "stderr",
          "output_type": "stream",
          "text": [
            "                                                                   \r"
          ]
        },
        {
          "name": "stdout",
          "output_type": "stream",
          "text": [
            "Epoch 108: Train Loss=0.5482, Train Acc=0.8105, Test Loss=0.7641, Test Acc=0.7562\n"
          ]
        },
        {
          "name": "stderr",
          "output_type": "stream",
          "text": [
            "                                                                   \r"
          ]
        },
        {
          "name": "stdout",
          "output_type": "stream",
          "text": [
            "Epoch 109: Train Loss=0.5487, Train Acc=0.8109, Test Loss=0.6426, Test Acc=0.7905\n"
          ]
        },
        {
          "name": "stderr",
          "output_type": "stream",
          "text": [
            "                                                                   \r"
          ]
        },
        {
          "name": "stdout",
          "output_type": "stream",
          "text": [
            "Epoch 110: Train Loss=0.5447, Train Acc=0.8102, Test Loss=0.8089, Test Acc=0.7602\n"
          ]
        },
        {
          "name": "stderr",
          "output_type": "stream",
          "text": [
            "                                                                   \r"
          ]
        },
        {
          "name": "stdout",
          "output_type": "stream",
          "text": [
            "Epoch 111: Train Loss=0.5460, Train Acc=0.8117, Test Loss=0.6348, Test Acc=0.7978\n"
          ]
        },
        {
          "name": "stderr",
          "output_type": "stream",
          "text": [
            "                                                                   \r"
          ]
        },
        {
          "name": "stdout",
          "output_type": "stream",
          "text": [
            "Epoch 112: Train Loss=0.5444, Train Acc=0.8118, Test Loss=0.9296, Test Acc=0.7072\n"
          ]
        },
        {
          "name": "stderr",
          "output_type": "stream",
          "text": [
            "                                                                   \r"
          ]
        },
        {
          "name": "stdout",
          "output_type": "stream",
          "text": [
            "Epoch 113: Train Loss=0.5439, Train Acc=0.8114, Test Loss=0.5064, Test Acc=0.8291\n"
          ]
        },
        {
          "name": "stderr",
          "output_type": "stream",
          "text": [
            "                                                                   \r"
          ]
        },
        {
          "name": "stdout",
          "output_type": "stream",
          "text": [
            "Epoch 114: Train Loss=0.5338, Train Acc=0.8163, Test Loss=0.6705, Test Acc=0.7755\n"
          ]
        },
        {
          "name": "stderr",
          "output_type": "stream",
          "text": [
            "                                                                   \r"
          ]
        },
        {
          "name": "stdout",
          "output_type": "stream",
          "text": [
            "Epoch 115: Train Loss=0.5345, Train Acc=0.8151, Test Loss=0.6071, Test Acc=0.8024\n"
          ]
        },
        {
          "name": "stderr",
          "output_type": "stream",
          "text": [
            "                                                                   \r"
          ]
        },
        {
          "name": "stdout",
          "output_type": "stream",
          "text": [
            "Epoch 116: Train Loss=0.5300, Train Acc=0.8148, Test Loss=0.7710, Test Acc=0.7686\n"
          ]
        },
        {
          "name": "stderr",
          "output_type": "stream",
          "text": [
            "                                                                   \r"
          ]
        },
        {
          "name": "stdout",
          "output_type": "stream",
          "text": [
            "Epoch 117: Train Loss=0.5332, Train Acc=0.8176, Test Loss=0.6097, Test Acc=0.7929\n"
          ]
        },
        {
          "name": "stderr",
          "output_type": "stream",
          "text": [
            "                                                                   \r"
          ]
        },
        {
          "name": "stdout",
          "output_type": "stream",
          "text": [
            "Epoch 118: Train Loss=0.5277, Train Acc=0.8186, Test Loss=0.9304, Test Acc=0.7379\n"
          ]
        },
        {
          "name": "stderr",
          "output_type": "stream",
          "text": [
            "                                                                   \r"
          ]
        },
        {
          "name": "stdout",
          "output_type": "stream",
          "text": [
            "Epoch 119: Train Loss=0.5203, Train Acc=0.8219, Test Loss=0.5631, Test Acc=0.8098\n"
          ]
        },
        {
          "name": "stderr",
          "output_type": "stream",
          "text": [
            "                                                                   \r"
          ]
        },
        {
          "name": "stdout",
          "output_type": "stream",
          "text": [
            "Epoch 120: Train Loss=0.5248, Train Acc=0.8184, Test Loss=0.6070, Test Acc=0.7970\n"
          ]
        },
        {
          "name": "stderr",
          "output_type": "stream",
          "text": [
            "                                                                   \r"
          ]
        },
        {
          "name": "stdout",
          "output_type": "stream",
          "text": [
            "Epoch 121: Train Loss=0.5155, Train Acc=0.8216, Test Loss=1.9188, Test Acc=0.5677\n"
          ]
        },
        {
          "name": "stderr",
          "output_type": "stream",
          "text": [
            "                                                                   \r"
          ]
        },
        {
          "name": "stdout",
          "output_type": "stream",
          "text": [
            "Epoch 122: Train Loss=0.5188, Train Acc=0.8186, Test Loss=0.9047, Test Acc=0.7408\n"
          ]
        },
        {
          "name": "stderr",
          "output_type": "stream",
          "text": [
            "                                                                   \r"
          ]
        },
        {
          "name": "stdout",
          "output_type": "stream",
          "text": [
            "Epoch 123: Train Loss=0.5155, Train Acc=0.8228, Test Loss=0.6115, Test Acc=0.8033\n"
          ]
        },
        {
          "name": "stderr",
          "output_type": "stream",
          "text": [
            "                                                                   \r"
          ]
        },
        {
          "name": "stdout",
          "output_type": "stream",
          "text": [
            "Epoch 124: Train Loss=0.5163, Train Acc=0.8211, Test Loss=1.0544, Test Acc=0.6835\n"
          ]
        },
        {
          "name": "stderr",
          "output_type": "stream",
          "text": [
            "                                                                   \r"
          ]
        },
        {
          "name": "stdout",
          "output_type": "stream",
          "text": [
            "Epoch 125: Train Loss=0.5092, Train Acc=0.8233, Test Loss=0.8168, Test Acc=0.7315\n"
          ]
        },
        {
          "name": "stderr",
          "output_type": "stream",
          "text": [
            "                                                                   \r"
          ]
        },
        {
          "name": "stdout",
          "output_type": "stream",
          "text": [
            "Epoch 126: Train Loss=0.5073, Train Acc=0.8259, Test Loss=0.6004, Test Acc=0.8001\n"
          ]
        },
        {
          "name": "stderr",
          "output_type": "stream",
          "text": [
            "                                                                   \r"
          ]
        },
        {
          "name": "stdout",
          "output_type": "stream",
          "text": [
            "Epoch 127: Train Loss=0.5019, Train Acc=0.8274, Test Loss=0.6920, Test Acc=0.7840\n"
          ]
        },
        {
          "name": "stderr",
          "output_type": "stream",
          "text": [
            "                                                                   \r"
          ]
        },
        {
          "name": "stdout",
          "output_type": "stream",
          "text": [
            "Epoch 128: Train Loss=0.4993, Train Acc=0.8276, Test Loss=0.6741, Test Acc=0.7886\n"
          ]
        },
        {
          "name": "stderr",
          "output_type": "stream",
          "text": [
            "                                                                   \r"
          ]
        },
        {
          "name": "stdout",
          "output_type": "stream",
          "text": [
            "Epoch 129: Train Loss=0.5009, Train Acc=0.8269, Test Loss=0.5845, Test Acc=0.8078\n"
          ]
        },
        {
          "name": "stderr",
          "output_type": "stream",
          "text": [
            "                                                                   \r"
          ]
        },
        {
          "name": "stdout",
          "output_type": "stream",
          "text": [
            "Epoch 130: Train Loss=0.4961, Train Acc=0.8288, Test Loss=0.4777, Test Acc=0.8445\n"
          ]
        },
        {
          "name": "stderr",
          "output_type": "stream",
          "text": [
            "                                                                   \r"
          ]
        },
        {
          "name": "stdout",
          "output_type": "stream",
          "text": [
            "Epoch 131: Train Loss=0.4896, Train Acc=0.8304, Test Loss=0.6897, Test Acc=0.7781\n"
          ]
        },
        {
          "name": "stderr",
          "output_type": "stream",
          "text": [
            "                                                                   \r"
          ]
        },
        {
          "name": "stdout",
          "output_type": "stream",
          "text": [
            "Epoch 132: Train Loss=0.4942, Train Acc=0.8284, Test Loss=0.8224, Test Acc=0.7555\n"
          ]
        },
        {
          "name": "stderr",
          "output_type": "stream",
          "text": [
            "                                                                   \r"
          ]
        },
        {
          "name": "stdout",
          "output_type": "stream",
          "text": [
            "Epoch 133: Train Loss=0.4791, Train Acc=0.8332, Test Loss=0.8455, Test Acc=0.7498\n"
          ]
        },
        {
          "name": "stderr",
          "output_type": "stream",
          "text": [
            "                                                                   \r"
          ]
        },
        {
          "name": "stdout",
          "output_type": "stream",
          "text": [
            "Epoch 134: Train Loss=0.4936, Train Acc=0.8300, Test Loss=0.6995, Test Acc=0.7741\n"
          ]
        },
        {
          "name": "stderr",
          "output_type": "stream",
          "text": [
            "                                                                   \r"
          ]
        },
        {
          "name": "stdout",
          "output_type": "stream",
          "text": [
            "Epoch 135: Train Loss=0.4802, Train Acc=0.8332, Test Loss=0.4692, Test Acc=0.8444\n"
          ]
        },
        {
          "name": "stderr",
          "output_type": "stream",
          "text": [
            "                                                                   \r"
          ]
        },
        {
          "name": "stdout",
          "output_type": "stream",
          "text": [
            "Epoch 136: Train Loss=0.4751, Train Acc=0.8345, Test Loss=0.7277, Test Acc=0.7673\n"
          ]
        },
        {
          "name": "stderr",
          "output_type": "stream",
          "text": [
            "                                                                   \r"
          ]
        },
        {
          "name": "stdout",
          "output_type": "stream",
          "text": [
            "Epoch 137: Train Loss=0.4763, Train Acc=0.8346, Test Loss=0.6751, Test Acc=0.7796\n"
          ]
        },
        {
          "name": "stderr",
          "output_type": "stream",
          "text": [
            "                                                                   \r"
          ]
        },
        {
          "name": "stdout",
          "output_type": "stream",
          "text": [
            "Epoch 138: Train Loss=0.4679, Train Acc=0.8368, Test Loss=0.4750, Test Acc=0.8406\n"
          ]
        },
        {
          "name": "stderr",
          "output_type": "stream",
          "text": [
            "                                                                   \r"
          ]
        },
        {
          "name": "stdout",
          "output_type": "stream",
          "text": [
            "Epoch 139: Train Loss=0.4654, Train Acc=0.8378, Test Loss=0.6579, Test Acc=0.7979\n"
          ]
        },
        {
          "name": "stderr",
          "output_type": "stream",
          "text": [
            "                                                                   \r"
          ]
        },
        {
          "name": "stdout",
          "output_type": "stream",
          "text": [
            "Epoch 140: Train Loss=0.4703, Train Acc=0.8383, Test Loss=0.8141, Test Acc=0.7473\n"
          ]
        },
        {
          "name": "stderr",
          "output_type": "stream",
          "text": [
            "                                                                   \r"
          ]
        },
        {
          "name": "stdout",
          "output_type": "stream",
          "text": [
            "Epoch 141: Train Loss=0.4635, Train Acc=0.8396, Test Loss=0.5503, Test Acc=0.8179\n"
          ]
        },
        {
          "name": "stderr",
          "output_type": "stream",
          "text": [
            "                                                                   \r"
          ]
        },
        {
          "name": "stdout",
          "output_type": "stream",
          "text": [
            "Epoch 142: Train Loss=0.4609, Train Acc=0.8398, Test Loss=0.5080, Test Acc=0.8352\n"
          ]
        },
        {
          "name": "stderr",
          "output_type": "stream",
          "text": [
            "                                                                   \r"
          ]
        },
        {
          "name": "stdout",
          "output_type": "stream",
          "text": [
            "Epoch 143: Train Loss=0.4539, Train Acc=0.8434, Test Loss=0.6850, Test Acc=0.7890\n"
          ]
        },
        {
          "name": "stderr",
          "output_type": "stream",
          "text": [
            "                                                                   \r"
          ]
        },
        {
          "name": "stdout",
          "output_type": "stream",
          "text": [
            "Epoch 144: Train Loss=0.4558, Train Acc=0.8420, Test Loss=0.6592, Test Acc=0.7938\n"
          ]
        },
        {
          "name": "stderr",
          "output_type": "stream",
          "text": [
            "                                                                   \r"
          ]
        },
        {
          "name": "stdout",
          "output_type": "stream",
          "text": [
            "Epoch 145: Train Loss=0.4540, Train Acc=0.8430, Test Loss=0.8852, Test Acc=0.7309\n"
          ]
        },
        {
          "name": "stderr",
          "output_type": "stream",
          "text": [
            "                                                                   \r"
          ]
        },
        {
          "name": "stdout",
          "output_type": "stream",
          "text": [
            "Epoch 146: Train Loss=0.4539, Train Acc=0.8424, Test Loss=0.4784, Test Acc=0.8411\n"
          ]
        },
        {
          "name": "stderr",
          "output_type": "stream",
          "text": [
            "                                                                   \r"
          ]
        },
        {
          "name": "stdout",
          "output_type": "stream",
          "text": [
            "Epoch 147: Train Loss=0.4475, Train Acc=0.8451, Test Loss=0.6731, Test Acc=0.7855\n"
          ]
        },
        {
          "name": "stderr",
          "output_type": "stream",
          "text": [
            "                                                                   \r"
          ]
        },
        {
          "name": "stdout",
          "output_type": "stream",
          "text": [
            "Epoch 148: Train Loss=0.4325, Train Acc=0.8505, Test Loss=1.1974, Test Acc=0.7070\n"
          ]
        },
        {
          "name": "stderr",
          "output_type": "stream",
          "text": [
            "                                                                   \r"
          ]
        },
        {
          "name": "stdout",
          "output_type": "stream",
          "text": [
            "Epoch 149: Train Loss=0.4463, Train Acc=0.8460, Test Loss=0.4865, Test Acc=0.8433\n"
          ]
        },
        {
          "name": "stderr",
          "output_type": "stream",
          "text": [
            "                                                                   \r"
          ]
        },
        {
          "name": "stdout",
          "output_type": "stream",
          "text": [
            "Epoch 150: Train Loss=0.4397, Train Acc=0.8478, Test Loss=0.8923, Test Acc=0.7419\n"
          ]
        },
        {
          "name": "stderr",
          "output_type": "stream",
          "text": [
            "                                                                   \r"
          ]
        },
        {
          "name": "stdout",
          "output_type": "stream",
          "text": [
            "Epoch 151: Train Loss=0.4362, Train Acc=0.8497, Test Loss=0.8939, Test Acc=0.7571\n"
          ]
        },
        {
          "name": "stderr",
          "output_type": "stream",
          "text": [
            "                                                                   \r"
          ]
        },
        {
          "name": "stdout",
          "output_type": "stream",
          "text": [
            "Epoch 152: Train Loss=0.4303, Train Acc=0.8519, Test Loss=0.5364, Test Acc=0.8262\n"
          ]
        },
        {
          "name": "stderr",
          "output_type": "stream",
          "text": [
            "                                                                   \r"
          ]
        },
        {
          "name": "stdout",
          "output_type": "stream",
          "text": [
            "Epoch 153: Train Loss=0.4303, Train Acc=0.8495, Test Loss=0.6078, Test Acc=0.8189\n"
          ]
        },
        {
          "name": "stderr",
          "output_type": "stream",
          "text": [
            "                                                                   \r"
          ]
        },
        {
          "name": "stdout",
          "output_type": "stream",
          "text": [
            "Epoch 154: Train Loss=0.4275, Train Acc=0.8535, Test Loss=0.5730, Test Acc=0.8178\n"
          ]
        },
        {
          "name": "stderr",
          "output_type": "stream",
          "text": [
            "                                                                   \r"
          ]
        },
        {
          "name": "stdout",
          "output_type": "stream",
          "text": [
            "Epoch 155: Train Loss=0.4218, Train Acc=0.8532, Test Loss=0.5912, Test Acc=0.8237\n"
          ]
        },
        {
          "name": "stderr",
          "output_type": "stream",
          "text": [
            "                                                                   \r"
          ]
        },
        {
          "name": "stdout",
          "output_type": "stream",
          "text": [
            "Epoch 156: Train Loss=0.4243, Train Acc=0.8524, Test Loss=0.5357, Test Acc=0.8252\n"
          ]
        },
        {
          "name": "stderr",
          "output_type": "stream",
          "text": [
            "                                                                   \r"
          ]
        },
        {
          "name": "stdout",
          "output_type": "stream",
          "text": [
            "Epoch 157: Train Loss=0.4124, Train Acc=0.8557, Test Loss=0.5442, Test Acc=0.8211\n"
          ]
        },
        {
          "name": "stderr",
          "output_type": "stream",
          "text": [
            "                                                                   \r"
          ]
        },
        {
          "name": "stdout",
          "output_type": "stream",
          "text": [
            "Epoch 158: Train Loss=0.4075, Train Acc=0.8587, Test Loss=0.5822, Test Acc=0.8192\n"
          ]
        },
        {
          "name": "stderr",
          "output_type": "stream",
          "text": [
            "                                                                   \r"
          ]
        },
        {
          "name": "stdout",
          "output_type": "stream",
          "text": [
            "Epoch 159: Train Loss=0.4085, Train Acc=0.8576, Test Loss=0.6172, Test Acc=0.8051\n"
          ]
        },
        {
          "name": "stderr",
          "output_type": "stream",
          "text": [
            "                                                                   \r"
          ]
        },
        {
          "name": "stdout",
          "output_type": "stream",
          "text": [
            "Epoch 160: Train Loss=0.4063, Train Acc=0.8588, Test Loss=0.5162, Test Acc=0.8355\n"
          ]
        },
        {
          "name": "stderr",
          "output_type": "stream",
          "text": [
            "                                                                   \r"
          ]
        },
        {
          "name": "stdout",
          "output_type": "stream",
          "text": [
            "Epoch 161: Train Loss=0.3995, Train Acc=0.8609, Test Loss=0.7034, Test Acc=0.8012\n"
          ]
        },
        {
          "name": "stderr",
          "output_type": "stream",
          "text": [
            "                                                                   \r"
          ]
        },
        {
          "name": "stdout",
          "output_type": "stream",
          "text": [
            "Epoch 162: Train Loss=0.3982, Train Acc=0.8616, Test Loss=0.4842, Test Acc=0.8437\n"
          ]
        },
        {
          "name": "stderr",
          "output_type": "stream",
          "text": [
            "                                                                   \r"
          ]
        },
        {
          "name": "stdout",
          "output_type": "stream",
          "text": [
            "Epoch 163: Train Loss=0.3921, Train Acc=0.8645, Test Loss=0.6772, Test Acc=0.7958\n"
          ]
        },
        {
          "name": "stderr",
          "output_type": "stream",
          "text": [
            "                                                                   \r"
          ]
        },
        {
          "name": "stdout",
          "output_type": "stream",
          "text": [
            "Epoch 164: Train Loss=0.3918, Train Acc=0.8642, Test Loss=0.4562, Test Acc=0.8551\n"
          ]
        },
        {
          "name": "stderr",
          "output_type": "stream",
          "text": [
            "                                                                   \r"
          ]
        },
        {
          "name": "stdout",
          "output_type": "stream",
          "text": [
            "Epoch 165: Train Loss=0.3876, Train Acc=0.8662, Test Loss=0.4395, Test Acc=0.8546\n"
          ]
        },
        {
          "name": "stderr",
          "output_type": "stream",
          "text": [
            "                                                                   \r"
          ]
        },
        {
          "name": "stdout",
          "output_type": "stream",
          "text": [
            "Epoch 166: Train Loss=0.3836, Train Acc=0.8677, Test Loss=0.4377, Test Acc=0.8595\n"
          ]
        },
        {
          "name": "stderr",
          "output_type": "stream",
          "text": [
            "                                                                   \r"
          ]
        },
        {
          "name": "stdout",
          "output_type": "stream",
          "text": [
            "Epoch 167: Train Loss=0.3795, Train Acc=0.8702, Test Loss=0.6028, Test Acc=0.8187\n"
          ]
        },
        {
          "name": "stderr",
          "output_type": "stream",
          "text": [
            "                                                                   \r"
          ]
        },
        {
          "name": "stdout",
          "output_type": "stream",
          "text": [
            "Epoch 168: Train Loss=0.3702, Train Acc=0.8727, Test Loss=0.5517, Test Acc=0.8220\n"
          ]
        },
        {
          "name": "stderr",
          "output_type": "stream",
          "text": [
            "                                                                   \r"
          ]
        },
        {
          "name": "stdout",
          "output_type": "stream",
          "text": [
            "Epoch 169: Train Loss=0.3705, Train Acc=0.8715, Test Loss=0.6139, Test Acc=0.8165\n"
          ]
        },
        {
          "name": "stderr",
          "output_type": "stream",
          "text": [
            "                                                                   \r"
          ]
        },
        {
          "name": "stdout",
          "output_type": "stream",
          "text": [
            "Epoch 170: Train Loss=0.3702, Train Acc=0.8706, Test Loss=0.6189, Test Acc=0.8222\n"
          ]
        },
        {
          "name": "stderr",
          "output_type": "stream",
          "text": [
            "                                                                   \r"
          ]
        },
        {
          "name": "stdout",
          "output_type": "stream",
          "text": [
            "Epoch 171: Train Loss=0.3641, Train Acc=0.8751, Test Loss=0.4695, Test Acc=0.8489\n"
          ]
        },
        {
          "name": "stderr",
          "output_type": "stream",
          "text": [
            "                                                                   \r"
          ]
        },
        {
          "name": "stdout",
          "output_type": "stream",
          "text": [
            "Epoch 172: Train Loss=0.3621, Train Acc=0.8748, Test Loss=0.4386, Test Acc=0.8583\n"
          ]
        },
        {
          "name": "stderr",
          "output_type": "stream",
          "text": [
            "                                                                   \r"
          ]
        },
        {
          "name": "stdout",
          "output_type": "stream",
          "text": [
            "Epoch 173: Train Loss=0.3581, Train Acc=0.8760, Test Loss=0.4659, Test Acc=0.8520\n"
          ]
        },
        {
          "name": "stderr",
          "output_type": "stream",
          "text": [
            "                                                                   \r"
          ]
        },
        {
          "name": "stdout",
          "output_type": "stream",
          "text": [
            "Epoch 174: Train Loss=0.3520, Train Acc=0.8773, Test Loss=0.4394, Test Acc=0.8619\n"
          ]
        },
        {
          "name": "stderr",
          "output_type": "stream",
          "text": [
            "                                                                   \r"
          ]
        },
        {
          "name": "stdout",
          "output_type": "stream",
          "text": [
            "Epoch 175: Train Loss=0.3492, Train Acc=0.8779, Test Loss=0.5856, Test Acc=0.8263\n"
          ]
        },
        {
          "name": "stderr",
          "output_type": "stream",
          "text": [
            "                                                                   \r"
          ]
        },
        {
          "name": "stdout",
          "output_type": "stream",
          "text": [
            "Epoch 176: Train Loss=0.3440, Train Acc=0.8801, Test Loss=0.5197, Test Acc=0.8312\n"
          ]
        },
        {
          "name": "stderr",
          "output_type": "stream",
          "text": [
            "                                                                   \r"
          ]
        },
        {
          "name": "stdout",
          "output_type": "stream",
          "text": [
            "Epoch 177: Train Loss=0.3425, Train Acc=0.8799, Test Loss=0.6835, Test Acc=0.8040\n"
          ]
        },
        {
          "name": "stderr",
          "output_type": "stream",
          "text": [
            "                                                                   \r"
          ]
        },
        {
          "name": "stdout",
          "output_type": "stream",
          "text": [
            "Epoch 178: Train Loss=0.3343, Train Acc=0.8842, Test Loss=0.4510, Test Acc=0.8591\n"
          ]
        },
        {
          "name": "stderr",
          "output_type": "stream",
          "text": [
            "                                                                   \r"
          ]
        },
        {
          "name": "stdout",
          "output_type": "stream",
          "text": [
            "Epoch 179: Train Loss=0.3345, Train Acc=0.8838, Test Loss=0.4372, Test Acc=0.8643\n"
          ]
        },
        {
          "name": "stderr",
          "output_type": "stream",
          "text": [
            "                                                                   \r"
          ]
        },
        {
          "name": "stdout",
          "output_type": "stream",
          "text": [
            "Epoch 180: Train Loss=0.3239, Train Acc=0.8886, Test Loss=0.5195, Test Acc=0.8385\n"
          ]
        },
        {
          "name": "stderr",
          "output_type": "stream",
          "text": [
            "                                                                   \r"
          ]
        },
        {
          "name": "stdout",
          "output_type": "stream",
          "text": [
            "Epoch 181: Train Loss=0.3278, Train Acc=0.8861, Test Loss=0.6427, Test Acc=0.8124\n"
          ]
        },
        {
          "name": "stderr",
          "output_type": "stream",
          "text": [
            "                                                                   \r"
          ]
        },
        {
          "name": "stdout",
          "output_type": "stream",
          "text": [
            "Epoch 182: Train Loss=0.3170, Train Acc=0.8899, Test Loss=0.3686, Test Acc=0.8827\n"
          ]
        },
        {
          "name": "stderr",
          "output_type": "stream",
          "text": [
            "                                                                   \r"
          ]
        },
        {
          "name": "stdout",
          "output_type": "stream",
          "text": [
            "Epoch 183: Train Loss=0.3182, Train Acc=0.8894, Test Loss=0.4195, Test Acc=0.8674\n"
          ]
        },
        {
          "name": "stderr",
          "output_type": "stream",
          "text": [
            "                                                                   \r"
          ]
        },
        {
          "name": "stdout",
          "output_type": "stream",
          "text": [
            "Epoch 184: Train Loss=0.3101, Train Acc=0.8919, Test Loss=0.5347, Test Acc=0.8361\n"
          ]
        },
        {
          "name": "stderr",
          "output_type": "stream",
          "text": [
            "                                                                   \r"
          ]
        },
        {
          "name": "stdout",
          "output_type": "stream",
          "text": [
            "Epoch 185: Train Loss=0.3094, Train Acc=0.8919, Test Loss=0.4887, Test Acc=0.8513\n"
          ]
        },
        {
          "name": "stderr",
          "output_type": "stream",
          "text": [
            "                                                                   \r"
          ]
        },
        {
          "name": "stdout",
          "output_type": "stream",
          "text": [
            "Epoch 186: Train Loss=0.3040, Train Acc=0.8939, Test Loss=0.3771, Test Acc=0.8784\n"
          ]
        },
        {
          "name": "stderr",
          "output_type": "stream",
          "text": [
            "                                                                   \r"
          ]
        },
        {
          "name": "stdout",
          "output_type": "stream",
          "text": [
            "Epoch 187: Train Loss=0.2997, Train Acc=0.8957, Test Loss=0.4519, Test Acc=0.8642\n"
          ]
        },
        {
          "name": "stderr",
          "output_type": "stream",
          "text": [
            "                                                                   \r"
          ]
        },
        {
          "name": "stdout",
          "output_type": "stream",
          "text": [
            "Epoch 188: Train Loss=0.2943, Train Acc=0.8977, Test Loss=0.4502, Test Acc=0.8668\n"
          ]
        },
        {
          "name": "stderr",
          "output_type": "stream",
          "text": [
            "                                                                   \r"
          ]
        },
        {
          "name": "stdout",
          "output_type": "stream",
          "text": [
            "Epoch 189: Train Loss=0.2948, Train Acc=0.8975, Test Loss=0.3925, Test Acc=0.8796\n"
          ]
        },
        {
          "name": "stderr",
          "output_type": "stream",
          "text": [
            "                                                                   \r"
          ]
        },
        {
          "name": "stdout",
          "output_type": "stream",
          "text": [
            "Epoch 190: Train Loss=0.2846, Train Acc=0.9025, Test Loss=0.5544, Test Acc=0.8413\n"
          ]
        },
        {
          "name": "stderr",
          "output_type": "stream",
          "text": [
            "                                                                   \r"
          ]
        },
        {
          "name": "stdout",
          "output_type": "stream",
          "text": [
            "Epoch 191: Train Loss=0.2784, Train Acc=0.9052, Test Loss=0.4270, Test Acc=0.8704\n"
          ]
        },
        {
          "name": "stderr",
          "output_type": "stream",
          "text": [
            "                                                                   \r"
          ]
        },
        {
          "name": "stdout",
          "output_type": "stream",
          "text": [
            "Epoch 192: Train Loss=0.2731, Train Acc=0.9037, Test Loss=0.3469, Test Acc=0.8890\n"
          ]
        },
        {
          "name": "stderr",
          "output_type": "stream",
          "text": [
            "                                                                   \r"
          ]
        },
        {
          "name": "stdout",
          "output_type": "stream",
          "text": [
            "Epoch 193: Train Loss=0.2705, Train Acc=0.9060, Test Loss=0.4139, Test Acc=0.8748\n"
          ]
        },
        {
          "name": "stderr",
          "output_type": "stream",
          "text": [
            "                                                                   \r"
          ]
        },
        {
          "name": "stdout",
          "output_type": "stream",
          "text": [
            "Epoch 194: Train Loss=0.2669, Train Acc=0.9065, Test Loss=0.4563, Test Acc=0.8618\n"
          ]
        },
        {
          "name": "stderr",
          "output_type": "stream",
          "text": [
            "                                                                   \r"
          ]
        },
        {
          "name": "stdout",
          "output_type": "stream",
          "text": [
            "Epoch 195: Train Loss=0.2609, Train Acc=0.9091, Test Loss=0.4266, Test Acc=0.8695\n"
          ]
        },
        {
          "name": "stderr",
          "output_type": "stream",
          "text": [
            "                                                                   \r"
          ]
        },
        {
          "name": "stdout",
          "output_type": "stream",
          "text": [
            "Epoch 196: Train Loss=0.2557, Train Acc=0.9113, Test Loss=0.4758, Test Acc=0.8620\n"
          ]
        },
        {
          "name": "stderr",
          "output_type": "stream",
          "text": [
            "                                                                   \r"
          ]
        },
        {
          "name": "stdout",
          "output_type": "stream",
          "text": [
            "Epoch 197: Train Loss=0.2534, Train Acc=0.9115, Test Loss=0.4552, Test Acc=0.8637\n"
          ]
        },
        {
          "name": "stderr",
          "output_type": "stream",
          "text": [
            "                                                                   \r"
          ]
        },
        {
          "name": "stdout",
          "output_type": "stream",
          "text": [
            "Epoch 198: Train Loss=0.2463, Train Acc=0.9155, Test Loss=0.3547, Test Acc=0.8903\n"
          ]
        },
        {
          "name": "stderr",
          "output_type": "stream",
          "text": [
            "                                                                   \r"
          ]
        },
        {
          "name": "stdout",
          "output_type": "stream",
          "text": [
            "Epoch 199: Train Loss=0.2409, Train Acc=0.9165, Test Loss=0.4215, Test Acc=0.8702\n"
          ]
        },
        {
          "name": "stderr",
          "output_type": "stream",
          "text": [
            "                                                                   \r"
          ]
        },
        {
          "name": "stdout",
          "output_type": "stream",
          "text": [
            "Epoch 200: Train Loss=0.2387, Train Acc=0.9176, Test Loss=0.3516, Test Acc=0.8945\n"
          ]
        },
        {
          "name": "stderr",
          "output_type": "stream",
          "text": [
            "                                                                   \r"
          ]
        },
        {
          "name": "stdout",
          "output_type": "stream",
          "text": [
            "Epoch 201: Train Loss=0.2312, Train Acc=0.9204, Test Loss=0.3534, Test Acc=0.8925\n"
          ]
        },
        {
          "name": "stderr",
          "output_type": "stream",
          "text": [
            "                                                                   \r"
          ]
        },
        {
          "name": "stdout",
          "output_type": "stream",
          "text": [
            "Epoch 202: Train Loss=0.2305, Train Acc=0.9197, Test Loss=0.3940, Test Acc=0.8849\n"
          ]
        },
        {
          "name": "stderr",
          "output_type": "stream",
          "text": [
            "                                                                   \r"
          ]
        },
        {
          "name": "stdout",
          "output_type": "stream",
          "text": [
            "Epoch 203: Train Loss=0.2258, Train Acc=0.9215, Test Loss=0.3532, Test Acc=0.8929\n"
          ]
        },
        {
          "name": "stderr",
          "output_type": "stream",
          "text": [
            "                                                                   \r"
          ]
        },
        {
          "name": "stdout",
          "output_type": "stream",
          "text": [
            "Epoch 204: Train Loss=0.2221, Train Acc=0.9230, Test Loss=0.3246, Test Acc=0.9016\n"
          ]
        },
        {
          "name": "stderr",
          "output_type": "stream",
          "text": [
            "                                                                   \r"
          ]
        },
        {
          "name": "stdout",
          "output_type": "stream",
          "text": [
            "Epoch 205: Train Loss=0.2124, Train Acc=0.9254, Test Loss=0.3262, Test Acc=0.8996\n"
          ]
        },
        {
          "name": "stderr",
          "output_type": "stream",
          "text": [
            "                                                                   \r"
          ]
        },
        {
          "name": "stdout",
          "output_type": "stream",
          "text": [
            "Epoch 206: Train Loss=0.2072, Train Acc=0.9292, Test Loss=0.3769, Test Acc=0.8843\n"
          ]
        },
        {
          "name": "stderr",
          "output_type": "stream",
          "text": [
            "                                                                   \r"
          ]
        },
        {
          "name": "stdout",
          "output_type": "stream",
          "text": [
            "Epoch 207: Train Loss=0.2043, Train Acc=0.9285, Test Loss=0.4248, Test Acc=0.8738\n"
          ]
        },
        {
          "name": "stderr",
          "output_type": "stream",
          "text": [
            "                                                                   \r"
          ]
        },
        {
          "name": "stdout",
          "output_type": "stream",
          "text": [
            "Epoch 208: Train Loss=0.1958, Train Acc=0.9315, Test Loss=0.3814, Test Acc=0.8860\n"
          ]
        },
        {
          "name": "stderr",
          "output_type": "stream",
          "text": [
            "                                                                   \r"
          ]
        },
        {
          "name": "stdout",
          "output_type": "stream",
          "text": [
            "Epoch 209: Train Loss=0.1925, Train Acc=0.9341, Test Loss=0.4847, Test Acc=0.8656\n"
          ]
        },
        {
          "name": "stderr",
          "output_type": "stream",
          "text": [
            "                                                                   \r"
          ]
        },
        {
          "name": "stdout",
          "output_type": "stream",
          "text": [
            "Epoch 210: Train Loss=0.1853, Train Acc=0.9361, Test Loss=0.3719, Test Acc=0.8879\n"
          ]
        },
        {
          "name": "stderr",
          "output_type": "stream",
          "text": [
            "                                                                   \r"
          ]
        },
        {
          "name": "stdout",
          "output_type": "stream",
          "text": [
            "Epoch 211: Train Loss=0.1825, Train Acc=0.9375, Test Loss=0.3583, Test Acc=0.8929\n"
          ]
        },
        {
          "name": "stderr",
          "output_type": "stream",
          "text": [
            "                                                                   \r"
          ]
        },
        {
          "name": "stdout",
          "output_type": "stream",
          "text": [
            "Epoch 212: Train Loss=0.1753, Train Acc=0.9404, Test Loss=0.3629, Test Acc=0.8944\n"
          ]
        },
        {
          "name": "stderr",
          "output_type": "stream",
          "text": [
            "                                                                   \r"
          ]
        },
        {
          "name": "stdout",
          "output_type": "stream",
          "text": [
            "Epoch 213: Train Loss=0.1758, Train Acc=0.9398, Test Loss=0.3856, Test Acc=0.8847\n"
          ]
        },
        {
          "name": "stderr",
          "output_type": "stream",
          "text": [
            "                                                                   \r"
          ]
        },
        {
          "name": "stdout",
          "output_type": "stream",
          "text": [
            "Epoch 214: Train Loss=0.1671, Train Acc=0.9443, Test Loss=0.3330, Test Acc=0.9006\n"
          ]
        },
        {
          "name": "stderr",
          "output_type": "stream",
          "text": [
            "                                                                   \r"
          ]
        },
        {
          "name": "stdout",
          "output_type": "stream",
          "text": [
            "Epoch 215: Train Loss=0.1628, Train Acc=0.9451, Test Loss=0.3014, Test Acc=0.9101\n"
          ]
        },
        {
          "name": "stderr",
          "output_type": "stream",
          "text": [
            "                                                                   \r"
          ]
        },
        {
          "name": "stdout",
          "output_type": "stream",
          "text": [
            "Epoch 216: Train Loss=0.1583, Train Acc=0.9459, Test Loss=0.3072, Test Acc=0.9094\n"
          ]
        },
        {
          "name": "stderr",
          "output_type": "stream",
          "text": [
            "                                                                   \r"
          ]
        },
        {
          "name": "stdout",
          "output_type": "stream",
          "text": [
            "Epoch 217: Train Loss=0.1497, Train Acc=0.9506, Test Loss=0.3228, Test Acc=0.9072\n"
          ]
        },
        {
          "name": "stderr",
          "output_type": "stream",
          "text": [
            "                                                                   \r"
          ]
        },
        {
          "name": "stdout",
          "output_type": "stream",
          "text": [
            "Epoch 218: Train Loss=0.1467, Train Acc=0.9507, Test Loss=0.2881, Test Acc=0.9139\n"
          ]
        },
        {
          "name": "stderr",
          "output_type": "stream",
          "text": [
            "                                                                   \r"
          ]
        },
        {
          "name": "stdout",
          "output_type": "stream",
          "text": [
            "Epoch 219: Train Loss=0.1409, Train Acc=0.9521, Test Loss=0.3054, Test Acc=0.9103\n"
          ]
        },
        {
          "name": "stderr",
          "output_type": "stream",
          "text": [
            "                                                                   \r"
          ]
        },
        {
          "name": "stdout",
          "output_type": "stream",
          "text": [
            "Epoch 220: Train Loss=0.1361, Train Acc=0.9546, Test Loss=0.2969, Test Acc=0.9107\n"
          ]
        },
        {
          "name": "stderr",
          "output_type": "stream",
          "text": [
            "                                                                   \r"
          ]
        },
        {
          "name": "stdout",
          "output_type": "stream",
          "text": [
            "Epoch 221: Train Loss=0.1291, Train Acc=0.9572, Test Loss=0.3104, Test Acc=0.9111\n"
          ]
        },
        {
          "name": "stderr",
          "output_type": "stream",
          "text": [
            "                                                                   \r"
          ]
        },
        {
          "name": "stdout",
          "output_type": "stream",
          "text": [
            "Epoch 222: Train Loss=0.1312, Train Acc=0.9564, Test Loss=0.3018, Test Acc=0.9089\n"
          ]
        },
        {
          "name": "stderr",
          "output_type": "stream",
          "text": [
            "                                                                   \r"
          ]
        },
        {
          "name": "stdout",
          "output_type": "stream",
          "text": [
            "Epoch 223: Train Loss=0.1258, Train Acc=0.9588, Test Loss=0.3154, Test Acc=0.9045\n"
          ]
        },
        {
          "name": "stderr",
          "output_type": "stream",
          "text": [
            "                                                                   \r"
          ]
        },
        {
          "name": "stdout",
          "output_type": "stream",
          "text": [
            "Epoch 224: Train Loss=0.1200, Train Acc=0.9618, Test Loss=0.2758, Test Acc=0.9198\n"
          ]
        },
        {
          "name": "stderr",
          "output_type": "stream",
          "text": [
            "                                                                   \r"
          ]
        },
        {
          "name": "stdout",
          "output_type": "stream",
          "text": [
            "Epoch 225: Train Loss=0.1175, Train Acc=0.9611, Test Loss=0.2830, Test Acc=0.9171\n"
          ]
        },
        {
          "name": "stderr",
          "output_type": "stream",
          "text": [
            "                                                                   \r"
          ]
        },
        {
          "name": "stdout",
          "output_type": "stream",
          "text": [
            "Epoch 226: Train Loss=0.1132, Train Acc=0.9629, Test Loss=0.2813, Test Acc=0.9189\n"
          ]
        },
        {
          "name": "stderr",
          "output_type": "stream",
          "text": [
            "                                                                   \r"
          ]
        },
        {
          "name": "stdout",
          "output_type": "stream",
          "text": [
            "Epoch 227: Train Loss=0.1103, Train Acc=0.9648, Test Loss=0.2705, Test Acc=0.9198\n"
          ]
        },
        {
          "name": "stderr",
          "output_type": "stream",
          "text": [
            "                                                                   \r"
          ]
        },
        {
          "name": "stdout",
          "output_type": "stream",
          "text": [
            "Epoch 228: Train Loss=0.1086, Train Acc=0.9641, Test Loss=0.2663, Test Acc=0.9224\n"
          ]
        },
        {
          "name": "stderr",
          "output_type": "stream",
          "text": [
            "                                                                   \r"
          ]
        },
        {
          "name": "stdout",
          "output_type": "stream",
          "text": [
            "Epoch 229: Train Loss=0.1033, Train Acc=0.9671, Test Loss=0.2705, Test Acc=0.9197\n"
          ]
        },
        {
          "name": "stderr",
          "output_type": "stream",
          "text": [
            "                                                                   \r"
          ]
        },
        {
          "name": "stdout",
          "output_type": "stream",
          "text": [
            "Epoch 230: Train Loss=0.1012, Train Acc=0.9674, Test Loss=0.2659, Test Acc=0.9194\n"
          ]
        },
        {
          "name": "stderr",
          "output_type": "stream",
          "text": [
            "                                                                   \r"
          ]
        },
        {
          "name": "stdout",
          "output_type": "stream",
          "text": [
            "Epoch 231: Train Loss=0.0989, Train Acc=0.9685, Test Loss=0.2601, Test Acc=0.9242\n"
          ]
        },
        {
          "name": "stderr",
          "output_type": "stream",
          "text": [
            "                                                                   \r"
          ]
        },
        {
          "name": "stdout",
          "output_type": "stream",
          "text": [
            "Epoch 232: Train Loss=0.0966, Train Acc=0.9691, Test Loss=0.2565, Test Acc=0.9252\n"
          ]
        },
        {
          "name": "stderr",
          "output_type": "stream",
          "text": [
            "                                                                   \r"
          ]
        },
        {
          "name": "stdout",
          "output_type": "stream",
          "text": [
            "Epoch 233: Train Loss=0.0929, Train Acc=0.9711, Test Loss=0.2480, Test Acc=0.9289\n"
          ]
        },
        {
          "name": "stderr",
          "output_type": "stream",
          "text": [
            "                                                                   \r"
          ]
        },
        {
          "name": "stdout",
          "output_type": "stream",
          "text": [
            "Epoch 234: Train Loss=0.0900, Train Acc=0.9719, Test Loss=0.2517, Test Acc=0.9260\n"
          ]
        },
        {
          "name": "stderr",
          "output_type": "stream",
          "text": [
            "                                                                   \r"
          ]
        },
        {
          "name": "stdout",
          "output_type": "stream",
          "text": [
            "Epoch 235: Train Loss=0.0867, Train Acc=0.9731, Test Loss=0.2476, Test Acc=0.9263\n"
          ]
        },
        {
          "name": "stderr",
          "output_type": "stream",
          "text": [
            "                                                                   \r"
          ]
        },
        {
          "name": "stdout",
          "output_type": "stream",
          "text": [
            "Epoch 236: Train Loss=0.0868, Train Acc=0.9730, Test Loss=0.2467, Test Acc=0.9284\n"
          ]
        },
        {
          "name": "stderr",
          "output_type": "stream",
          "text": [
            "                                                                   \r"
          ]
        },
        {
          "name": "stdout",
          "output_type": "stream",
          "text": [
            "Epoch 237: Train Loss=0.0866, Train Acc=0.9726, Test Loss=0.2499, Test Acc=0.9259\n"
          ]
        },
        {
          "name": "stderr",
          "output_type": "stream",
          "text": [
            "                                                                   \r"
          ]
        },
        {
          "name": "stdout",
          "output_type": "stream",
          "text": [
            "Epoch 238: Train Loss=0.0823, Train Acc=0.9744, Test Loss=0.2452, Test Acc=0.9287\n"
          ]
        },
        {
          "name": "stderr",
          "output_type": "stream",
          "text": [
            "                                                                   \r"
          ]
        },
        {
          "name": "stdout",
          "output_type": "stream",
          "text": [
            "Epoch 239: Train Loss=0.0834, Train Acc=0.9737, Test Loss=0.2494, Test Acc=0.9271\n"
          ]
        },
        {
          "name": "stderr",
          "output_type": "stream",
          "text": [
            "                                                                   \r"
          ]
        },
        {
          "name": "stdout",
          "output_type": "stream",
          "text": [
            "Epoch 240: Train Loss=0.0813, Train Acc=0.9745, Test Loss=0.2481, Test Acc=0.9267\n"
          ]
        },
        {
          "name": "stderr",
          "output_type": "stream",
          "text": [
            "                                                                   \r"
          ]
        },
        {
          "name": "stdout",
          "output_type": "stream",
          "text": [
            "Epoch 241: Train Loss=0.0829, Train Acc=0.9743, Test Loss=0.2483, Test Acc=0.9279\n"
          ]
        },
        {
          "name": "stderr",
          "output_type": "stream",
          "text": [
            "                                                                   \r"
          ]
        },
        {
          "name": "stdout",
          "output_type": "stream",
          "text": [
            "Epoch 242: Train Loss=0.0787, Train Acc=0.9759, Test Loss=0.2451, Test Acc=0.9291\n"
          ]
        },
        {
          "name": "stderr",
          "output_type": "stream",
          "text": [
            "                                                                   \r"
          ]
        },
        {
          "name": "stdout",
          "output_type": "stream",
          "text": [
            "Epoch 243: Train Loss=0.0787, Train Acc=0.9760, Test Loss=0.2465, Test Acc=0.9281\n"
          ]
        },
        {
          "name": "stderr",
          "output_type": "stream",
          "text": [
            "                                                                   \r"
          ]
        },
        {
          "name": "stdout",
          "output_type": "stream",
          "text": [
            "Epoch 244: Train Loss=0.0780, Train Acc=0.9763, Test Loss=0.2435, Test Acc=0.9290\n"
          ]
        },
        {
          "name": "stderr",
          "output_type": "stream",
          "text": [
            "                                                                   \r"
          ]
        },
        {
          "name": "stdout",
          "output_type": "stream",
          "text": [
            "Epoch 245: Train Loss=0.0771, Train Acc=0.9771, Test Loss=0.2452, Test Acc=0.9287\n"
          ]
        },
        {
          "name": "stderr",
          "output_type": "stream",
          "text": [
            "                                                                   \r"
          ]
        },
        {
          "name": "stdout",
          "output_type": "stream",
          "text": [
            "Epoch 246: Train Loss=0.0770, Train Acc=0.9770, Test Loss=0.2457, Test Acc=0.9288\n"
          ]
        },
        {
          "name": "stderr",
          "output_type": "stream",
          "text": [
            "                                                                   \r"
          ]
        },
        {
          "name": "stdout",
          "output_type": "stream",
          "text": [
            "Epoch 247: Train Loss=0.0772, Train Acc=0.9761, Test Loss=0.2442, Test Acc=0.9281\n"
          ]
        },
        {
          "name": "stderr",
          "output_type": "stream",
          "text": [
            "                                                                   \r"
          ]
        },
        {
          "name": "stdout",
          "output_type": "stream",
          "text": [
            "Epoch 248: Train Loss=0.0766, Train Acc=0.9766, Test Loss=0.2448, Test Acc=0.9287\n"
          ]
        },
        {
          "name": "stderr",
          "output_type": "stream",
          "text": [
            "                                                                   \r"
          ]
        },
        {
          "name": "stdout",
          "output_type": "stream",
          "text": [
            "Epoch 249: Train Loss=0.0757, Train Acc=0.9763, Test Loss=0.2460, Test Acc=0.9285\n"
          ]
        },
        {
          "name": "stderr",
          "output_type": "stream",
          "text": [
            "                                                                   \r"
          ]
        },
        {
          "name": "stdout",
          "output_type": "stream",
          "text": [
            "Epoch 250: Train Loss=0.0747, Train Acc=0.9773, Test Loss=0.2458, Test Acc=0.9278\n"
          ]
        },
        {
          "data": {
            "image/png": "[encoded data removed]",
            "text/plain": [
              "<Figure size 720x288 with 1 Axes>"
            ]
          },
          "metadata": {
            "needs_background": "light"
          },
          "output_type": "display_data"
        },
        {
          "data": {
            "image/png": "[encoded data removed]",
            "text/plain": [
              "<Figure size 720x288 with 1 Axes>"
            ]
          },
          "metadata": {
            "needs_background": "light"
          },
          "output_type": "display_data"
        },
        {
          "name": "stdout",
          "output_type": "stream",
          "text": [
            "\n",
            "🎯 Best Testing Accuracy: 0.9291\n"
          ]
        }
      ],
      "source": [
        "from torchvision import transforms\n",
        "\n",
        "\n",
        "def load_data_cifar10(batch_size, resize=None):\n",
        "    normalize = transforms.Normalize(\n",
        "        mean=[0.4915, 0.4823, 0.4468],\n",
        "        std=[0.2470, 0.2435, 0.2616]\n",
        "    )\n",
        "\n",
        "    train_transforms = transforms.Compose([\n",
        "        transforms.RandomRotation(15),\n",
        "        transforms.RandAugment(),\n",
        "        transforms.RandomHorizontalFlip(),\n",
        "        transforms.RandomCrop(32, padding=4),\n",
        "        transforms.ToTensor(),\n",
        "        normalize\n",
        "    ])\n",
        "\n",
        "    test_transforms = transforms.Compose([\n",
        "        transforms.ToTensor(),\n",
        "        normalize\n",
        "    ])\n",
        "\n",
        "    cifar_train = torchvision.datasets.CIFAR10(\n",
        "        root=\"../data\", train=True, transform=train_transforms, download=True)\n",
        "    cifar_test = torchvision.datasets.CIFAR10(\n",
        "        root=\"../data\", train=False, transform=test_transforms, download=True)\n",
        "\n",
        "    return (\n",
        "        torch.utils.data.DataLoader(cifar_train, batch_size, shuffle=True, num_workers=2, pin_memory=True),\n",
        "        torch.utils.data.DataLoader(cifar_test, batch_size, shuffle=False, num_workers=2, pin_memory=True)\n",
        "    )\n",
        "\n",
        "def train_model(model, train_loader, test_loader, device,\n",
        "                num_epochs=250, lr=0.1):\n",
        "    model.to(device)\n",
        "    loss_fn = nn.CrossEntropyLoss()\n",
        "\n",
        "    # SGD with momentum\n",
        "    optimizer = torch.optim.SGD(\n",
        "        model.parameters(), lr=lr, momentum=0.9, weight_decay=5e-4\n",
        "    )\n",
        "\n",
        "    # Cosine Annealing LR scheduler\n",
        "    scheduler = torch.optim.lr_scheduler.CosineAnnealingLR(optimizer, T_max=num_epochs)\n",
        "\n",
        "    history = {\n",
        "        'train_loss': [],\n",
        "        'test_loss': [],\n",
        "        'train_acc': [],\n",
        "        'test_acc': [],\n",
        "        'batch_losses': []\n",
        "    }\n",
        "\n",
        "    for epoch in range(num_epochs):\n",
        "        train_loss, train_acc, batch_losses = train_epoch(model, train_loader, loss_fn, optimizer, device)\n",
        "        test_loss, test_acc = evaluate(model, test_loader, loss_fn, device)\n",
        "\n",
        "        history['train_loss'].append(train_loss)\n",
        "        history['test_loss'].append(test_loss)\n",
        "        history['train_acc'].append(train_acc)\n",
        "        history['test_acc'].append(test_acc)\n",
        "        history['batch_losses'].extend(batch_losses)\n",
        "\n",
        "        scheduler.step()\n",
        "\n",
        "        print(f\"Epoch {epoch+1}: \"\n",
        "              f\"Train Loss={train_loss:.4f}, Train Acc={train_acc:.4f}, \"\n",
        "              f\"Test Loss={test_loss:.4f}, Test Acc={test_acc:.4f}\")\n",
        "\n",
        "    plot_batch_losses(history['batch_losses'])\n",
        "    plot_epoch_accuracies(history['train_acc'], history['test_acc'])\n",
        "\n",
        "    best_test_acc = max(history['test_acc'])\n",
        "    print(f\"\\n🎯 Best Testing Accuracy: {best_test_acc:.4f}\")\n",
        "\n",
        "    return history\n",
        "\n",
        "K = 6\n",
        "L = 4\n",
        "out_channels_per_block = 128\n",
        "output_hidden_units = 128\n",
        "batch_size = 128\n",
        "num_epochs = 250\n",
        "learning_rate = 0.1\n",
        "\n",
        "conv_params_template = [\n",
        "    {'kernel_size': 3, 'padding': 1},\n",
        "    {'kernel_size': 3, 'padding': 1},\n",
        "    {'kernel_size': 3, 'padding': 1},\n",
        "    {'kernel_size': 3, 'padding': 1}\n",
        "]\n",
        "conv_params_per_block = [conv_params_template for _ in range(K)]\n",
        "model = CIFAR10CustomNet(\n",
        "    in_channels=3,\n",
        "    num_blocks=K,\n",
        "    conv_params_per_block=conv_params_per_block,\n",
        "    out_channels_per_block=out_channels_per_block,\n",
        "    output_hidden_units=output_hidden_units\n",
        ")\n",
        "train_iter, test_iter = load_data_cifar10(batch_size)\n",
        "device = torch.device('cuda' if torch.cuda.is_available() else 'gpu')\n",
        "history_imp3 = train_model(\n",
        "    model, train_iter, test_iter, device,\n",
        "    num_epochs=num_epochs,\n",
        "    lr=learning_rate\n",
        ")"
      ]
    },
    {
      "cell_type": "markdown",
      "metadata": {
        "id": "U_hoL9iqRWvg"
      },
      "source": [
        "more epochs"
      ]
    }
  ],
  "metadata": {
    "accelerator": "GPU",
    "colab": {
      "gpuType": "T4",
      "provenance": []
    },
    "kernelspec": {
      "display_name": "Python 3",
      "name": "python3"
    },
    "language_info": {
      "codemirror_mode": {
        "name": "ipython",
        "version": 3
      },
      "file_extension": ".py",
      "mimetype": "text/x-python",
      "name": "python",
      "nbconvert_exporter": "python",
      "pygments_lexer": "ipython3",
      "version": "3.10.12"
    }
  },
  "nbformat": 4,
  "nbformat_minor": 0
}